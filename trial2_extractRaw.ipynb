{
 "cells": [
  {
   "cell_type": "code",
   "execution_count": 1,
   "id": "ab5c09fb",
   "metadata": {},
   "outputs": [],
   "source": [
    "import ROOT"
   ]
  },
  {
   "cell_type": "code",
   "execution_count": 2,
   "id": "550666b9",
   "metadata": {},
   "outputs": [],
   "source": [
    "treepath = \"fmmtrackerana/RC_Tree\"\n",
    "filepath = \"rootfiles_monopoles/combined_hist_fmmtriggered_21039_32454_9144_files.root\""
   ]
  },
  {
   "cell_type": "code",
   "execution_count": 3,
   "id": "de637c6c",
   "metadata": {},
   "outputs": [],
   "source": [
    "source_df = ROOT.RDataFrame(treepath, filepath)"
   ]
  },
  {
   "cell_type": "code",
   "execution_count": 4,
   "id": "aa06ba91",
   "metadata": {},
   "outputs": [
    {
     "data": {
      "text/plain": [
       "vector<string>{ \"ADC_tot\", \"Chi2_per_ndf\", \"Chisqr_TN\", \"Chisqr_TS\", \"GeV_tot\", \"MIP_tot\", \"Run\", \"Tf\", \"Ti\", \"Xf\", \"Xi\", \"Yf\", \"Yi\", \"Zf\", \"Zi\", \"adc_W\", \"docasqrx\", \"docasqrx_cells_on_track\", \"docasqrx_max\", \"docasqrx_min\", \"docasqry\", \"docasqry_cells_on_track\", \"docasqry_max\", \"docasqry_min\", \"event\", \"lxsqr\", \"lysqr\", \"max_gap\", \"miss_plane\", \"nhits_sat\", \"nxhits\", \"nyhits\", \"p_cross\", \"p_overlap\", \"subRun\", \"tSat_mean\", \"tSat_rms\", \"t_max\", \"t_min\", \"tfit_mean\", \"tfit_rms\", \"tnonSat_mean\", \"tnonSat_rms\", \"tns_max\", \"tns_mean\", \"tns_min\", \"tns_rms\", \"vSat_err\", \"vnonSat_err\", \"vrc_fit\", \"vrc_nonsat\", \"vrc_sat\", \"x_tmax\", \"x_tmin\", \"y_tmax\", \"y_tmin\", \"z_tmax\", \"z_tmin\" }"
      ]
     },
     "execution_count": 4,
     "metadata": {},
     "output_type": "execute_result"
    }
   ],
   "source": [
    "source_df.GetColumnNames()"
   ]
  },
  {
   "cell_type": "code",
   "execution_count": 6,
   "id": "f7cc4feb",
   "metadata": {},
   "outputs": [
    {
     "data": {
      "text/plain": [
       "<cppyy.gbl.ROOT.RDF.RResultPtr<ROOT::RDF::RInterface<ROOT::Detail::RDF::RLoopManager,void> > object at 0x598232e54890>"
      ]
     },
     "execution_count": 6,
     "metadata": {},
     "output_type": "execute_result"
    }
   ],
   "source": [
    "source_df.Snapshot(\"InputTreeBg\", \"inputBg.root\", [\"Xi\",\"Xf\", \"Yi\", \"Yf\", \"Zi\", \"Zf\", \"Ti\", \"Tf\", \"GeV_tot\", \"nxhits\", \"nyhits\", \"ADC_tot\", \"vrc_fit\", \"p_cross\", \"docasqrx\", \"docasqrx_max\", \"docasqrx_min\", \"docasqry\", \"docasqry_max\", \"docasqry_min\"])"
   ]
  },
  {
   "cell_type": "code",
   "execution_count": null,
   "id": "c88201c8",
   "metadata": {},
   "outputs": [],
   "source": []
  }
 ],
 "metadata": {
  "kernelspec": {
   "display_name": "Python 3",
   "language": "python",
   "name": "python3"
  },
  "language_info": {
   "codemirror_mode": {
    "name": "ipython",
    "version": 3
   },
   "file_extension": ".py",
   "mimetype": "text/x-python",
   "name": "python",
   "nbconvert_exporter": "python",
   "pygments_lexer": "ipython3",
   "version": "3.10.12"
  }
 },
 "nbformat": 4,
 "nbformat_minor": 5
}
