{
 "cells": [
  {
   "cell_type": "code",
   "execution_count": 1,
   "id": "ab5c09fb",
   "metadata": {},
   "outputs": [],
   "source": [
    "import ROOT\n",
    "from collections import defaultdict\n",
    "import pandas as pd"
   ]
  },
  {
   "cell_type": "code",
   "execution_count": 2,
   "id": "550666b9",
   "metadata": {},
   "outputs": [],
   "source": [
    "treepath = \"fmmtrackerana/RC_Tree\"\n",
    "filepath = \"rootfiles_monopoles/Combined_25370_filtered_files_21039_52306_fastmonopole_data.root\""
   ]
  },
  {
   "cell_type": "code",
   "execution_count": 3,
   "id": "de637c6c",
   "metadata": {},
   "outputs": [],
   "source": [
    "source_df = ROOT.RDataFrame(treepath, filepath)"
   ]
  },
  {
   "cell_type": "code",
   "execution_count": 4,
   "id": "aa06ba91",
   "metadata": {},
   "outputs": [
    {
     "data": {
      "text/plain": [
       "vector<string>{ \"ADC_tot\", \"Chi2_per_ndf\", \"Chisqr_TN\", \"Chisqr_TS\", \"GeV_tot\", \"MIP_tot\", \"Run\", \"Tf\", \"Ti\", \"Xf\", \"Xi\", \"Yf\", \"Yi\", \"Zf\", \"Zi\", \"adc_W\", \"docasqrx\", \"docasqrx_cells_on_track\", \"docasqrx_max\", \"docasqrx_min\", \"docasqry\", \"docasqry_cells_on_track\", \"docasqry_max\", \"docasqry_min\", \"event\", \"lxsqr\", \"lysqr\", \"max_gap\", \"miss_plane\", \"nhits_sat\", \"nxhits\", \"nyhits\", \"p_cross\", \"p_overlap\", \"subRun\", \"tSat_mean\", \"tSat_rms\", \"t_max\", \"t_min\", \"tfit_mean\", \"tfit_rms\", \"tnonSat_mean\", \"tnonSat_rms\", \"tns_max\", \"tns_mean\", \"tns_min\", \"tns_rms\", \"vSat_err\", \"vnonSat_err\", \"vrc_fit\", \"vrc_nonsat\", \"vrc_sat\", \"x_tmax\", \"x_tmin\", \"y_tmax\", \"y_tmin\", \"z_tmax\", \"z_tmin\" }"
      ]
     },
     "execution_count": 4,
     "metadata": {},
     "output_type": "execute_result"
    }
   ],
   "source": [
    "source_df.GetColumnNames()"
   ]
  },
  {
   "cell_type": "code",
   "execution_count": 5,
   "id": "91399c8c",
   "metadata": {},
   "outputs": [
    {
     "name": "stdout",
     "output_type": "stream",
     "text": [
      "Use Runs up to: 25366 with total subRuns: 197283\n"
     ]
    }
   ],
   "source": [
    "\"\"\"\n",
    "For final bg data we need number of events equivalent to one year,\n",
    "each subRun of detector runs for 160\n",
    "thus, no of subruns needed are 197230 in total\n",
    "\"\"\"\n",
    "\n",
    "rdf = ROOT.RDataFrame(treepath, filepath)\n",
    "\n",
    "# Step 1: Extract small dataframe with just Run and subRun\n",
    "df = rdf.AsNumpy(columns=[\"Run\", \"subRun\"])\n",
    "df = pd.DataFrame(df)\n",
    "\n",
    "# Step 2: Drop duplicates to get unique (Run, subRun) pairs\n",
    "unique_pairs = df.drop_duplicates(subset=[\"Run\", \"subRun\"])\n",
    "\n",
    "# Step 3: Count subRuns per Run\n",
    "counts = unique_pairs.groupby(\"Run\").size().sort_index()\n",
    "\n",
    "# Step 4: Accumulate until target ≈ 197230\n",
    "total = 0\n",
    "for run, n in counts.items():\n",
    "    total += n\n",
    "    if total >= 197230:\n",
    "        max_run = run\n",
    "        break\n",
    "\n",
    "print(f\"Use Runs up to: {max_run} with total subRuns: {total}\")\n",
    "\n"
   ]
  },
  {
   "cell_type": "code",
   "execution_count": 6,
   "id": "9ff6caaf",
   "metadata": {},
   "outputs": [],
   "source": [
    "# Step 5: Filter events and Snapshot\n",
    "source_df = source_df.Filter(f\"Run <= {max_run}\")"
   ]
  },
  {
   "cell_type": "code",
   "execution_count": 7,
   "id": "f7cc4feb",
   "metadata": {},
   "outputs": [
    {
     "data": {
      "text/plain": [
       "<cppyy.gbl.ROOT.RDF.RResultPtr<ROOT::RDF::RInterface<ROOT::Detail::RDF::RLoopManager,void> > object at 0x5a554f771180>"
      ]
     },
     "execution_count": 7,
     "metadata": {},
     "output_type": "execute_result"
    }
   ],
   "source": [
    "source_df.Snapshot(\"InputTreeBg\", \"inputBg.root\", [\"Xi\",\"Xf\", \"Yi\", \"Yf\", \"Zi\", \"Zf\", \"Ti\", \"Tf\", \"GeV_tot\", \"nxhits\", \"nyhits\", \"ADC_tot\", \"vrc_fit\", \"p_cross\", \"docasqrx\", \"docasqrx_max\", \"docasqrx_min\", \"docasqry\", \"docasqry_max\", \"docasqry_min\"])"
   ]
  },
  {
   "cell_type": "code",
   "execution_count": null,
   "id": "c88201c8",
   "metadata": {},
   "outputs": [],
   "source": []
  }
 ],
 "metadata": {
  "kernelspec": {
   "display_name": "Python 3",
   "language": "python",
   "name": "python3"
  },
  "language_info": {
   "codemirror_mode": {
    "name": "ipython",
    "version": 3
   },
   "file_extension": ".py",
   "mimetype": "text/x-python",
   "name": "python",
   "nbconvert_exporter": "python",
   "pygments_lexer": "ipython3",
   "version": "3.10.12"
  }
 },
 "nbformat": 4,
 "nbformat_minor": 5
}
