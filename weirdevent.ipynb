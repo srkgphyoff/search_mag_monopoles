{
 "cells": [
  {
   "cell_type": "code",
   "execution_count": 1,
   "id": "50e321c3",
   "metadata": {},
   "outputs": [],
   "source": [
    "import ROOT"
   ]
  },
  {
   "cell_type": "code",
   "execution_count": 3,
   "id": "d60b5326",
   "metadata": {},
   "outputs": [
    {
     "data": {
      "text/plain": [
       "424"
      ]
     },
     "execution_count": 3,
     "metadata": {},
     "output_type": "execute_result"
    }
   ],
   "source": [
    "# 55683614 - The number ID of the weird event\n",
    "file = ROOT.TFile.Open(\"rootfiles_monopoles/Combined_25370_filtered_files_21039_52306_fastmonopole_data.root\")\n",
    "# Get the TTree object\n",
    "tree = file.Get(\"fmmtrackerana/RC_Tree\")  # Replace with your actual tree name\n",
    "\n",
    "# Specify the entry number\n",
    "entry_num = 55683614  # Change this to your desired entry\n",
    "\n",
    "# Load that entry into memory\n",
    "tree.GetEntry(entry_num)"
   ]
  },
  {
   "cell_type": "code",
   "execution_count": 4,
   "id": "a2b3a78c",
   "metadata": {},
   "outputs": [
    {
     "name": "stdout",
     "output_type": "stream",
     "text": [
      "event = 1151\n",
      "subRun = 61\n",
      "Run = 28455\n",
      "nxhits = 16\n",
      "nyhits = 15\n",
      "nhits_sat = 31\n",
      "MIP_tot = 633.9691171646118\n",
      "ADC_tot = 114352.0\n",
      "GeV_tot = 6.700159788131714\n",
      "max_gap = 3\n",
      "miss_plane = 13\n",
      "p_cross = 35\n",
      "p_overlap = 14\n",
      "Xi = 160.30204765652826\n",
      "Xf = 468.947492014736\n",
      "Yi = -36.10619145786404\n",
      "Yf = 68.36772973968122\n",
      "Zi = 218.34670943675673\n",
      "Zf = 444.64987562419225\n",
      "Ti = 38169.734375\n",
      "Tf = 38589.2265625\n",
      "tns_mean = 38485.11457836877\n",
      "tns_rms = 1755.2267530494191\n",
      "tns_min = 38202.1484375\n",
      "tns_max = 38640.625\n",
      "t_min = 0.0\n",
      "t_max = 6.95259252777445e-310\n",
      "x_tmin = 395.8451843261719\n",
      "x_tmax = 160.3020477294922\n",
      "y_tmin = 40.7411003112793\n",
      "y_tmax = -36.1061897277832\n",
      "z_tmin = 391.05023193359375\n",
      "z_tmax = 218.34671020507812\n",
      "lxsqr = 71.86505337814864\n",
      "lysqr = 168.8688603228068\n",
      "docasqrx = 71.86505337813391\n",
      "docasqry = 168.86886032281072\n",
      "docasqrx_max = 15.779410245975678\n",
      "docasqry_max = 32.66550119273833\n",
      "docasqrx_min = 0.0\n",
      "docasqry_min = 0.0\n",
      "docasqrx_cells_on_track = 28.92503307584513\n",
      "docasqry_cells_on_track = 18.077400272020494\n",
      "vrc_fit = -2.772469739884714\n",
      "tfit_mean = 6.92258686886606e-310\n",
      "tfit_rms = 6.95259252784807e-310\n",
      "Chi2_per_ndf = 1.0739902157755312\n",
      "vrc_sat = -2.9603755297181946\n",
      "tSat_mean = 236.2845262096774\n",
      "tSat_rms = 125.09327022918514\n",
      "vSat_err = 1.0452271590735203\n",
      "vrc_nonsat = 60.0\n",
      "tnonSat_mean = 175.71758674172793\n",
      "tnonSat_rms = -1.0\n",
      "vnonSat_err = -1.0\n",
      "Chisqr_TS = 120.20232065530914\n",
      "Chisqr_TN = 117.70566853983769\n",
      "adc_W = 0.19405321313072615\n"
     ]
    }
   ],
   "source": [
    "for branch in tree.GetListOfBranches():\n",
    "    name = branch.GetName()\n",
    "    value = getattr(tree, name)\n",
    "    print(f\"{name} = {value}\")"
   ]
  },
  {
   "cell_type": "code",
   "execution_count": 5,
   "id": "854629fa",
   "metadata": {},
   "outputs": [],
   "source": [
    "# Create new file and tree\n",
    "output_file = ROOT.TFile(\"weird_event.root\", \"RECREATE\")\n",
    "new_tree = tree.CloneTree(0)  # Empty tree with same structure\n",
    "\n",
    "tree.GetEntry(entry_num)\n",
    "new_tree.Fill()\n",
    "\n",
    "new_tree.Write()\n",
    "output_file.Close()"
   ]
  },
  {
   "cell_type": "code",
   "execution_count": null,
   "id": "65e1ab08",
   "metadata": {},
   "outputs": [],
   "source": []
  }
 ],
 "metadata": {
  "kernelspec": {
   "display_name": "Python 3",
   "language": "python",
   "name": "python3"
  },
  "language_info": {
   "codemirror_mode": {
    "name": "ipython",
    "version": 3
   },
   "file_extension": ".py",
   "mimetype": "text/x-python",
   "name": "python",
   "nbconvert_exporter": "python",
   "pygments_lexer": "ipython3",
   "version": "3.10.12"
  }
 },
 "nbformat": 4,
 "nbformat_minor": 5
}
