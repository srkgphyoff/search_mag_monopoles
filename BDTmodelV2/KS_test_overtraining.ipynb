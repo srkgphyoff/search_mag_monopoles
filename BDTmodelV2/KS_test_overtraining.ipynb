{
 "cells": [
  {
   "cell_type": "code",
   "execution_count": 1,
   "id": "e3210461",
   "metadata": {},
   "outputs": [],
   "source": [
    "import ROOT"
   ]
  },
  {
   "cell_type": "code",
   "execution_count": 2,
   "id": "c66b7de8",
   "metadata": {},
   "outputs": [
    {
     "name": "stdout",
     "output_type": "stream",
     "text": [
      "TDirectoryFile*\t\tBDTcheck10\tBDTcheck10\n",
      " KEY: TObjString\tTrainingPath;1\tCollectable string class\n",
      " KEY: TObjString\tWeightFileName;1\tCollectable string class\n",
      " KEY: TTree\tMonitorNtuple;1\tBDT variables\n",
      " KEY: TH1D\tMVA_BDTcheck10_S;1\tMVA_BDTcheck10_S\n",
      " KEY: TH1D\tMVA_BDTcheck10_B;1\tMVA_BDTcheck10_B\n",
      " KEY: TH1D\tMVA_BDTcheck10_S_high;1\tMVA_BDTcheck10_S_high\n",
      " KEY: TH1D\tMVA_BDTcheck10_B_high;1\tMVA_BDTcheck10_B_high\n",
      " KEY: TH1D\tMVA_BDTcheck10_effS;1\tMVA_BDTcheck10 (signal)\n",
      " KEY: TH1D\tMVA_BDTcheck10_effB;1\tMVA_BDTcheck10 (background)\n",
      " KEY: TH1D\tMVA_BDTcheck10_effBvsS;1\tMVA_BDTcheck10\n",
      " KEY: TH1D\tMVA_BDTcheck10_rejBvsS;1\tMVA_BDTcheck10\n",
      " KEY: TH1D\tMVA_BDTcheck10_invBeffvsSeff;1\tMVA_BDTcheck10\n",
      " KEY: TH1D\tMVA_BDTcheck10_Train_S;1\tMVA_BDTcheck10_Train_S\n",
      " KEY: TH1D\tMVA_BDTcheck10_Train_B;1\tMVA_BDTcheck10_Train_B\n",
      " KEY: TH1D\tMVA_BDTcheck10_trainingEffS;1\tMVA_BDTcheck10 (signal)\n",
      " KEY: TH1D\tMVA_BDTcheck10_trainingEffB;1\tMVA_BDTcheck10 (background)\n",
      " KEY: TH1D\tMVA_BDTcheck10_trainingEffBvsS;1\tMVA_BDTcheck10\n",
      " KEY: TH1D\tMVA_BDTcheck10_trainingRejBvsS;1\tMVA_BDTcheck10\n",
      " KEY: TH1F\tADC_mean__Signal;1\tADC_mean\n",
      " KEY: TH1F\tADC_mean__Background;1\tADC_mean\n",
      " KEY: TH1F\tnhits_min__Signal;1\tnhits_min\n",
      " KEY: TH1F\tnhits_min__Background;1\tnhits_min\n",
      " KEY: TH1F\tentry_dist__Signal;1\tentry_dist\n",
      " KEY: TH1F\tentry_dist__Background;1\tentry_dist\n",
      " KEY: TH1F\texit_dist__Signal;1\texit_dist\n",
      " KEY: TH1F\texit_dist__Background;1\texit_dist\n",
      " KEY: TH1F\tdocasqrx_max__Signal;1\tdocasqrx_max\n",
      " KEY: TH1F\tdocasqrx_max__Background;1\tdocasqrx_max\n",
      " KEY: TH1F\tdocasqry_max__Signal;1\tdocasqry_max\n",
      " KEY: TH1F\tdocasqry_max__Background;1\tdocasqry_max\n",
      " KEY: TDirectoryFile\tCorrelationPlots;1\tCorrelationPlots\n",
      " KEY: TH1F\tdataset_BoostWeight;1\tAdaBooost weight distribution\n",
      " KEY: TH1F\tBoostWeightVsTree;1\tBoost weights vs tree\n",
      " KEY: TH1F\tErrFractHist;1\terror fraction vs tree number\n",
      " KEY: TH1I\tdataset_NodesBeforePruning;1\tnodes before pruning\n",
      " KEY: TH1I\tdataset_NodesAfterPruning;1\tnodes after pruning\n"
     ]
    }
   ],
   "source": [
    "f = ROOT.TFile.Open(f\"BDTresultfiles/TMVAcheck10.root\")\n",
    "\n",
    "# Navigate to the directory and confirm contents\n",
    "f.cd(f\"dataset/Method_BDT/BDTcheck10\")\n",
    "ROOT.gDirectory.ls()"
   ]
  },
  {
   "cell_type": "code",
   "execution_count": 3,
   "id": "23015623",
   "metadata": {},
   "outputs": [
    {
     "name": "stdout",
     "output_type": "stream",
     "text": [
      "KS test p-value (Signal): 0.0789\n"
     ]
    }
   ],
   "source": [
    "# Try loading histograms\n",
    "hSigTrain = f.Get(f\"dataset/Method_BDT/BDTcheck10/MVA_BDTcheck10_Train_S\")\n",
    "hSigTest  = f.Get(f\"dataset/Method_BDT/BDTcheck10/MVA_BDTcheck10_S\")  # <- Check this name carefully!\n",
    "\n",
    "if not hSigTrain or not hSigTest:\n",
    "    print(\"Error: Histogram not found.\")\n",
    "else:\n",
    "    ks_prob_signal = hSigTrain.KolmogorovTest(hSigTest)\n",
    "    print(f\"KS test p-value (Signal): {ks_prob_signal:.4f}\")"
   ]
  },
  {
   "cell_type": "code",
   "execution_count": 4,
   "id": "a77d71a3",
   "metadata": {},
   "outputs": [
    {
     "name": "stdout",
     "output_type": "stream",
     "text": [
      "KS test p-value (Background): 0.5075\n"
     ]
    }
   ],
   "source": [
    "#Background Distributions\n",
    "hBkgTrain = f.Get(f\"dataset/Method_BDT/BDTcheck10/MVA_BDTcheck10_Train_B\")\n",
    "hBkgTest  = f.Get(f\"dataset/Method_BDT/BDTcheck10/MVA_BDTcheck10_B\")  # <- Check this name carefully!\n",
    "\n",
    "if not hBkgTrain or not hBkgTest:\n",
    "    print(\"Error: Histogram not found.\")\n",
    "else:\n",
    "    ks_prob_background = hBkgTrain.KolmogorovTest(hBkgTest)\n",
    "    print(f\"KS test p-value (Background): {ks_prob_background:.4f}\")"
   ]
  },
  {
   "cell_type": "code",
   "execution_count": null,
   "id": "b8cf3946",
   "metadata": {},
   "outputs": [],
   "source": []
  }
 ],
 "metadata": {
  "kernelspec": {
   "display_name": "Python 3",
   "language": "python",
   "name": "python3"
  },
  "language_info": {
   "codemirror_mode": {
    "name": "ipython",
    "version": 3
   },
   "file_extension": ".py",
   "mimetype": "text/x-python",
   "name": "python",
   "nbconvert_exporter": "python",
   "pygments_lexer": "ipython3",
   "version": "3.10.12"
  }
 },
 "nbformat": 4,
 "nbformat_minor": 5
}
