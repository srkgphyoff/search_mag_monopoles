{
 "cells": [
  {
   "cell_type": "code",
   "execution_count": 1,
   "id": "69150704",
   "metadata": {},
   "outputs": [],
   "source": [
    "import ROOT\n",
    "from ROOT import TMVA"
   ]
  },
  {
   "cell_type": "code",
   "execution_count": 2,
   "id": "f4469cc2",
   "metadata": {},
   "outputs": [],
   "source": [
    "#Creating output file, factory object and opening input files\n",
    "outputFile = ROOT.TFile(\"BDTresultfiles/TMVAfinal10.root\", \"RECREATE\")\n",
    "factory = TMVA.Factory(\"tmvaTest\", outputFile, \"\")\n",
    "dataLoader = TMVA.DataLoader(\"dataset\")\n",
    "\n",
    "trainFile = ROOT.TFile(\"trainData.root\")\n",
    "testFile = ROOT.TFile(\"testData.root\")"
   ]
  },
  {
   "cell_type": "code",
   "execution_count": 3,
   "id": "baeba61a",
   "metadata": {},
   "outputs": [],
   "source": [
    "#Getting the TTree objects from input files\n",
    "sigTrain = trainFile.Get(\"sig\")\n",
    "bkgTrain = trainFile.Get(\"bkg\")\n",
    "nSigTrain = sigTrain.GetEntries()\n",
    "nBkgTrain = bkgTrain.GetEntries()\n",
    "\n",
    "sigTest = testFile.Get(\"sig\")\n",
    "bkgTest = testFile.Get(\"bkg\")\n",
    "nSigTest = sigTest.GetEntries()\n",
    "nBkgTest = bkgTest.GetEntries()"
   ]
  },
  {
   "cell_type": "code",
   "execution_count": 4,
   "id": "f9732535",
   "metadata": {},
   "outputs": [
    {
     "name": "stdout",
     "output_type": "stream",
     "text": [
      "1049610, 15649959\n",
      "1048532, 15652710\n",
      "1.0, 0.06706790733445372\n"
     ]
    }
   ],
   "source": [
    "#Print num events\n",
    "print(f\"{nSigTrain}, {nBkgTrain}\")\n",
    "print(f\"{nSigTest}, {nBkgTest}\")\n",
    "\n",
    "#GlobalEventWeights\n",
    "#Thus for equivalent weights\n",
    "sigWeight = 1.0\n",
    "bkgWeight = float(nSigTrain)/float(nBkgTrain)\n",
    "print(f\"{sigWeight}, {bkgWeight}\")"
   ]
  },
  {
   "cell_type": "code",
   "execution_count": 5,
   "id": "8a6235c6",
   "metadata": {},
   "outputs": [
    {
     "name": "stdout",
     "output_type": "stream",
     "text": [
      "<HEADER> DataSetInfo              : [dataset] : Added class \"Signal\"\n",
      "                         : Add Tree sig of type Signal with 1049610 events\n",
      "<HEADER> DataSetInfo              : [dataset] : Added class \"Background\"\n",
      "                         : Add Tree bkg of type Background with 15649959 events\n",
      "                         : Add Tree sig of type Signal with 1048532 events\n",
      "                         : Add Tree bkg of type Background with 15652710 events\n"
     ]
    }
   ],
   "source": [
    "dataLoader.AddSignalTree(sigTrain, sigWeight, TMVA.Types.kTraining)\n",
    "dataLoader.AddBackgroundTree(bkgTrain, bkgWeight, TMVA.Types.kTraining)\n",
    "dataLoader.AddSignalTree(sigTest, sigWeight, TMVA.Types.kTesting)\n",
    "dataLoader.AddBackgroundTree(bkgTest, bkgWeight, TMVA.Types.kTesting)"
   ]
  },
  {
   "cell_type": "code",
   "execution_count": 6,
   "id": "31c2b417",
   "metadata": {},
   "outputs": [],
   "source": [
    "#Define the input variables that shall be used for the MVA training\n",
    "#(the variables used in the expression must exist in the original TTree).\n",
    "dataLoader.AddVariable(\"ADC_mean\", 'F')\n",
    "dataLoader.AddVariable(\"nhits_min\", 'F')\n",
    "dataLoader.AddVariable(\"entry_dist\", 'F')\n",
    "dataLoader.AddVariable(\"exit_dist\", 'F')\n",
    "dataLoader.AddVariable(\"docasqrx_max\", 'F')\n",
    "dataLoader.AddVariable(\"docasqry_max\", 'F')"
   ]
  },
  {
   "cell_type": "code",
   "execution_count": 7,
   "id": "9024ca77",
   "metadata": {},
   "outputs": [
    {
     "data": {
      "text/plain": [
       "<cppyy.gbl.TMVA.MethodBDT object at 0x63bb359f8f50>"
      ]
     },
     "execution_count": 7,
     "metadata": {},
     "output_type": "execute_result"
    },
    {
     "name": "stdout",
     "output_type": "stream",
     "text": [
      "<HEADER> Factory                  : Booking method: BDTfinal10\n",
      "                         : \n",
      "                         : Rebuilding Dataset dataset\n",
      "                         : Building event vectors for type 0 Signal\n",
      "                         : Dataset[dataset] :  create input formulas for tree sig\n",
      "                         : Building event vectors for type 1 Signal\n",
      "                         : Dataset[dataset] :  create input formulas for tree sig\n",
      "                         : Building event vectors for type 0 Background\n",
      "                         : Dataset[dataset] :  create input formulas for tree bkg\n",
      "                         : Building event vectors for type 1 Background\n",
      "                         : Dataset[dataset] :  create input formulas for tree bkg\n",
      "<HEADER> DataSetFactory           : [dataset] : Number of events in input trees\n",
      "                         : \n",
      "                         : \n",
      "                         : Dataset[dataset] : Weight renormalisation mode: \"EqualNumEvents\": renormalises all event classes ...\n",
      "                         : Dataset[dataset] :  such that the effective (weighted) number of events in each class is the same \n",
      "                         : Dataset[dataset] :  (and equals the number of events (entries) given for class=0 )\n",
      "                         : Dataset[dataset] : ... i.e. such that Sum[i=1..N_j]{w_i} = N_classA, j=classA, classB, ...\n",
      "                         : Dataset[dataset] : ... (note that N_j is the sum of TRAINING events\n",
      "                         : Dataset[dataset] :  ..... Testing events are not renormalised nor included in the renormalisation factor!)\n",
      "                         : Number of training and testing events\n",
      "                         : ---------------------------------------------------------------------------\n",
      "                         : Signal     -- training events            : 1049610\n",
      "                         : Signal     -- testing events             : 1048532\n",
      "                         : Signal     -- training and testing events: 2098142\n",
      "                         : Background -- training events            : 15649959\n",
      "                         : Background -- testing events             : 15652710\n",
      "                         : Background -- training and testing events: 31302669\n",
      "                         : \n",
      "<HEADER> DataSetInfo              : Correlation matrix (Signal):\n",
      "                         : -------------------------------------------------------------------------------\n",
      "                         :               ADC_mean nhits_min entry_dist exit_dist docasqrx_max docasqry_max\n",
      "                         :     ADC_mean:   +1.000    +0.166     -0.118    -0.113       -0.103       -0.099\n",
      "                         :    nhits_min:   +0.166    +1.000     -0.144    -0.135       -0.056       -0.081\n",
      "                         :   entry_dist:   -0.118    -0.144     +1.000    +0.321       +0.233       +0.300\n",
      "                         :    exit_dist:   -0.113    -0.135     +0.321    +1.000       +0.228       +0.288\n",
      "                         : docasqrx_max:   -0.103    -0.056     +0.233    +0.228       +1.000       +0.213\n",
      "                         : docasqry_max:   -0.099    -0.081     +0.300    +0.288       +0.213       +1.000\n",
      "                         : -------------------------------------------------------------------------------\n",
      "<HEADER> DataSetInfo              : Correlation matrix (Background):\n",
      "                         : -------------------------------------------------------------------------------\n",
      "                         :               ADC_mean nhits_min entry_dist exit_dist docasqrx_max docasqry_max\n",
      "                         :     ADC_mean:   +1.000    +0.602     -0.126    -0.347       +0.047       +0.139\n",
      "                         :    nhits_min:   +0.602    +1.000     -0.159    -0.309       +0.038       +0.128\n",
      "                         :   entry_dist:   -0.126    -0.159     +1.000    +0.077       +0.004       +0.007\n",
      "                         :    exit_dist:   -0.347    -0.309     +0.077    +1.000       -0.014       -0.052\n",
      "                         : docasqrx_max:   +0.047    +0.038     +0.004    -0.014       +1.000       +0.022\n",
      "                         : docasqry_max:   +0.139    +0.128     +0.007    -0.052       +0.022       +1.000\n",
      "                         : -------------------------------------------------------------------------------\n",
      "<HEADER> DataSetFactory           : [dataset] :  \n",
      "                         : \n"
     ]
    }
   ],
   "source": [
    "factory.BookMethod(dataLoader, TMVA.Types.kBDT, \"BDTfinal10\",\"NTrees=800:BoostType=AdaBoost:MaxDepth=5:MinNodeSize=1.0:AdaBoostBeta=0.5:nCuts=50:UseBaggedBoost=True:BaggedSampleFraction=0.6\"\n",
    ")\n"
   ]
  },
  {
   "cell_type": "code",
   "execution_count": 8,
   "id": "784292be",
   "metadata": {},
   "outputs": [
    {
     "name": "stdout",
     "output_type": "stream",
     "text": [
      "<HEADER> Factory                  : Train all methods\n",
      "<HEADER> Factory                  : [dataset] : Create Transformation \"I\" with events from all classes.\n",
      "                         : \n",
      "<HEADER>                          : Transformation, Variable selection : \n",
      "                         : Input : variable 'ADC_mean' <---> Output : variable 'ADC_mean'\n",
      "                         : Input : variable 'nhits_min' <---> Output : variable 'nhits_min'\n",
      "                         : Input : variable 'entry_dist' <---> Output : variable 'entry_dist'\n",
      "                         : Input : variable 'exit_dist' <---> Output : variable 'exit_dist'\n",
      "                         : Input : variable 'docasqrx_max' <---> Output : variable 'docasqrx_max'\n",
      "                         : Input : variable 'docasqry_max' <---> Output : variable 'docasqry_max'\n",
      "<HEADER> TFHandler_Factory        :     Variable            Mean            RMS    [        Min            Max ]\n",
      "                         : -------------------------------------------------------------------------------\n",
      "                         :     ADC_mean:        1848.4        1264.8   [        180.35        3722.9 ]\n",
      "                         :    nhits_min:        62.368        48.967   [        0.0000        1746.0 ]\n",
      "                         :   entry_dist:        21.821        68.846   [    3.5948e-07        762.29 ]\n",
      "                         :    exit_dist:        73.451        144.40   [    1.1387e-05        762.28 ]\n",
      "                         : docasqrx_max:        92.346        978.51   [        0.0000    1.6197e+06 ]\n",
      "                         : docasqry_max:        84.467        311.92   [        0.0000    7.5607e+05 ]\n",
      "                         : -------------------------------------------------------------------------------\n",
      "                         : Ranking input variables (method unspecific)...\n",
      "<HEADER> IdTransformation         : Ranking result (top variable is best ranked)\n",
      "                         : -------------------------------------\n",
      "                         : Rank : Variable     : Separation\n",
      "                         : -------------------------------------\n",
      "                         :    1 : ADC_mean     : 8.262e-01\n",
      "                         :    2 : docasqry_max : 3.640e-01\n",
      "                         :    3 : exit_dist    : 2.421e-01\n",
      "                         :    4 : nhits_min    : 1.757e-01\n",
      "                         :    5 : docasqrx_max : 1.231e-01\n",
      "                         :    6 : entry_dist   : 5.658e-02\n",
      "                         : -------------------------------------\n",
      "<HEADER> Factory                  : Train method: BDTfinal10 for Classification\n",
      "                         : \n",
      "<HEADER> BDTfinal10               : #events: (reweighted) sig: 8.34978e+06 bkg: 8.34978e+06\n",
      "                         : #events: (unweighted) sig: 1049610 bkg: 15649959\n",
      "                         : Training 800 Decision Trees ... patience please\n",
      "                         : Elapsed time for training with 16699569 events: 1.34e+04 sec         \n",
      "<HEADER> BDTfinal10               : [dataset] : Evaluation of BDTfinal10 on training sample (16699569 events)\n",
      "                         : Elapsed time for evaluation of 16699569 events: 2.93e+03 sec       \n",
      "                         : Creating xml weight file: dataset/weights/tmvaTest_BDTfinal10.weights.xml\n",
      "                         : Creating standalone class: dataset/weights/tmvaTest_BDTfinal10.class.C\n",
      "                         : BDTresultfiles/TMVAfinal10.root:/dataset/Method_BDT/BDTfinal10\n",
      "<HEADER> Factory                  : Training finished\n",
      "                         : \n",
      "                         : Ranking input variables (method specific)...\n",
      "<HEADER> BDTfinal10               : Ranking result (top variable is best ranked)\n",
      "                         : ----------------------------------------------\n",
      "                         : Rank : Variable     : Variable Importance\n",
      "                         : ----------------------------------------------\n",
      "                         :    1 : docasqry_max : 2.454e-01\n",
      "                         :    2 : ADC_mean     : 2.452e-01\n",
      "                         :    3 : docasqrx_max : 1.936e-01\n",
      "                         :    4 : exit_dist    : 1.098e-01\n",
      "                         :    5 : nhits_min    : 1.047e-01\n",
      "                         :    6 : entry_dist   : 1.013e-01\n",
      "                         : ----------------------------------------------\n",
      "<HEADER> Factory                  : === Destroy and recreate all methods via weight files for testing ===\n",
      "                         : \n",
      "                         : Reading weight file: dataset/weights/tmvaTest_BDTfinal10.weights.xml\n",
      "<HEADER> Factory                  : Test all methods\n",
      "<HEADER> Factory                  : Test method: BDTfinal10 for Classification performance\n",
      "                         : \n",
      "<HEADER> BDTfinal10               : [dataset] : Evaluation of BDTfinal10 on testing sample (16701242 events)\n",
      "                         : Elapsed time for evaluation of 16701242 events: 1.38e+03 sec       \n",
      "<HEADER> Factory                  : Evaluate all methods\n",
      "<HEADER> Factory                  : Evaluate classifier: BDTfinal10\n",
      "                         : \n",
      "<HEADER> BDTfinal10               : [dataset] : Loop over test events and fill histograms with classifier response...\n",
      "                         : \n",
      "<HEADER> TFHandler_BDTfinal10     :     Variable            Mean            RMS    [        Min            Max ]\n",
      "                         : -------------------------------------------------------------------------------\n",
      "                         :     ADC_mean:        1847.9        1264.6   [        198.37        3722.9 ]\n",
      "                         :    nhits_min:        62.379        48.978   [        0.0000        974.00 ]\n",
      "                         :   entry_dist:        21.815        68.819   [    3.5948e-07        762.23 ]\n",
      "                         :    exit_dist:        73.463        144.40   [    3.2760e-06        762.09 ]\n",
      "                         : docasqrx_max:        92.366        965.16   [        0.0000    1.6197e+06 ]\n",
      "                         : docasqry_max:        84.542        440.65   [        0.0000    1.8506e+06 ]\n",
      "                         : -------------------------------------------------------------------------------\n",
      "                         : \n",
      "                         : Evaluation results ranked by best signal efficiency and purity (area)\n",
      "                         : -------------------------------------------------------------------------------------------------------------------\n",
      "                         : DataSet       MVA                       \n",
      "                         : Name:         Method:          ROC-integ\n",
      "                         : dataset       BDTfinal10     : 1.000\n",
      "                         : -------------------------------------------------------------------------------------------------------------------\n",
      "                         : \n",
      "                         : Testing efficiency compared to training efficiency (overtraining check)\n",
      "                         : -------------------------------------------------------------------------------------------------------------------\n",
      "                         : DataSet              MVA              Signal efficiency: from test sample (from training sample) \n",
      "                         : Name:                Method:          @B=0.01             @B=0.10            @B=0.30   \n",
      "                         : -------------------------------------------------------------------------------------------------------------------\n",
      "                         : dataset              BDTfinal10     : 0.990 (0.990)       1.000 (1.000)      1.000 (1.000)\n",
      "                         : -------------------------------------------------------------------------------------------------------------------\n",
      "                         : \n",
      "<HEADER> Dataset:dataset          : Created tree 'TestTree' with 16701242 events\n",
      "                         : \n",
      "<HEADER> Dataset:dataset          : Created tree 'TrainTree' with 16699569 events\n",
      "                         : \n",
      "<HEADER> Factory                  : Thank you for using TMVA!\n",
      "                         : For citation information, please visit: http://tmva.sf.net/citeTMVA.html\n"
     ]
    },
    {
     "name": "stderr",
     "output_type": "stream",
     "text": [
      "0%, time left: unknown\n",
      "6%, time left: 2 hrs : 37 mins\n",
      "12%, time left: 2 hrs : 25 mins\n",
      "18%, time left: 2 hrs : 43 mins\n",
      "25%, time left: 2 hrs : 29 mins\n",
      "31%, time left: 2 hrs : 12 mins\n",
      "37%, time left: 2 hrs : 2 mins\n",
      "43%, time left: 1 hr : 51 mins\n",
      "50%, time left: 1 hr : 38 mins\n",
      "56%, time left: 1 hr : 25 mins\n",
      "62%, time left: 1 hr : 14 mins\n",
      "68%, time left: 1 hr : 2 mins\n",
      "75%, time left: 50 mins\n",
      "81%, time left: 38 mins\n",
      "87%, time left: 26 mins\n",
      "93%, time left: 13 mins\n",
      "0%, time left: unknown\n",
      "6%, time left: 1 hr : 20 mins\n",
      "12%, time left: 1 hr : 6 mins\n",
      "18%, time left: 53 mins\n",
      "25%, time left: 47 mins\n",
      "31%, time left: 41 mins\n",
      "37%, time left: 35 mins\n",
      "43%, time left: 31 mins\n",
      "50%, time left: 25 mins\n",
      "56%, time left: 22 mins\n",
      "62%, time left: 19 mins\n",
      "68%, time left: 16 mins\n",
      "75%, time left: 12 mins\n",
      "81%, time left: 9 mins\n",
      "87%, time left: 6 mins\n",
      "93%, time left: 177 sec\n",
      "0%, time left: unknown\n",
      "6%, time left: 48 mins\n",
      "12%, time left: 32 mins\n",
      "18%, time left: 26 mins\n",
      "25%, time left: 22 mins\n",
      "31%, time left: 20 mins\n",
      "37%, time left: 16 mins\n",
      "43%, time left: 14 mins\n",
      "50%, time left: 11 mins\n",
      "56%, time left: 10 mins\n",
      "62%, time left: 8 mins\n",
      "68%, time left: 7 mins\n",
      "75%, time left: 5 mins\n",
      "81%, time left: 258 sec\n",
      "87%, time left: 172 sec\n",
      "93%, time left: 83 sec\n"
     ]
    }
   ],
   "source": [
    "#Train, Test and Evaluate all methods\n",
    "factory.TrainAllMethods()\n",
    "factory.TestAllMethods()\n",
    "factory.EvaluateAllMethods()"
   ]
  },
  {
   "cell_type": "code",
   "execution_count": 9,
   "id": "a3c3318d",
   "metadata": {},
   "outputs": [
    {
     "name": "stdout",
     "output_type": "stream",
     "text": [
      "wrote root file TMVA.root\n",
      "TMVA analysis is done\n"
     ]
    }
   ],
   "source": [
    "#Save output and finish up\n",
    "outputFile.Close()\n",
    "print(\"wrote root file TMVA.root\")\n",
    "print(\"TMVA analysis is done\")"
   ]
  },
  {
   "cell_type": "code",
   "execution_count": null,
   "id": "54547fe8",
   "metadata": {},
   "outputs": [],
   "source": []
  }
 ],
 "metadata": {
  "kernelspec": {
   "display_name": "Python 3",
   "language": "python",
   "name": "python3"
  },
  "language_info": {
   "codemirror_mode": {
    "name": "ipython",
    "version": 3
   },
   "file_extension": ".py",
   "mimetype": "text/x-python",
   "name": "python",
   "nbconvert_exporter": "python",
   "pygments_lexer": "ipython3",
   "version": "3.10.12"
  }
 },
 "nbformat": 4,
 "nbformat_minor": 5
}
