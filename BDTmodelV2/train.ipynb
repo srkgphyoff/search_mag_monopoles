{
 "cells": [
  {
   "cell_type": "code",
   "execution_count": 2,
   "id": "69150704",
   "metadata": {},
   "outputs": [],
   "source": [
    "import ROOT\n",
    "from ROOT import TMVA"
   ]
  },
  {
   "cell_type": "code",
   "execution_count": 3,
   "id": "f4469cc2",
   "metadata": {},
   "outputs": [],
   "source": [
    "#Creating output file, factory object and opening input files\n",
    "outputFile = ROOT.TFile(\"TMVAcheck.root\", \"RECREATE\")\n",
    "factory = TMVA.Factory(\"tmvaTest\", outputFile, \"\")\n",
    "dataLoader = TMVA.DataLoader(\"dataset\")\n",
    "\n",
    "trainFile = ROOT.TFile(\"smalltrainData.root\")\n",
    "testFile = ROOT.TFile(\"smalltestData.root\")"
   ]
  },
  {
   "cell_type": "code",
   "execution_count": 4,
   "id": "baeba61a",
   "metadata": {},
   "outputs": [],
   "source": [
    "#Getting the TTree objects from input files\n",
    "sigTrain = trainFile.Get(\"sig\")\n",
    "bkgTrain = trainFile.Get(\"bkg\")\n",
    "nSigTrain = sigTrain.GetEntries()\n",
    "nBkgTrain = bkgTrain.GetEntries()\n",
    "\n",
    "sigTest = testFile.Get(\"sig\")\n",
    "bkgTest = testFile.Get(\"bkg\")\n",
    "nSigTest = sigTest.GetEntries()\n",
    "nBkgTest = bkgTest.GetEntries()"
   ]
  },
  {
   "cell_type": "code",
   "execution_count": 5,
   "id": "f9732535",
   "metadata": {},
   "outputs": [
    {
     "name": "stdout",
     "output_type": "stream",
     "text": [
      "104918, 1565055\n",
      "105370, 1563066\n",
      "1.0, 0.0670378996265307\n"
     ]
    }
   ],
   "source": [
    "#Print num events\n",
    "print(f\"{nSigTrain}, {nBkgTrain}\")\n",
    "print(f\"{nSigTest}, {nBkgTest}\")\n",
    "\n",
    "#GlobalEventWeights\n",
    "#Thus for equivalent weights\n",
    "sigWeight = 1.0\n",
    "bkgWeight = float(nSigTrain)/float(nBkgTrain)\n",
    "print(f\"{sigWeight}, {bkgWeight}\")"
   ]
  },
  {
   "cell_type": "code",
   "execution_count": 6,
   "id": "8a6235c6",
   "metadata": {},
   "outputs": [
    {
     "name": "stdout",
     "output_type": "stream",
     "text": [
      "<HEADER> DataSetInfo              : [dataset] : Added class \"Signal\"\n",
      "                         : Add Tree sig of type Signal with 104918 events\n",
      "<HEADER> DataSetInfo              : [dataset] : Added class \"Background\"\n",
      "                         : Add Tree bkg of type Background with 1565055 events\n",
      "                         : Add Tree sig of type Signal with 105370 events\n",
      "                         : Add Tree bkg of type Background with 1563066 events\n"
     ]
    }
   ],
   "source": [
    "dataLoader.AddSignalTree(sigTrain, sigWeight, TMVA.Types.kTraining)\n",
    "dataLoader.AddBackgroundTree(bkgTrain, bkgWeight, TMVA.Types.kTraining)\n",
    "dataLoader.AddSignalTree(sigTest, sigWeight, TMVA.Types.kTesting)\n",
    "dataLoader.AddBackgroundTree(bkgTest, bkgWeight, TMVA.Types.kTesting)"
   ]
  },
  {
   "cell_type": "code",
   "execution_count": 7,
   "id": "31c2b417",
   "metadata": {},
   "outputs": [],
   "source": [
    "#Define the input variables that shall be used for the MVA training\n",
    "#(the variables used in the expression must exist in the original TTree).\n",
    "dataLoader.AddVariable(\"ADC_mean\", 'F')\n",
    "dataLoader.AddVariable(\"nhits_min\", 'F')\n",
    "dataLoader.AddVariable(\"entry_dist\", 'F')\n",
    "dataLoader.AddVariable(\"exit_dist\", 'F')\n",
    "dataLoader.AddVariable(\"docasqrx_max\", 'F')\n",
    "dataLoader.AddVariable(\"docasqry_max\", 'F')"
   ]
  },
  {
   "cell_type": "code",
   "execution_count": 10,
   "id": "9024ca77",
   "metadata": {},
   "outputs": [
    {
     "ename": "TypeError",
     "evalue": "none of the 3 overloaded methods succeeded. Full details:\n  TMVA::MethodBase* TMVA::Factory::BookMethod(TMVA::DataLoader* loader, TString theMethodName, TString methodTitle, TString theOption = \"\") =>\n    TypeError: could not convert argument 2\n  TMVA::MethodBase* TMVA::Factory::BookMethod(TMVA::DataLoader* loader, TMVA::Types::EMVA theMethod, TString methodTitle, TString theOption = \"\") =>\n    runtime_error: FATAL error\n  TMVA::MethodBase* TMVA::Factory::BookMethod(TMVA::DataLoader*, TMVA::Types::EMVA, TString, TString, TMVA::Types::EMVA, TString) =>\n    TypeError: takes at least 6 arguments (4 given)",
     "output_type": "error",
     "traceback": [
      "\u001b[0;31m---------------------------------------------------------------------------\u001b[0m",
      "\u001b[0;31mTypeError\u001b[0m                                 Traceback (most recent call last)",
      "Cell \u001b[0;32mIn[10], line 1\u001b[0m\n\u001b[0;32m----> 1\u001b[0m \u001b[43mfactory\u001b[49m\u001b[38;5;241;43m.\u001b[39;49m\u001b[43mBookMethod\u001b[49m\u001b[43m(\u001b[49m\u001b[43mdataLoader\u001b[49m\u001b[43m,\u001b[49m\u001b[43m \u001b[49m\u001b[43mTMVA\u001b[49m\u001b[38;5;241;43m.\u001b[39;49m\u001b[43mTypes\u001b[49m\u001b[38;5;241;43m.\u001b[39;49m\u001b[43mkBDT\u001b[49m\u001b[43m,\u001b[49m\u001b[43m \u001b[49m\u001b[38;5;124;43m\"\u001b[39;49m\u001b[38;5;124;43mBDTcheck\u001b[39;49m\u001b[38;5;124;43m\"\u001b[39;49m\u001b[43m,\u001b[49m\u001b[38;5;124;43m\"\u001b[39;49m\u001b[38;5;124;43mNTrees=800:BoostType=Grad:MaxDepth=3:MinNodeSize=1.0:Shrinkage=0.05:nCuts=200:UseBaggedBoost=True:BaggedSampleFraction=0.6\u001b[39;49m\u001b[38;5;124;43m\"\u001b[39;49m\u001b[43m)\u001b[49m\n",
      "File \u001b[0;32m~/root/lib/ROOT/_pythonization/_tmva/_factory.py:61\u001b[0m, in \u001b[0;36mFactory.BookMethod\u001b[0;34m(self, *args, **kwargs)\u001b[0m\n\u001b[1;32m     57\u001b[0m \u001b[38;5;250m\u001b[39m\u001b[38;5;124mr\u001b[39m\u001b[38;5;124;03m\"\"\"factory::BookMethod() function is pythonized with the command argument pythonization.\u001b[39;00m\n\u001b[1;32m     58\u001b[0m \u001b[38;5;124;03mThe keywords must correspond to the CmdArgs of the function.\u001b[39;00m\n\u001b[1;32m     59\u001b[0m \u001b[38;5;124;03m\"\"\"\u001b[39;00m\n\u001b[1;32m     60\u001b[0m args, kwargs \u001b[38;5;241m=\u001b[39m _kwargs_to_tmva_cmdargs(\u001b[38;5;241m*\u001b[39margs, \u001b[38;5;241m*\u001b[39m\u001b[38;5;241m*\u001b[39mkwargs)\n\u001b[0;32m---> 61\u001b[0m \u001b[38;5;28;01mreturn\u001b[39;00m \u001b[38;5;28;43mself\u001b[39;49m\u001b[38;5;241;43m.\u001b[39;49m\u001b[43m_BookMethod\u001b[49m\u001b[43m(\u001b[49m\u001b[38;5;241;43m*\u001b[39;49m\u001b[43margs\u001b[49m\u001b[43m,\u001b[49m\u001b[43m \u001b[49m\u001b[38;5;241;43m*\u001b[39;49m\u001b[38;5;241;43m*\u001b[39;49m\u001b[43mkwargs\u001b[49m\u001b[43m)\u001b[49m\n",
      "\u001b[0;31mTypeError\u001b[0m: none of the 3 overloaded methods succeeded. Full details:\n  TMVA::MethodBase* TMVA::Factory::BookMethod(TMVA::DataLoader* loader, TString theMethodName, TString methodTitle, TString theOption = \"\") =>\n    TypeError: could not convert argument 2\n  TMVA::MethodBase* TMVA::Factory::BookMethod(TMVA::DataLoader* loader, TMVA::Types::EMVA theMethod, TString methodTitle, TString theOption = \"\") =>\n    runtime_error: FATAL error\n  TMVA::MethodBase* TMVA::Factory::BookMethod(TMVA::DataLoader*, TMVA::Types::EMVA, TString, TString, TMVA::Types::EMVA, TString) =>\n    TypeError: takes at least 6 arguments (4 given)"
     ]
    },
    {
     "name": "stdout",
     "output_type": "stream",
     "text": [
      "<FATAL>                          : Booking failed since method with title <BDTcheck> already exists in with DataSet Name <dataset>  \n",
      "***> abort program execution\n",
      "<FATAL>                          : Booking failed since method with title <BDTcheck> already exists in with DataSet Name <dataset>  Booking failed since method with title <BDTcheck> already exists in with DataSet Name <dataset>  \n",
      "***> abort program execution\n"
     ]
    }
   ],
   "source": [
    "factory.BookMethod(dataLoader, TMVA.Types.kBDT, \"BDTcheck\",\"NTrees=800:BoostType=Grad:MaxDepth=3:MinNodeSize=1.0:Shrinkage=0.05:nCuts=200:UseBaggedBoost=True:BaggedSampleFraction=0.6\")\n"
   ]
  },
  {
   "cell_type": "code",
   "execution_count": 11,
   "id": "784292be",
   "metadata": {},
   "outputs": [
    {
     "name": "stdout",
     "output_type": "stream",
     "text": [
      "<HEADER> Factory                  : Booking failed since method with title <BDTcheck> already exists in with DataSet Name <dataset>  Booking failed since method with title <BDTcheck> already exists in with DataSet Name <dataset>  Train all methods\n",
      "<HEADER> Factory                  : [dataset] : Create Transformation \"I\" with events from all classes.\n",
      "                         : \n",
      "<HEADER>                          : Transformation, Variable selection : \n",
      "                         : Input : variable 'ADC_mean' <---> Output : variable 'ADC_mean'\n",
      "                         : Input : variable 'nhits_min' <---> Output : variable 'nhits_min'\n",
      "                         : Input : variable 'entry_dist' <---> Output : variable 'entry_dist'\n",
      "                         : Input : variable 'exit_dist' <---> Output : variable 'exit_dist'\n",
      "                         : Input : variable 'docasqrx_max' <---> Output : variable 'docasqrx_max'\n",
      "                         : Input : variable 'docasqry_max' <---> Output : variable 'docasqry_max'\n",
      "<HEADER> TFHandler_Factory        :     Variable            Mean            RMS    [        Min            Max ]\n",
      "                         : -------------------------------------------------------------------------------\n",
      "                         :     ADC_mean:        1849.9        1266.0   [        180.35        3711.6 ]\n",
      "                         :    nhits_min:        62.386        49.067   [        0.0000        713.00 ]\n",
      "                         :   entry_dist:        21.917        69.110   [    2.4981e-06        762.00 ]\n",
      "                         :    exit_dist:        73.586        144.43   [    7.6447e-05        761.91 ]\n",
      "                         : docasqrx_max:        92.256        921.42   [        0.0000    1.1447e+06 ]\n",
      "                         : docasqry_max:        84.501        411.04   [        0.0000    5.6439e+05 ]\n",
      "                         : -------------------------------------------------------------------------------\n",
      "                         : Ranking input variables (method unspecific)...\n",
      "<HEADER> IdTransformation         : Ranking result (top variable is best ranked)\n",
      "                         : -------------------------------------\n",
      "                         : Rank : Variable     : Separation\n",
      "                         : -------------------------------------\n",
      "                         :    1 : ADC_mean     : 8.285e-01\n",
      "                         :    2 : docasqry_max : 3.020e-01\n",
      "                         :    3 : exit_dist    : 2.346e-01\n",
      "                         :    4 : nhits_min    : 1.779e-01\n",
      "                         :    5 : docasqrx_max : 1.360e-01\n",
      "                         :    6 : entry_dist   : 5.036e-02\n",
      "                         : -------------------------------------\n",
      "<HEADER> Factory                  : Train method: BDTcheck for Classification\n",
      "                         : \n",
      "<HEADER> BDTcheck                 : #events: (reweighted) sig: 834986 bkg: 834986\n",
      "                         : #events: (unweighted) sig: 104918 bkg: 1565055\n",
      "                         : Training 800 Decision Trees ... patience please\n",
      "                         : Elapsed time for training with 1669973 events: 836 sec         \n",
      "<HEADER> BDTcheck                 : [dataset] : Evaluation of BDTcheck on training sample (1669973 events)\n",
      "                         : Elapsed time for evaluation of 1669973 events: 42.7 sec       \n",
      "                         : Creating xml weight file: dataset/weights/tmvaTest_BDTcheck.weights.xml\n",
      "                         : Creating standalone class: dataset/weights/tmvaTest_BDTcheck.class.C\n",
      "                         : TMVAcheck.root:/dataset/Method_BDT/BDTcheck\n",
      "<HEADER> Factory                  : Training finished\n",
      "                         : \n",
      "                         : Ranking input variables (method specific)...\n",
      "<HEADER> BDTcheck                 : Ranking result (top variable is best ranked)\n",
      "                         : ----------------------------------------------\n",
      "                         : Rank : Variable     : Variable Importance\n",
      "                         : ----------------------------------------------\n",
      "                         :    1 : ADC_mean     : 2.272e-01\n",
      "                         :    2 : entry_dist   : 2.159e-01\n",
      "                         :    3 : docasqry_max : 2.145e-01\n",
      "                         :    4 : docasqrx_max : 1.365e-01\n",
      "                         :    5 : nhits_min    : 1.150e-01\n",
      "                         :    6 : exit_dist    : 9.096e-02\n",
      "                         : ----------------------------------------------\n",
      "<HEADER> Factory                  : === Destroy and recreate all methods via weight files for testing ===\n",
      "                         : \n",
      "                         : Reading weight file: dataset/weights/tmvaTest_BDTcheck.weights.xml\n",
      "<HEADER> Factory                  : Test all methods\n",
      "<HEADER> Factory                  : Test method: BDTcheck for Classification performance\n",
      "                         : \n",
      "<HEADER> BDTcheck                 : [dataset] : Evaluation of BDTcheck on testing sample (1668436 events)\n",
      "                         : Elapsed time for evaluation of 1668436 events: 34.2 sec       \n",
      "<HEADER> Factory                  : Evaluate all methods\n",
      "<HEADER> Factory                  : Evaluate classifier: BDTcheck\n",
      "                         : \n",
      "<HEADER> BDTcheck                 : [dataset] : Loop over test events and fill histograms with classifier response...\n",
      "                         : \n",
      "<HEADER> TFHandler_BDTcheck       :     Variable            Mean            RMS    [        Min            Max ]\n",
      "                         : -------------------------------------------------------------------------------\n",
      "                         :     ADC_mean:        1851.6        1264.2   [        209.33        3716.7 ]\n",
      "                         :    nhits_min:        62.525        49.189   [        0.0000        1352.0 ]\n",
      "                         :   entry_dist:        21.868        69.150   [    1.4699e-05        761.51 ]\n",
      "                         :    exit_dist:        73.216        144.13   [    3.5045e-05        761.75 ]\n",
      "                         : docasqrx_max:        91.565        660.78   [        0.0000    5.7489e+05 ]\n",
      "                         : docasqry_max:        84.612        480.47   [        0.0000    7.5607e+05 ]\n",
      "                         : -------------------------------------------------------------------------------\n",
      "                         : \n",
      "                         : Evaluation results ranked by best signal efficiency and purity (area)\n",
      "                         : -------------------------------------------------------------------------------------------------------------------\n",
      "                         : DataSet       MVA                       \n",
      "                         : Name:         Method:          ROC-integ\n",
      "                         : dataset       BDTcheck       : 1.000\n",
      "                         : -------------------------------------------------------------------------------------------------------------------\n",
      "                         : \n",
      "                         : Testing efficiency compared to training efficiency (overtraining check)\n",
      "                         : -------------------------------------------------------------------------------------------------------------------\n",
      "                         : DataSet              MVA              Signal efficiency: from test sample (from training sample) \n",
      "                         : Name:                Method:          @B=0.01             @B=0.10            @B=0.30   \n",
      "                         : -------------------------------------------------------------------------------------------------------------------\n",
      "                         : dataset              BDTcheck       : 1.000 (1.000)       1.000 (1.000)      1.000 (1.000)\n",
      "                         : -------------------------------------------------------------------------------------------------------------------\n",
      "                         : \n",
      "<HEADER> Dataset:dataset          : Created tree 'TestTree' with 1668436 events\n",
      "                         : \n",
      "<HEADER> Dataset:dataset          : Created tree 'TrainTree' with 1669973 events\n",
      "                         : \n",
      "<HEADER> Factory                  : Thank you for using TMVA!\n",
      "                         : For citation information, please visit: http://tmva.sf.net/citeTMVA.html\n"
     ]
    },
    {
     "name": "stderr",
     "output_type": "stream",
     "text": [
      "0%, time left: unknown\n",
      "6%, time left: 12 mins\n",
      "12%, time left: 12 mins\n",
      "18%, time left: 11 mins\n",
      "25%, time left: 10 mins\n",
      "31%, time left: 9 mins\n",
      "37%, time left: 8 mins\n",
      "43%, time left: 7 mins\n",
      "50%, time left: 6 mins\n",
      "56%, time left: 5 mins\n",
      "62%, time left: 5 mins\n",
      "68%, time left: 260 sec\n",
      "75%, time left: 206 sec\n",
      "81%, time left: 153 sec\n",
      "87%, time left: 102 sec\n",
      "93%, time left: 50 sec\n",
      "0%, time left: unknown\n",
      "6%, time left: 46 sec\n",
      "12%, time left: 42 sec\n",
      "18%, time left: 38 sec\n",
      "25%, time left: 33 sec\n",
      "31%, time left: 29 sec\n",
      "37%, time left: 26 sec\n",
      "43%, time left: 23 sec\n",
      "50%, time left: 20 sec\n",
      "56%, time left: 17 sec\n",
      "62%, time left: 15 sec\n",
      "68%, time left: 13 sec\n",
      "75%, time left: 10 sec\n",
      "81%, time left: 7 sec\n",
      "87%, time left: 5 sec\n",
      "93%, time left: 2 sec\n",
      "0%, time left: unknown\n",
      "6%, time left: 39 sec\n",
      "12%, time left: 33 sec\n",
      "18%, time left: 29 sec\n",
      "25%, time left: 25 sec\n",
      "31%, time left: 23 sec\n",
      "37%, time left: 20 sec\n",
      "43%, time left: 18 sec\n",
      "50%, time left: 16 sec\n",
      "56%, time left: 14 sec\n",
      "62%, time left: 12 sec\n",
      "68%, time left: 10 sec\n",
      "75%, time left: 8 sec\n",
      "81%, time left: 6 sec\n",
      "87%, time left: 4 sec\n",
      "93%, time left: 2 sec\n"
     ]
    }
   ],
   "source": [
    "#Train, Test and Evaluate all methods\n",
    "factory.TrainAllMethods()\n",
    "factory.TestAllMethods()\n",
    "factory.EvaluateAllMethods()"
   ]
  },
  {
   "cell_type": "code",
   "execution_count": 12,
   "id": "a3c3318d",
   "metadata": {},
   "outputs": [
    {
     "name": "stdout",
     "output_type": "stream",
     "text": [
      "wrote root file TMVA.root\n",
      "TMVA analysis is done\n"
     ]
    }
   ],
   "source": [
    "#Save output and finish up\n",
    "outputFile.Close()\n",
    "print(\"wrote root file TMVA.root\")\n",
    "print(\"TMVA analysis is done\")"
   ]
  },
  {
   "cell_type": "code",
   "execution_count": null,
   "id": "54547fe8",
   "metadata": {},
   "outputs": [],
   "source": []
  }
 ],
 "metadata": {
  "kernelspec": {
   "display_name": "Python 3",
   "language": "python",
   "name": "python3"
  },
  "language_info": {
   "codemirror_mode": {
    "name": "ipython",
    "version": 3
   },
   "file_extension": ".py",
   "mimetype": "text/x-python",
   "name": "python",
   "nbconvert_exporter": "python",
   "pygments_lexer": "ipython3",
   "version": "3.10.12"
  }
 },
 "nbformat": 4,
 "nbformat_minor": 5
}
