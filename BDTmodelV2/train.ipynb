{
 "cells": [
  {
   "cell_type": "code",
   "execution_count": 11,
   "id": "69150704",
   "metadata": {},
   "outputs": [],
   "source": [
    "import ROOT\n",
    "from ROOT import TMVA"
   ]
  },
  {
   "cell_type": "code",
   "execution_count": 12,
   "id": "f4469cc2",
   "metadata": {},
   "outputs": [],
   "source": [
    "#Creating output file, factory object and opening input files\n",
    "outputFile = ROOT.TFile(\"TMVAcheck.root\", \"RECREATE\")\n",
    "factory = TMVA.Factory(\"tmvaTest\", outputFile, \"\")\n",
    "dataLoader = TMVA.DataLoader(\"dataset\")\n",
    "\n",
    "trainFile = ROOT.TFile(\"smalltrainData.root\")\n",
    "testFile = ROOT.TFile(\"smalltestData.root\")"
   ]
  },
  {
   "cell_type": "code",
   "execution_count": 13,
   "id": "baeba61a",
   "metadata": {},
   "outputs": [],
   "source": [
    "#Getting the TTree objects from input files\n",
    "sigTrain = trainFile.Get(\"sig\")\n",
    "bkgTrain = trainFile.Get(\"bkg\")\n",
    "nSigTrain = sigTrain.GetEntries()\n",
    "nBkgTrain = bkgTrain.GetEntries()\n",
    "\n",
    "sigTest = testFile.Get(\"sig\")\n",
    "bkgTest = testFile.Get(\"bkg\")\n",
    "nSigTest = sigTest.GetEntries()\n",
    "nBkgTest = bkgTest.GetEntries()"
   ]
  },
  {
   "cell_type": "code",
   "execution_count": 14,
   "id": "f9732535",
   "metadata": {},
   "outputs": [
    {
     "name": "stdout",
     "output_type": "stream",
     "text": [
      "104918, 1565055\n",
      "105370, 1563066\n",
      "1.0, 0.0670378996265307\n"
     ]
    }
   ],
   "source": [
    "#Print num events\n",
    "print(f\"{nSigTrain}, {nBkgTrain}\")\n",
    "print(f\"{nSigTest}, {nBkgTest}\")\n",
    "\n",
    "#GlobalEventWeights\n",
    "#Thus for equivalent weights\n",
    "sigWeight = 1.0\n",
    "bkgWeight = float(nSigTrain)/float(nBkgTrain)\n",
    "print(f\"{sigWeight}, {bkgWeight}\")"
   ]
  },
  {
   "cell_type": "code",
   "execution_count": 15,
   "id": "8a6235c6",
   "metadata": {},
   "outputs": [
    {
     "name": "stdout",
     "output_type": "stream",
     "text": [
      "<HEADER> DataSetInfo              : [dataset] : Added class \"Signal\"\n",
      "                         : Add Tree sig of type Signal with 104918 events\n",
      "<HEADER> DataSetInfo              : [dataset] : Added class \"Background\"\n",
      "                         : Add Tree bkg of type Background with 1565055 events\n",
      "                         : Add Tree sig of type Signal with 105370 events\n",
      "                         : Add Tree bkg of type Background with 1563066 events\n"
     ]
    }
   ],
   "source": [
    "dataLoader.AddSignalTree(sigTrain, sigWeight, TMVA.Types.kTraining)\n",
    "dataLoader.AddBackgroundTree(bkgTrain, bkgWeight, TMVA.Types.kTraining)\n",
    "dataLoader.AddSignalTree(sigTest, sigWeight, TMVA.Types.kTesting)\n",
    "dataLoader.AddBackgroundTree(bkgTest, bkgWeight, TMVA.Types.kTesting)"
   ]
  },
  {
   "cell_type": "code",
   "execution_count": 16,
   "id": "31c2b417",
   "metadata": {},
   "outputs": [],
   "source": [
    "#Define the input variables that shall be used for the MVA training\n",
    "#(the variables used in the expression must exist in the original TTree).\n",
    "# dataLoader.AddVariable(\"ADC_mean\", 'F')\n",
    "dataLoader.AddVariable(\"nhits_min\", 'F')\n",
    "dataLoader.AddVariable(\"entry_dist\", 'F')\n",
    "# dataLoader.AddVariable(\"exit_dist\", 'F')\n",
    "dataLoader.AddVariable(\"docasqrx_max\", 'F')\n",
    "dataLoader.AddVariable(\"docasqry_max\", 'F')"
   ]
  },
  {
   "cell_type": "code",
   "execution_count": 17,
   "id": "9024ca77",
   "metadata": {},
   "outputs": [
    {
     "data": {
      "text/plain": [
       "<cppyy.gbl.TMVA.MethodBDT object at 0x62ded7a9ced0>"
      ]
     },
     "execution_count": 17,
     "metadata": {},
     "output_type": "execute_result"
    },
    {
     "name": "stdout",
     "output_type": "stream",
     "text": [
      "<HEADER> Factory                  : Booking method: BDTcheck\n",
      "                         : \n",
      "                         : Rebuilding Dataset dataset\n",
      "                         : Building event vectors for type 0 Signal\n",
      "                         : Dataset[dataset] :  create input formulas for tree sig\n",
      "                         : Building event vectors for type 1 Signal\n",
      "                         : Dataset[dataset] :  create input formulas for tree sig\n",
      "                         : Building event vectors for type 0 Background\n",
      "                         : Dataset[dataset] :  create input formulas for tree bkg\n",
      "                         : Building event vectors for type 1 Background\n",
      "                         : Dataset[dataset] :  create input formulas for tree bkg\n",
      "<HEADER> DataSetFactory           : [dataset] : Number of events in input trees\n",
      "                         : \n",
      "                         : \n",
      "                         : Dataset[dataset] : Weight renormalisation mode: \"EqualNumEvents\": renormalises all event classes ...\n",
      "                         : Dataset[dataset] :  such that the effective (weighted) number of events in each class is the same \n",
      "                         : Dataset[dataset] :  (and equals the number of events (entries) given for class=0 )\n",
      "                         : Dataset[dataset] : ... i.e. such that Sum[i=1..N_j]{w_i} = N_classA, j=classA, classB, ...\n",
      "                         : Dataset[dataset] : ... (note that N_j is the sum of TRAINING events\n",
      "                         : Dataset[dataset] :  ..... Testing events are not renormalised nor included in the renormalisation factor!)\n",
      "                         : Number of training and testing events\n",
      "                         : ---------------------------------------------------------------------------\n",
      "                         : Signal     -- training events            : 104918\n",
      "                         : Signal     -- testing events             : 105370\n",
      "                         : Signal     -- training and testing events: 210288\n",
      "                         : Background -- training events            : 1565055\n",
      "                         : Background -- testing events             : 1563066\n",
      "                         : Background -- training and testing events: 3128121\n",
      "                         : \n",
      "<HEADER> DataSetInfo              : Correlation matrix (Signal):\n",
      "                         : ------------------------------------------------------------\n",
      "                         :               nhits_min entry_dist docasqrx_max docasqry_max\n",
      "                         :    nhits_min:    +1.000     -0.146       -0.034       -0.085\n",
      "                         :   entry_dist:    -0.146     +1.000       +0.124       +0.318\n",
      "                         : docasqrx_max:    -0.034     +0.124       +1.000       +0.118\n",
      "                         : docasqry_max:    -0.085     +0.318       +0.118       +1.000\n",
      "                         : ------------------------------------------------------------\n",
      "<HEADER> DataSetInfo              : Correlation matrix (Background):\n",
      "                         : ------------------------------------------------------------\n",
      "                         :               nhits_min entry_dist docasqrx_max docasqry_max\n",
      "                         :    nhits_min:    +1.000     -0.160       +0.041       +0.095\n",
      "                         :   entry_dist:    -0.160     +1.000       +0.003       +0.005\n",
      "                         : docasqrx_max:    +0.041     +0.003       +1.000       +0.015\n",
      "                         : docasqry_max:    +0.095     +0.005       +0.015       +1.000\n",
      "                         : ------------------------------------------------------------\n",
      "<HEADER> DataSetFactory           : [dataset] :  \n",
      "                         : \n"
     ]
    }
   ],
   "source": [
    "factory.BookMethod(dataLoader, TMVA.Types.kBDT, \"BDTcheck\",\"NTrees=300:BoostType=AdaBoost:MaxDepth=3:MinNodeSize=2.5:Shrinkage=0.1:nCuts=20:UseBaggedBoost=True:BaggedSampleFraction=0.5\")\n"
   ]
  },
  {
   "cell_type": "code",
   "execution_count": 18,
   "id": "784292be",
   "metadata": {},
   "outputs": [
    {
     "name": "stdout",
     "output_type": "stream",
     "text": [
      "<HEADER> Factory                  : Train all methods\n",
      "<HEADER> Factory                  : [dataset] : Create Transformation \"I\" with events from all classes.\n",
      "                         : \n",
      "<HEADER>                          : Transformation, Variable selection : \n",
      "                         : Input : variable 'nhits_min' <---> Output : variable 'nhits_min'\n",
      "                         : Input : variable 'entry_dist' <---> Output : variable 'entry_dist'\n",
      "                         : Input : variable 'docasqrx_max' <---> Output : variable 'docasqrx_max'\n",
      "                         : Input : variable 'docasqry_max' <---> Output : variable 'docasqry_max'\n",
      "<HEADER> TFHandler_Factory        :     Variable            Mean            RMS    [        Min            Max ]\n",
      "                         : -------------------------------------------------------------------------------\n",
      "                         :    nhits_min:        62.386        49.067   [        0.0000        713.00 ]\n",
      "                         :   entry_dist:        21.917        69.110   [    2.4981e-06        762.00 ]\n",
      "                         : docasqrx_max:        92.256        921.42   [        0.0000    1.1447e+06 ]\n",
      "                         : docasqry_max:        84.501        411.04   [        0.0000    5.6439e+05 ]\n",
      "                         : -------------------------------------------------------------------------------\n",
      "                         : Ranking input variables (method unspecific)...\n",
      "<HEADER> IdTransformation         : Ranking result (top variable is best ranked)\n",
      "                         : -------------------------------------\n",
      "                         : Rank : Variable     : Separation\n",
      "                         : -------------------------------------\n",
      "                         :    1 : docasqry_max : 3.020e-01\n",
      "                         :    2 : nhits_min    : 1.779e-01\n",
      "                         :    3 : docasqrx_max : 1.360e-01\n",
      "                         :    4 : entry_dist   : 5.036e-02\n",
      "                         : -------------------------------------\n",
      "<HEADER> Factory                  : Train method: BDTcheck for Classification\n",
      "                         : \n",
      "<HEADER> BDTcheck                 : #events: (reweighted) sig: 834986 bkg: 834986\n",
      "                         : #events: (unweighted) sig: 104918 bkg: 1565055\n",
      "                         : Training 300 Decision Trees ... patience please\n",
      "                         : Elapsed time for training with 1669973 events: 174 sec         \n",
      "<HEADER> BDTcheck                 : [dataset] : Evaluation of BDTcheck on training sample (1669973 events)\n",
      "                         : Elapsed time for evaluation of 1669973 events: 17.3 sec       \n",
      "                         : Creating xml weight file: dataset/weights/tmvaTest_BDTcheck.weights.xml\n",
      "                         : Creating standalone class: dataset/weights/tmvaTest_BDTcheck.class.C\n",
      "                         : TMVAcheck.root:/dataset/Method_BDT/BDTcheck\n",
      "<HEADER> Factory                  : Training finished\n",
      "                         : \n",
      "                         : Ranking input variables (method specific)...\n",
      "<HEADER> BDTcheck                 : Ranking result (top variable is best ranked)\n",
      "                         : ----------------------------------------------\n",
      "                         : Rank : Variable     : Variable Importance\n",
      "                         : ----------------------------------------------\n",
      "                         :    1 : docasqry_max : 3.157e-01\n",
      "                         :    2 : docasqrx_max : 2.658e-01\n",
      "                         :    3 : nhits_min    : 2.442e-01\n",
      "                         :    4 : entry_dist   : 1.743e-01\n",
      "                         : ----------------------------------------------\n",
      "<HEADER> Factory                  : === Destroy and recreate all methods via weight files for testing ===\n",
      "                         : \n",
      "                         : Reading weight file: dataset/weights/tmvaTest_BDTcheck.weights.xml\n",
      "<HEADER> Factory                  : Test all methods\n",
      "<HEADER> Factory                  : Test method: BDTcheck for Classification performance\n",
      "                         : \n",
      "<HEADER> BDTcheck                 : [dataset] : Evaluation of BDTcheck on testing sample (1668436 events)\n",
      "                         : Elapsed time for evaluation of 1668436 events: 14.8 sec       \n",
      "<HEADER> Factory                  : Evaluate all methods\n",
      "<HEADER> Factory                  : Evaluate classifier: BDTcheck\n",
      "                         : \n",
      "<HEADER> BDTcheck                 : [dataset] : Loop over test events and fill histograms with classifier response...\n",
      "                         : \n",
      "<HEADER> TFHandler_BDTcheck       :     Variable            Mean            RMS    [        Min            Max ]\n",
      "                         : -------------------------------------------------------------------------------\n",
      "                         :    nhits_min:        62.525        49.189   [        0.0000        1352.0 ]\n",
      "                         :   entry_dist:        21.868        69.150   [    1.4699e-05        761.51 ]\n",
      "                         : docasqrx_max:        91.565        660.78   [        0.0000    5.7489e+05 ]\n",
      "                         : docasqry_max:        84.612        480.47   [        0.0000    7.5607e+05 ]\n",
      "                         : -------------------------------------------------------------------------------\n",
      "                         : \n",
      "                         : Evaluation results ranked by best signal efficiency and purity (area)\n",
      "                         : -------------------------------------------------------------------------------------------------------------------\n",
      "                         : DataSet       MVA                       \n",
      "                         : Name:         Method:          ROC-integ\n",
      "                         : dataset       BDTcheck       : 0.946\n",
      "                         : -------------------------------------------------------------------------------------------------------------------\n",
      "                         : \n",
      "                         : Testing efficiency compared to training efficiency (overtraining check)\n",
      "                         : -------------------------------------------------------------------------------------------------------------------\n",
      "                         : DataSet              MVA              Signal efficiency: from test sample (from training sample) \n",
      "                         : Name:                Method:          @B=0.01             @B=0.10            @B=0.30   \n",
      "                         : -------------------------------------------------------------------------------------------------------------------\n",
      "                         : dataset              BDTcheck       : 0.612 (0.612)       0.861 (0.861)      0.939 (0.938)\n",
      "                         : -------------------------------------------------------------------------------------------------------------------\n",
      "                         : \n",
      "<HEADER> Dataset:dataset          : Created tree 'TestTree' with 1668436 events\n",
      "                         : \n",
      "<HEADER> Dataset:dataset          : Created tree 'TrainTree' with 1669973 events\n",
      "                         : \n",
      "<HEADER> Factory                  : Thank you for using TMVA!\n",
      "                         : For citation information, please visit: http://tmva.sf.net/citeTMVA.html\n"
     ]
    },
    {
     "name": "stderr",
     "output_type": "stream",
     "text": [
      "0%, time left: unknown\n",
      "6%, time left: 149 sec\n",
      "13%, time left: 141 sec\n",
      "19%, time left: 129 sec\n",
      "25%, time left: 119 sec\n",
      "31%, time left: 111 sec\n",
      "38%, time left: 106 sec\n",
      "44%, time left: 94 sec\n",
      "50%, time left: 81 sec\n",
      "56%, time left: 69 sec\n",
      "63%, time left: 58 sec\n",
      "69%, time left: 48 sec\n",
      "75%, time left: 38 sec\n",
      "81%, time left: 28 sec\n",
      "88%, time left: 18 sec\n",
      "94%, time left: 9 sec\n",
      "0%, time left: unknown\n",
      "6%, time left: 18 sec\n",
      "12%, time left: 17 sec\n",
      "18%, time left: 15 sec\n",
      "25%, time left: 13 sec\n",
      "31%, time left: 12 sec\n",
      "37%, time left: 11 sec\n",
      "43%, time left: 10 sec\n",
      "50%, time left: 8 sec\n",
      "56%, time left: 7 sec\n",
      "62%, time left: 6 sec\n",
      "68%, time left: 5 sec\n",
      "75%, time left: 4 sec\n",
      "81%, time left: 3 sec\n",
      "87%, time left: 2 sec\n",
      "93%, time left: 1 sec\n",
      "0%, time left: unknown\n",
      "6%, time left: 13 sec\n",
      "12%, time left: 12 sec\n",
      "18%, time left: 12 sec\n",
      "25%, time left: 10 sec\n",
      "31%, time left: 10 sec\n",
      "37%, time left: 9 sec\n",
      "43%, time left: 8 sec\n",
      "50%, time left: 7 sec\n",
      "56%, time left: 6 sec\n",
      "62%, time left: 5 sec\n",
      "68%, time left: 4 sec\n",
      "75%, time left: 3 sec\n",
      "81%, time left: 2 sec\n",
      "87%, time left: 1 sec\n",
      "93%, time left: 0 sec\n"
     ]
    }
   ],
   "source": [
    "#Train, Test and Evaluate all methods\n",
    "factory.TrainAllMethods()\n",
    "factory.TestAllMethods()\n",
    "factory.EvaluateAllMethods()"
   ]
  },
  {
   "cell_type": "code",
   "execution_count": 19,
   "id": "a3c3318d",
   "metadata": {},
   "outputs": [
    {
     "name": "stdout",
     "output_type": "stream",
     "text": [
      "wrote root file TMVA.root\n",
      "TMVA analysis is done\n"
     ]
    }
   ],
   "source": [
    "#Save output and finish up\n",
    "outputFile.Close()\n",
    "print(\"wrote root file TMVA.root\")\n",
    "print(\"TMVA analysis is done\")"
   ]
  },
  {
   "cell_type": "code",
   "execution_count": null,
   "id": "54547fe8",
   "metadata": {},
   "outputs": [],
   "source": []
  }
 ],
 "metadata": {
  "kernelspec": {
   "display_name": "Python 3",
   "language": "python",
   "name": "python3"
  },
  "language_info": {
   "codemirror_mode": {
    "name": "ipython",
    "version": 3
   },
   "file_extension": ".py",
   "mimetype": "text/x-python",
   "name": "python",
   "nbconvert_exporter": "python",
   "pygments_lexer": "ipython3",
   "version": "3.10.12"
  }
 },
 "nbformat": 4,
 "nbformat_minor": 5
}
