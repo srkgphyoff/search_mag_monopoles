{
 "cells": [
  {
   "cell_type": "code",
   "execution_count": 1,
   "id": "6424ee75",
   "metadata": {},
   "outputs": [],
   "source": [
    "import ROOT\n",
    "from OutFunc import OutFunc"
   ]
  },
  {
   "cell_type": "code",
   "execution_count": null,
   "id": "2f177ac6",
   "metadata": {},
   "outputs": [],
   "source": [
    "hBkg = ROOT.TH1D(\"hBkg\", \"BDT output; background\", 100, -1.0, 1.0)"
   ]
  },
  {
   "cell_type": "code",
   "execution_count": null,
   "id": "f288b1b0",
   "metadata": {},
   "outputs": [],
   "source": [
    "# Set up the OutFunc object.  First argument must be one of the classifiers.\n",
    "# 4th argument is offset for contour.\n",
    "# 5th argument is bool array indicating which variables were used in training\n",
    "dir = \"dataset/weights/\"\n",
    "prefix = \"tmvaTest\"\n",
    "name = \"BDTcheck10\"\n",
    "tCut = 0.0\n",
    "useVar = [False, True, True, True, True, True, True]\n",
    "\n",
    "testStat = OutFunc(name, dir, prefix, tCut, useVar)"
   ]
  },
  {
   "cell_type": "code",
   "execution_count": null,
   "id": "f5ff9160",
   "metadata": {},
   "outputs": [],
   "source": [
    "def fill_histograms(input_path):\n",
    "    inputFile = ROOT.TFile(input_path)\n",
    "    bkg = inputFile.Get(\"bkg\")\n",
    "\n",
    "    numEntries = bkg.GetEntries()\n",
    "    print(f\"Total Entries: {numEntries}\")\n",
    "\n",
    "    for j in range(numEntries):\n",
    "        bkg.GetEntry(j)\n",
    "        t = testStat.val(bkg)\n",
    "        hBkg.Fill(t)\n",
    "\n",
    "    inputFile.Close()"
   ]
  },
  {
   "cell_type": "code",
   "execution_count": null,
   "id": "9b926bc4",
   "metadata": {},
   "outputs": [],
   "source": [
    "fill_histograms(\"trainData.root\")\n",
    "fill_histograms(\"testData.root\")"
   ]
  },
  {
   "cell_type": "code",
   "execution_count": null,
   "id": "0041bc8a",
   "metadata": {},
   "outputs": [],
   "source": [
    "#Saving output histogram\n",
    "hFile = ROOT.TFile(\"bkgHistoFit.root\", \"RECREATE\")\n",
    "hBkg.Write()\n",
    "hFile.Close()"
   ]
  },
  {
   "cell_type": "code",
   "execution_count": 4,
   "id": "fd3164ed",
   "metadata": {},
   "outputs": [
    {
     "name": "stdout",
     "output_type": "stream",
     "text": [
      "Fitting from x = -0.35 to x = 1.0\n",
      "Integral of fit from x = 0.32525 to x = 1.0 is 7.409505843591844\n",
      "****************************************\n",
      "Minimizer is Minuit2 / Migrad\n",
      "Chi2                      =  5.03999e+06\n",
      "NDf                       =           31\n",
      "Edm                       =  1.37046e-07\n",
      "NCalls                    =          300\n",
      "p0                        =      19490.1   +/-   11.1301     \n",
      "p1                        =       15.738   +/-   0.00175547  \n"
     ]
    },
    {
     "name": "stderr",
     "output_type": "stream",
     "text": [
      "Warning in <TCanvas::Constructor>: Deleting canvas with same name: c\n"
     ]
    },
    {
     "data": {
      "image/png": "[encoded data removed]",
      "text/plain": [
       "<IPython.core.display.Image object>"
      ]
     },
     "metadata": {},
     "output_type": "display_data"
    }
   ],
   "source": [
    "# Input parameters\n",
    "x_cut = 0.32525  # <-- Set this to your integration lower limit\n",
    "\n",
    "# Load your histogram (assume TH1D named 'h')\n",
    "f = ROOT.TFile.Open(\"bkgHistoFit.root\")\n",
    "h = f.Get(\"hBkg\")  # replace with your TH1D name\n",
    "\n",
    "# Step 1: Find maximum bin and its center\n",
    "max_bin = h.GetMaximumBin()\n",
    "x_start = h.GetBinCenter(max_bin)\n",
    "\n",
    "# Step 2: Get right edge of histogram\n",
    "x_end = h.GetXaxis().GetXmax()\n",
    "\n",
    "print(f\"Fitting from x = {x_start} to x = {x_end}\")\n",
    "\n",
    "# Step 3: Define exponential fit function\n",
    "fit_func = ROOT.TF1(\"fit_func\", \"[0]*exp(-[1]*x)\", x_start, x_end)\n",
    "fit_func.SetParameters(1.0, 1.0)  # optional initial guesses\n",
    "\n",
    "# Step 4: Fit the histogram\n",
    "h.Fit(fit_func, \"R\")  # \"R\" = fit only in range\n",
    "\n",
    "\n",
    "integral = fit_func.Integral(x_cut, x_end)\n",
    "\n",
    "print(f\"Integral of fit from x = {x_cut} to x = {x_end} is {integral}\")\n",
    "\n",
    "# Optional: Plot everything\n",
    "canvas = ROOT.TCanvas(\"c\", \"Fit + Integral\", 800, 600)\n",
    "h.Draw(\"HIST\")\n",
    "fit_func.SetLineColor(ROOT.kBlue)\n",
    "fit_func.Draw(\"same\")\n",
    "line = ROOT.TLine(x_cut, 0, x_cut, h.GetMaximum())\n",
    "line.SetLineStyle(2)\n",
    "line.Draw(\"same\")\n",
    "canvas.Update()\n"
   ]
  },
  {
   "cell_type": "code",
   "execution_count": 6,
   "id": "7ae44e75",
   "metadata": {},
   "outputs": [
    {
     "name": "stdout",
     "output_type": "stream",
     "text": [
      "Fit params: A = 3421301.836, mu = -0.314, sigma = 0.072\n",
      "Integral of extrapolated Gaussian from x = 0.32525 to 1.0: 0.0000\n",
      "****************************************\n",
      "Minimizer is Minuit2 / Migrad\n",
      "Chi2                      =       257633\n",
      "NDf                       =           12\n",
      "Edm                       =  4.19786e-08\n",
      "NCalls                    =           84\n",
      "Constant                  =   3.4213e+06   +/-   786.487     \n",
      "Mean                      =    -0.313764   +/-   1.76823e-05 \n",
      "Sigma                     =    0.0717057   +/-   1.35943e-05  \t (limited)\n"
     ]
    },
    {
     "name": "stderr",
     "output_type": "stream",
     "text": [
      "Warning in <TCanvas::Constructor>: Deleting canvas with same name: c2\n"
     ]
    },
    {
     "data": {
      "image/png": "[encoded data removed]",
      "text/plain": [
       "<IPython.core.display.Image object>"
      ]
     },
     "metadata": {},
     "output_type": "display_data"
    }
   ],
   "source": [
    "# === Load histogram ===\n",
    "f = ROOT.TFile.Open(\"bkgHistoFit.root\")\n",
    "h = f.Get(\"hBkg\")  # Replace with actual name\n",
    "\n",
    "if not h or not h.InheritsFrom(\"TH1\"):\n",
    "    raise RuntimeError(\"Invalid histogram\")\n",
    "\n",
    "# === Peak fit ===\n",
    "max_bin = h.GetMaximumBin()\n",
    "peak_x = h.GetBinCenter(max_bin)\n",
    "sigma_guess = h.GetRMS()\n",
    "\n",
    "# Fit only around the peak\n",
    "fit_min = peak_x - 2 * sigma_guess\n",
    "fit_max = peak_x + 2 * sigma_guess\n",
    "\n",
    "# Temporary function for fitting\n",
    "fit_peak = ROOT.TF1(\"fit_peak\", \"gaus\", fit_min, fit_max)\n",
    "h.Fit(fit_peak, \"R\")\n",
    "\n",
    "# Extract parameters\n",
    "A     = fit_peak.GetParameter(0)\n",
    "mu    = fit_peak.GetParameter(1)\n",
    "sigma = fit_peak.GetParameter(2)\n",
    "\n",
    "print(f\"Fit params: A = {A:.3f}, mu = {mu:.3f}, sigma = {sigma:.3f}\")\n",
    "\n",
    "# === Create extrapolated full-range Gaussian ===\n",
    "x_min = h.GetXaxis().GetXmin()\n",
    "x_max = h.GetXaxis().GetXmax()\n",
    "\n",
    "gaus_full = ROOT.TF1(\"gaus_full\", \"gaus\", x_min, x_max)\n",
    "gaus_full.SetParameters(A, mu, sigma)\n",
    "\n",
    "# === Optional: integrate above a cut ===\n",
    "x_cut = 0.32525  # example threshold\n",
    "integral_tail = gaus_full.Integral(x_cut, x_max)\n",
    "print(f\"Integral of extrapolated Gaussian from x = {x_cut} to {x_max}: {integral_tail:.4f}\")\n",
    "\n",
    "# === Draw everything ===\n",
    "canvas = ROOT.TCanvas(\"c2\", \"Extrapolated Gaussian Fit\", 800, 600)\n",
    "h.Draw(\"HIST\")\n",
    "gaus_full.SetLineColor(ROOT.kBlue)\n",
    "gaus_full.Draw(\"same\")\n",
    "\n",
    "# Optional: line at cut\n",
    "line = ROOT.TLine(x_cut, 0, x_cut, h.GetMaximum())\n",
    "line.SetLineStyle(2)\n",
    "line.SetLineColor(ROOT.kBlack)\n",
    "line.Draw(\"same\")\n",
    "\n",
    "canvas.Update()"
   ]
  },
  {
   "cell_type": "code",
   "execution_count": null,
   "id": "b660a7d4",
   "metadata": {},
   "outputs": [],
   "source": []
  }
 ],
 "metadata": {
  "kernelspec": {
   "display_name": "Python 3",
   "language": "python",
   "name": "python3"
  },
  "language_info": {
   "codemirror_mode": {
    "name": "ipython",
    "version": 3
   },
   "file_extension": ".py",
   "mimetype": "text/x-python",
   "name": "python",
   "nbconvert_exporter": "python",
   "pygments_lexer": "ipython3",
   "version": "3.10.12"
  }
 },
 "nbformat": 4,
 "nbformat_minor": 5
}
