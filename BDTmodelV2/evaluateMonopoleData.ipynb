{
 "cells": [
  {
   "cell_type": "code",
   "execution_count": 1,
   "id": "4e4972a4",
   "metadata": {},
   "outputs": [],
   "source": [
    "import ROOT\n",
    "from OutFunc import OutFunc"
   ]
  },
  {
   "cell_type": "code",
   "execution_count": null,
   "id": "ed8f69e2",
   "metadata": {},
   "outputs": [],
   "source": [
    "#Creating a rand column in monopole tree data, just to make OutFunc usable in its format\n",
    "df = ROOT.RDataFrame(\"MonopoleTree\", \"../monopoleData.root\")\n",
    "df = df.Define(\"rand\", \"gRandom->Rndm()\")\n",
    "df.Snapshot(\"MonopoleTree\", \"inputMonopoleData.root\")"
   ]
  },
  {
   "cell_type": "code",
   "execution_count": 2,
   "id": "c70d8ff1",
   "metadata": {},
   "outputs": [
    {
     "name": "stdout",
     "output_type": "stream",
     "text": [
      "                         : Booking \"BDTcheck10\" of type \"BDT\" from dataset/weights//tmvaTest_BDTcheck10.weights.xml.\n",
      "                         : Reading weight file: dataset/weights//tmvaTest_BDTcheck10.weights.xml\n",
      "<HEADER> DataSetInfo              : [Default] : Added class \"Signal\"\n",
      "<HEADER> DataSetInfo              : [Default] : Added class \"Background\"\n",
      "                         : Booked classifier \"BDTcheck10\" of type: \"BDT\"\n"
     ]
    }
   ],
   "source": [
    "# Set up the OutFunc object.  First argument must be one of the classifiers.\n",
    "# 4th argument is offset for contour.\n",
    "# 5th argument is bool array indicating which variables were used in training\n",
    "dir = \"dataset/weights/\"\n",
    "prefix = \"tmvaTest\"\n",
    "name = \"BDTcheck10\"\n",
    "tCut = 0.0\n",
    "useVar = [False, True, True, True, True, True, True]\n",
    "\n",
    "testStat = OutFunc(name, dir, prefix, tCut, useVar)"
   ]
  },
  {
   "cell_type": "code",
   "execution_count": 3,
   "id": "946b3334",
   "metadata": {},
   "outputs": [
    {
     "name": "stdout",
     "output_type": "stream",
     "text": [
      "Evaluating 20948169 events using BDT model:\n",
      "0 events evaluated!\n",
      "1000000 events evaluated!\n",
      "2000000 events evaluated!\n",
      "3000000 events evaluated!\n",
      "4000000 events evaluated!\n",
      "5000000 events evaluated!\n",
      "6000000 events evaluated!\n",
      "Entry above cut found!\n",
      "ADC_mean = 3688.7741935483873\n",
      "nhits_min = 15\n",
      "entry_dist = 294.052507985264\n",
      "exit_dist = 215.94670943675672\n",
      "docasqrx_max = 15.779410245975678\n",
      "docasqry_max = 32.66550119273833\n",
      "7000000 events evaluated!\n"
     ]
    },
    {
     "ename": "KeyboardInterrupt",
     "evalue": "",
     "output_type": "error",
     "traceback": [
      "\u001b[0;31m---------------------------------------------------------------------------\u001b[0m",
      "\u001b[0;31mKeyboardInterrupt\u001b[0m                         Traceback (most recent call last)",
      "Cell \u001b[0;32mIn[3], line 23\u001b[0m\n\u001b[1;32m     21\u001b[0m     \u001b[38;5;28mprint\u001b[39m(\u001b[38;5;124mf\u001b[39m\u001b[38;5;124m\"\u001b[39m\u001b[38;5;124mdocasqrx_max = \u001b[39m\u001b[38;5;132;01m{\u001b[39;00mtree\u001b[38;5;241m.\u001b[39mdocasqrx_max\u001b[38;5;132;01m}\u001b[39;00m\u001b[38;5;124m\"\u001b[39m)\n\u001b[1;32m     22\u001b[0m     \u001b[38;5;28mprint\u001b[39m(\u001b[38;5;124mf\u001b[39m\u001b[38;5;124m\"\u001b[39m\u001b[38;5;124mdocasqry_max = \u001b[39m\u001b[38;5;132;01m{\u001b[39;00mtree\u001b[38;5;241m.\u001b[39mdocasqry_max\u001b[38;5;132;01m}\u001b[39;00m\u001b[38;5;124m\"\u001b[39m)\n\u001b[0;32m---> 23\u001b[0m \u001b[43mhOutput\u001b[49m\u001b[38;5;241;43m.\u001b[39;49m\u001b[43mFill\u001b[49m\u001b[43m(\u001b[49m\u001b[43mt\u001b[49m\u001b[43m)\u001b[49m\n",
      "\u001b[0;31mKeyboardInterrupt\u001b[0m: "
     ]
    },
    {
     "name": "stdout",
     "output_type": "stream",
     "text": [
      "                         : Rebuilding Dataset Default\n"
     ]
    }
   ],
   "source": [
    "#Filling histogram after evaluating model output for every entry.\n",
    "inputFile = ROOT.TFile(\"inputMonopoleData.root\")\n",
    "tree = inputFile.Get(\"MonopoleTree\")\n",
    "\n",
    "hOutput = ROOT.TH1D(\"hOutput\", \"BDT, Output\", 100, -1, 1)\n",
    "\n",
    "numEntries = tree.GetEntries()\n",
    "print(f\"Evaluating {numEntries} events using BDT model:\")\n",
    "\n",
    "for i in range(numEntries):\n",
    "    if i%1000000 == 0:\n",
    "        print(f\"{i} events evaluated!\")    \n",
    "    tree.GetEntry(i)\n",
    "    t = testStat.val(tree)\n",
    "    if t > 0.32525:\n",
    "        print(\"Entry above cut found!\")\n",
    "        print(f\"ADC_mean = {tree.ADC_mean}\")\n",
    "        print(f\"nhits_min = {tree.nhits_min}\")\n",
    "        print(f\"entry_dist = {tree.entry_dist}\")\n",
    "        print(f\"exit_dist = {tree.exit_dist}\")\n",
    "        print(f\"docasqrx_max = {tree.docasqrx_max}\")\n",
    "        print(f\"docasqry_max = {tree.docasqry_max}\")\n",
    "    hOutput.Fill(t)"
   ]
  },
  {
   "cell_type": "code",
   "execution_count": null,
   "id": "d1f58711",
   "metadata": {},
   "outputs": [],
   "source": [
    "#Saving output histogram\n",
    "hFile = ROOT.TFile(\"outputMonopoleHisto.root\", \"RECREATE\")\n",
    "hOutput.Write()\n",
    "hFile.Close()"
   ]
  },
  {
   "cell_type": "code",
   "execution_count": null,
   "id": "a2e17e5c",
   "metadata": {},
   "outputs": [],
   "source": [
    "#Retrieving histo from file\n",
    "file = ROOT.TFile.Open(\"outputMonopoleHisto.root\")\n",
    "hOutput = file.Get(\"hOutput\")"
   ]
  },
  {
   "cell_type": "code",
   "execution_count": null,
   "id": "fde83920",
   "metadata": {},
   "outputs": [],
   "source": [
    "#Plotting output histogram\n",
    "hOutput.SetLineColor(ROOT.kBlue)\n",
    "hOutput.SetLineWidth(2)\n",
    "hOutput.SetFillColorAlpha(ROOT.kBlue, 0.3) \n",
    "\n",
    "%jsroot on\n",
    "\n",
    "c = ROOT.TCanvas(\"c\", \"BDT Output\", 800, 600)\n",
    "ROOT.gStyle.SetOptStat(0)\n",
    "\n",
    "hOutput.Draw(\"HIST\")\n",
    "\n",
    "#Legend\n",
    "legend = ROOT.TLegend(0.45, 0.7, 0.65, 0.88)\n",
    "legend.AddEntry(hOutput, \"Monopole Data\")\n",
    "\n",
    "#Drawing and Saving canvas\n",
    "c.Draw()\n",
    "c.SaveAs(\"Monopole_output_curve.png\")"
   ]
  },
  {
   "cell_type": "code",
   "execution_count": null,
   "id": "7eceb62c",
   "metadata": {},
   "outputs": [],
   "source": [
    "#Plotting curve with log scale\n",
    "c_log = ROOT.TCanvas(\"c\", \"BDT Output\", 800, 600)\n",
    "ROOT.gStyle.SetOptStat(0)\n",
    "c_log.SetLogy()\n",
    "\n",
    "hOutput.Draw(\"HIST\")\n",
    "\n",
    "#Legend\n",
    "legend = ROOT.TLegend(0.45, 0.7, 0.65, 0.88)\n",
    "legend.AddEntry(hOutput, \"Monopole Data\")\n",
    "\n",
    "#Drawing and Saving canvas\n",
    "c_log.Draw()\n",
    "c_log.SaveAs(\"Monopole_log_output_curve.png\")"
   ]
  },
  {
   "cell_type": "code",
   "execution_count": null,
   "id": "e5754350",
   "metadata": {},
   "outputs": [],
   "source": [
    "#The cut value decided using Punzi Method is \n",
    "cut = 0.3252525\n",
    "#Thus we find the number of events in histogram above this to calculate number of events.\n",
    "# Get the bin number corresponding to the threshold\n",
    "start_bin = hOutput.FindBin(cut)\n",
    "\n",
    "# Get the total number of bins\n",
    "n_bins = hOutput.GetNbinsX()\n",
    "\n",
    "# Compute the integral from start_bin to the last bin\n",
    "integral_above = hOutput.Integral(start_bin, n_bins)\n",
    "\n",
    "print(f\"Integral of histogram above {cut} = {integral_above}\")"
   ]
  },
  {
   "cell_type": "code",
   "execution_count": null,
   "id": "e4aa00f2",
   "metadata": {},
   "outputs": [],
   "source": [
    "# Assume `h` is your existing TH1D histogram\n",
    "x_min = 0.3252525 # <-- Set your lower bound\n",
    "x_max = 1.0\n",
    "\n",
    "# Step 1: Clone the original histogram\n",
    "h_filtered = hOutput.Clone(\"h_filtered\")\n",
    "h_filtered.Reset()  # Clear bin contents, keep binning\n",
    "\n",
    "# Step 2: Loop through bins and copy values in the range\n",
    "for i in range(1, hOutput.GetNbinsX() + 1):\n",
    "    bin_center = hOutput.GetBinCenter(i)\n",
    "    if x_min <= bin_center <= x_max:\n",
    "        h_filtered.SetBinContent(i, hOutput.GetBinContent(i))\n",
    "        #h_filtered.SetBinError(i, hOutput.GetBinError(i))  # optional\n",
    "\n",
    "# Step 3: Draw the filtered histogram\n",
    "canvas = ROOT.TCanvas(\"c\", \"Filtered Histogram\", 800, 600)\n",
    "h_filtered.SetLineColor(ROOT.kBlue)\n",
    "h_filtered.SetTitle(f\"Histogram between {x_min} and {x_max}\")\n",
    "h_filtered.Draw()\n",
    "canvas.Draw()\n"
   ]
  },
  {
   "cell_type": "code",
   "execution_count": null,
   "id": "4fc825b1",
   "metadata": {},
   "outputs": [],
   "source": []
  }
 ],
 "metadata": {
  "kernelspec": {
   "display_name": "Python 3",
   "language": "python",
   "name": "python3"
  },
  "language_info": {
   "codemirror_mode": {
    "name": "ipython",
    "version": 3
   },
   "file_extension": ".py",
   "mimetype": "text/x-python",
   "name": "python",
   "nbconvert_exporter": "python",
   "pygments_lexer": "ipython3",
   "version": "3.10.12"
  }
 },
 "nbformat": 4,
 "nbformat_minor": 5
}
