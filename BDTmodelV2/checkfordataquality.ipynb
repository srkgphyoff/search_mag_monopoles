{
 "cells": [
  {
   "cell_type": "code",
   "execution_count": 1,
   "id": "d5633044",
   "metadata": {},
   "outputs": [],
   "source": [
    "import ROOT\n",
    "from ROOT import TMVA"
   ]
  },
  {
   "cell_type": "code",
   "execution_count": 2,
   "id": "e0a2210e",
   "metadata": {},
   "outputs": [],
   "source": [
    "#Creating output file, factory object and opening input files\n",
    "outputFile = ROOT.TFile(\"TMVASVM.root\", \"RECREATE\")\n",
    "factory = TMVA.Factory(\"tmvaTest\", outputFile, \"\")\n",
    "dataLoader = TMVA.DataLoader(\"dataset\")\n",
    "\n",
    "trainFile = ROOT.TFile(\"trainData.root\")\n",
    "testFile = ROOT.TFile(\"testData.root\")"
   ]
  },
  {
   "cell_type": "code",
   "execution_count": 3,
   "id": "6b10f768",
   "metadata": {},
   "outputs": [],
   "source": [
    "#Getting the TTree objects from input files\n",
    "sigTrain = trainFile.Get(\"sig\")\n",
    "bkgTrain = trainFile.Get(\"bkg\")\n",
    "nSigTrain = sigTrain.GetEntries()\n",
    "nBkgTrain = bkgTrain.GetEntries()\n",
    "\n",
    "sigTest = testFile.Get(\"sig\")\n",
    "bkgTest = testFile.Get(\"bkg\")\n",
    "nSigTest = sigTest.GetEntries()\n",
    "nBkgTest = bkgTest.GetEntries()"
   ]
  },
  {
   "cell_type": "code",
   "execution_count": null,
   "id": "dd203347",
   "metadata": {},
   "outputs": [
    {
     "name": "stdout",
     "output_type": "stream",
     "text": [
      "Checking Name: sig Title: sig:\n",
      "ADC_mean RMS: 658.6779529582083\n",
      "nhits_min RMS: 54.99992587440706\n",
      "entry_dist RMS: 47.89196477076266\n",
      "exit_dist RMS: 47.70996292155345\n",
      "docasqrx_max RMS: 117.965906155218\n",
      "docasqry_max RMS: 70.23286289863915\n",
      "Checking Name: bkg Title: bkg:\n",
      "ADC_mean RMS: 464.858991352053\n",
      "nhits_min RMS: 32.5645422385137\n",
      "entry_dist RMS: 83.87544058277456\n",
      "exit_dist RMS: 181.37942154547227\n",
      "docasqrx_max RMS: 1376.3523035299615\n",
      "docasqry_max RMS: 428.2185879700052\n",
      "Checking Name: sig Title: sig:\n",
      "ADC_mean RMS: 657.9280673505798\n",
      "nhits_min RMS: 55.0226923873578\n",
      "entry_dist RMS: 47.82156976381375\n",
      "exit_dist RMS: 47.682299796901596\n",
      "docasqrx_max RMS: 108.08766911036206\n",
      "docasqry_max RMS: 67.27110713040723\n",
      "Checking Name: bkg Title: bkg:\n",
      "ADC_mean RMS: 464.8532504016561\n",
      "nhits_min RMS: 32.56950373543477\n",
      "entry_dist RMS: 83.85544823868756\n",
      "exit_dist RMS: 181.35445670918904\n",
      "docasqrx_max RMS: 1357.7754396258117\n",
      "docasqry_max RMS: 614.2566186925518\n"
     ]
    }
   ],
   "source": [
    "# for tree in [sigTrain,bkgTrain,sigTest,bkgTest]:\n",
    "#     print(f\"Checking {tree}:\")\n",
    "#     for var in [\"ADC_mean\", \"nhits_min\", \"entry_dist\", \"exit_dist\", \"docasqrx_max\", \"docasqry_max\"]:\n",
    "#         tree.Draw(f\"{var}>>htemp(100)\", \"\", \"goff\")\n",
    "#         htemp = ROOT.gDirectory.Get(\"htemp\")\n",
    "#         print(f\"{var} RMS: {htemp.GetRMS()}\")\n"
   ]
  },
  {
   "cell_type": "code",
   "execution_count": 6,
   "id": "bcdf7d80",
   "metadata": {},
   "outputs": [
    {
     "name": "stdout",
     "output_type": "stream",
     "text": [
      "\n",
      "Checking sig in trainData.root:\n",
      "  Total entries: 1049610\n",
      "    ADC_mean       : Valid = 1049610, NaN/Inf = 0\n",
      "    nhits_min      : Valid = 1049610, NaN/Inf = 0\n",
      "    entry_dist     : Valid = 1049610, NaN/Inf = 0\n",
      "    exit_dist      : Valid = 1049610, NaN/Inf = 0\n",
      "    docasqrx_max   : Valid = 1049610, NaN/Inf = 0\n",
      "    docasqry_max   : Valid = 1049610, NaN/Inf = 0\n",
      "\n",
      "Checking bkg in trainData.root:\n",
      "  Total entries: 15649959\n",
      "    ADC_mean       : Valid = 15649959, NaN/Inf = 0\n",
      "    nhits_min      : Valid = 15649959, NaN/Inf = 0\n",
      "    entry_dist     : Valid = 15649959, NaN/Inf = 0\n",
      "    exit_dist      : Valid = 15649959, NaN/Inf = 0\n",
      "    docasqrx_max   : Valid = 15649959, NaN/Inf = 0\n",
      "    docasqry_max   : Valid = 15649959, NaN/Inf = 0\n",
      "\n",
      "Checking sig in testData.root:\n",
      "  Total entries: 1048532\n",
      "    ADC_mean       : Valid = 1048532, NaN/Inf = 0\n",
      "    nhits_min      : Valid = 1048532, NaN/Inf = 0\n",
      "    entry_dist     : Valid = 1048532, NaN/Inf = 0\n",
      "    exit_dist      : Valid = 1048532, NaN/Inf = 0\n",
      "    docasqrx_max   : Valid = 1048532, NaN/Inf = 0\n",
      "    docasqry_max   : Valid = 1048532, NaN/Inf = 0\n",
      "\n",
      "Checking bkg in testData.root:\n",
      "  Total entries: 15652710\n",
      "    ADC_mean       : Valid = 15652710, NaN/Inf = 0\n",
      "    nhits_min      : Valid = 15652710, NaN/Inf = 0\n",
      "    entry_dist     : Valid = 15652710, NaN/Inf = 0\n",
      "    exit_dist      : Valid = 15652710, NaN/Inf = 0\n",
      "    docasqrx_max   : Valid = 15652710, NaN/Inf = 0\n",
      "    docasqry_max   : Valid = 15652710, NaN/Inf = 0\n"
     ]
    }
   ],
   "source": [
    "# List of variables to check\n",
    "variables = [\n",
    "    \"ADC_mean\",\n",
    "    \"nhits_min\",\n",
    "    \"entry_dist\",\n",
    "    \"exit_dist\",\n",
    "    \"docasqrx_max\",\n",
    "    \"docasqry_max\"\n",
    "]\n",
    "\n",
    "# Loop over both files and both trees\n",
    "for filename in [\"trainData.root\", \"testData.root\"]:\n",
    "    for tree in [\"sig\", \"bkg\"]:\n",
    "        print(f\"\\nChecking {tree} in {filename}:\")\n",
    "        df = ROOT.RDataFrame(tree, filename)\n",
    "        total_entries = df.Count().GetValue()\n",
    "        print(f\"  Total entries: {total_entries}\")\n",
    "\n",
    "        for var in variables:\n",
    "            good_count = df.Filter(f\"!(isnan({var}) || isinf({var}))\").Count().GetValue()\n",
    "            bad_count = total_entries - good_count\n",
    "            print(f\"    {var:<15}: Valid = {good_count}, NaN/Inf = {bad_count}\")"
   ]
  },
  {
   "cell_type": "code",
   "execution_count": null,
   "id": "3fb1490c",
   "metadata": {},
   "outputs": [],
   "source": []
  }
 ],
 "metadata": {
  "kernelspec": {
   "display_name": "Python 3",
   "language": "python",
   "name": "python3"
  },
  "language_info": {
   "codemirror_mode": {
    "name": "ipython",
    "version": 3
   },
   "file_extension": ".py",
   "mimetype": "text/x-python",
   "name": "python",
   "nbconvert_exporter": "python",
   "pygments_lexer": "ipython3",
   "version": "3.10.12"
  }
 },
 "nbformat": 4,
 "nbformat_minor": 5
}
