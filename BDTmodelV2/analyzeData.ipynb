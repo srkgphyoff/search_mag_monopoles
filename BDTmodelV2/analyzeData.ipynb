{
 "cells": [
  {
   "cell_type": "code",
   "execution_count": 1,
   "id": "aa37d010",
   "metadata": {},
   "outputs": [],
   "source": [
    "import ROOT\n",
    "from OutFunc import OutFunc"
   ]
  },
  {
   "cell_type": "code",
   "execution_count": 2,
   "id": "f2d028b5",
   "metadata": {},
   "outputs": [
    {
     "data": {
      "text/plain": [
       "<cppyy.gbl.TMVA.Tools object at 0x633c5ea43450>"
      ]
     },
     "execution_count": 2,
     "metadata": {},
     "output_type": "execute_result"
    }
   ],
   "source": [
    "ROOT.TMVA.Tools.Instance()"
   ]
  },
  {
   "cell_type": "code",
   "execution_count": 3,
   "id": "2506a7c0",
   "metadata": {},
   "outputs": [],
   "source": [
    "#Set up an output file and book some histograms\n",
    "#histFile = ROOT.TFile(\"analysis.root\", \"RECREATE\")\n",
    "hSigTrain = ROOT.TH1D(\"hSigTrain\", \"BDT, Signal (Train)\", 100, -1.0, 1.0)\n",
    "hBkgTrain = ROOT.TH1D(\"hBkgTrain\", \"BDT, Background (Train)\", 100, -1.0, 1.0)\n",
    "hSigTest  = ROOT.TH1D(\"hSigTest\",  \"BDT, Signal (Test)\", 100, -1.0, 1.0)\n",
    "hBkgTest  = ROOT.TH1D(\"hBkgTest\",  \"BDT, Background (Test)\", 100, -1.0, 1.0)"
   ]
  },
  {
   "cell_type": "code",
   "execution_count": 4,
   "id": "1847c287",
   "metadata": {},
   "outputs": [
    {
     "name": "stdout",
     "output_type": "stream",
     "text": [
      "                         : Booking \"BDTcheck\" of type \"BDT\" from dataset/weights//tmvaTest_BDTcheck.weights.xml.\n",
      "                         : Reading weight file: dataset/weights//tmvaTest_BDTcheck.weights.xml\n",
      "<HEADER> DataSetInfo              : [Default] : Added class \"Signal\"\n",
      "<HEADER> DataSetInfo              : [Default] : Added class \"Background\"\n",
      "                         : Booked classifier \"BDTcheck\" of type: \"BDT\"\n"
     ]
    }
   ],
   "source": [
    "# Set up the OutFunc object.  First argument must be one of the classifiers.\n",
    "# 4th argument is offset for contour.\n",
    "# 5th argument is bool array indicating which variables were used in training\n",
    "dir = \"dataset/weights/\"\n",
    "prefix = \"tmvaTest\"\n",
    "name = \"BDTcheck\"\n",
    "tCut = 0.0\n",
    "useVar = [False, True, True, True, True, True, True]\n",
    "\n",
    "testStat = OutFunc(name, dir, prefix, tCut, useVar)"
   ]
  },
  {
   "cell_type": "code",
   "execution_count": 5,
   "id": "b1ca1e02",
   "metadata": {},
   "outputs": [],
   "source": [
    "# === Function to fill histograms ===\n",
    "def fill_histograms(input_path, is_test):\n",
    "    inputFile = ROOT.TFile(input_path)\n",
    "    sig = inputFile.Get(\"sig\")\n",
    "    bkg = inputFile.Get(\"bkg\")\n",
    "\n",
    "    for i, tree in enumerate([sig, bkg]):\n",
    "        numEntries = tree.GetEntries()\n",
    "        print(f\"{'Test' if is_test else 'Train'} Tree: {'sig' if i==0 else 'bkg'}, Entries: {numEntries}\")\n",
    "\n",
    "        for j in range(numEntries):\n",
    "            tree.GetEntry(j)\n",
    "            t = testStat.val(tree)\n",
    "\n",
    "            if i == 0:  # signal\n",
    "                if is_test:\n",
    "                    hSigTest.Fill(t)\n",
    "                else:\n",
    "                    hSigTrain.Fill(t)\n",
    "            else:       # background\n",
    "                if is_test:\n",
    "                    hBkgTest.Fill(t)\n",
    "                else:\n",
    "                    hBkgTrain.Fill(t)\n",
    "\n",
    "    inputFile.Close()"
   ]
  },
  {
   "cell_type": "code",
   "execution_count": 6,
   "id": "7ef8f494",
   "metadata": {},
   "outputs": [
    {
     "name": "stdout",
     "output_type": "stream",
     "text": [
      "Train Tree: sig, Entries: 104918\n",
      "Train Tree: bkg, Entries: 1565055\n",
      "Test Tree: sig, Entries: 105370\n",
      "Test Tree: bkg, Entries: 1563066\n",
      "                         : Rebuilding Dataset Default\n"
     ]
    }
   ],
   "source": [
    "# === Apply to both training and testing files ===\n",
    "fill_histograms(\"smalltrainData.root\", is_test=False)\n",
    "fill_histograms(\"smalltestData.root\", is_test=True)"
   ]
  },
  {
   "cell_type": "code",
   "execution_count": 9,
   "id": "323c9200",
   "metadata": {},
   "outputs": [],
   "source": [
    "# === Save all histograms to one file ===\n",
    "histFile = ROOT.TFile(\"BDTcheck_analysis_full.root\", \"RECREATE\")\n",
    "for hist in [hSigTrain, hBkgTrain, hSigTest, hBkgTest]:\n",
    "    hist.Write()\n",
    "histFile.Close()"
   ]
  },
  {
   "cell_type": "code",
   "execution_count": 8,
   "id": "c544aa17",
   "metadata": {},
   "outputs": [],
   "source": [
    "#ROC curves can be generated"
   ]
  },
  {
   "cell_type": "code",
   "execution_count": null,
   "id": "be3cc3e7",
   "metadata": {},
   "outputs": [],
   "source": []
  }
 ],
 "metadata": {
  "kernelspec": {
   "display_name": "Python 3",
   "language": "python",
   "name": "python3"
  },
  "language_info": {
   "codemirror_mode": {
    "name": "ipython",
    "version": 3
   },
   "file_extension": ".py",
   "mimetype": "text/x-python",
   "name": "python",
   "nbconvert_exporter": "python",
   "pygments_lexer": "ipython3",
   "version": "3.10.12"
  }
 },
 "nbformat": 4,
 "nbformat_minor": 5
}
