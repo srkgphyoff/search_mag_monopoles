{
 "cells": [
  {
   "cell_type": "code",
   "execution_count": 2,
   "id": "55e0b597",
   "metadata": {},
   "outputs": [],
   "source": [
    "import ROOT"
   ]
  },
  {
   "cell_type": "code",
   "execution_count": 3,
   "id": "b16e8549",
   "metadata": {},
   "outputs": [
    {
     "data": {
      "text/plain": [
       "<cppyy.gbl.ROOT.RDF.RResultPtr<ROOT::RDF::RInterface<ROOT::Detail::RDF::RLoopManager,void> > object at 0x5bb97d038900>"
      ]
     },
     "execution_count": 3,
     "metadata": {},
     "output_type": "execute_result"
    },
    {
     "name": "stderr",
     "output_type": "stream",
     "text": [
      "input_line_73:2:207: warning: self-comparison always evaluates to false [-Wtautological-compare]\n",
      "auto func0(const Double_t var0, const Double_t var1, const Double_t var2, const Double_t var3, const Double_t var4, const Double_t var5, const Int_t var6, const Double_t var7){return !(var7 != var7 || var6 != var6 || var1 != var1 || var0 != var0 || var4 != var4 || var5 != var5 || var3 != var3 || var2 != var2)\n",
      "                                                                                                                                                                                                              ^\n"
     ]
    }
   ],
   "source": [
    "# Signal cleaning\n",
    "df_sig = ROOT.RDataFrame(\"OutputTreeSig\", \"outputSig.root\")\n",
    "df_sig = df_sig.Filter(\"!(logdEdx != logdEdx || nhits_min != nhits_min || docasqrx_mean != docasqrx_mean || docasqry_mean != docasqry_mean || entry_dist != entry_dist || exit_dist != exit_dist || docasqrx_max != docasqrx_max || docasqry_max != docasqry_max)\")\n",
    "df_sig.Snapshot(\"sig\", \"dataSig.root\")"
   ]
  },
  {
   "cell_type": "code",
   "execution_count": 4,
   "id": "cab8b8bc",
   "metadata": {},
   "outputs": [
    {
     "data": {
      "text/plain": [
       "<cppyy.gbl.ROOT.RDF.RResultPtr<ROOT::RDF::RInterface<ROOT::Detail::RDF::RLoopManager,void> > object at 0x5bb982116390>"
      ]
     },
     "execution_count": 4,
     "metadata": {},
     "output_type": "execute_result"
    }
   ],
   "source": [
    "# Background cleaning\n",
    "df_bkg = ROOT.RDataFrame(\"OutputTreeBg\", \"outputBg.root\")\n",
    "df_bkg = df_bkg.Filter(\"!(logdEdx != logdEdx || nhits_min != nhits_min || docasqrx_mean != docasqrx_mean || docasqry_mean != docasqry_mean || entry_dist != entry_dist || exit_dist != exit_dist || docasqrx_max != docasqrx_max || docasqry_max != docasqry_max)\")\n",
    "df_bkg.Snapshot(\"bkg\", \"dataBkg.root\")"
   ]
  },
  {
   "cell_type": "code",
   "execution_count": null,
   "id": "4f369d5d",
   "metadata": {},
   "outputs": [],
   "source": []
  }
 ],
 "metadata": {
  "kernelspec": {
   "display_name": "Python 3",
   "language": "python",
   "name": "python3"
  },
  "language_info": {
   "codemirror_mode": {
    "name": "ipython",
    "version": 3
   },
   "file_extension": ".py",
   "mimetype": "text/x-python",
   "name": "python",
   "nbconvert_exporter": "python",
   "pygments_lexer": "ipython3",
   "version": "3.10.12"
  }
 },
 "nbformat": 4,
 "nbformat_minor": 5
}
