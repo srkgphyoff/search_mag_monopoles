{
 "cells": [
  {
   "cell_type": "code",
   "execution_count": 2,
   "id": "9579c23f",
   "metadata": {},
   "outputs": [],
   "source": [
    "import ROOT"
   ]
  },
  {
   "cell_type": "code",
   "execution_count": 3,
   "id": "d3dec09a",
   "metadata": {},
   "outputs": [],
   "source": [
    "dfb = ROOT.RDataFrame(\"bkg\", \"fulldataBkg.root\")\n",
    "dfs = ROOT.RDataFrame(\"sig\", \"fulldataSig.root\")\n",
    "\n",
    "dfb = dfb.Define(\"rand\", \"gRandom->Rndm()\")\n",
    "dfs = dfs.Define(\"rand\", \"gRandom->Rndm()\")\n",
    "\n",
    "# Define filters for the three sets\n",
    "def split_sets(df):\n",
    "    df_train = df.Filter(\"rand < 0.6\")\n",
    "    df_valid = df.Filter(\"rand >= 0.6 && rand < 0.8\")\n",
    "    df_test  = df.Filter(\"rand >= 0.8\")\n",
    "    return df_train, df_valid, df_test\n",
    "\n",
    "# Apply the splitting\n",
    "dfs_train, dfs_valid, dfs_test = split_sets(dfs)\n",
    "dfb_train, dfb_valid, dfb_test = split_sets(dfb)\n",
    "\n",
    "# Combine signal and background for each split using RDF `AsNumpy` -> then `MakeNumpyDataFrame`\n",
    "def merge_and_save(dfsplit, dfbsplit, filename):\n",
    "    # Combine using ROOT RDataFrame Concatenation via snapshots\n",
    "    # Save separately to temporary files\n",
    "    dfsplit.Snapshot(\"sig\", \"temp_sig.root\")\n",
    "    dfbsplit.Snapshot(\"bkg\", \"temp_bkg.root\")\n",
    "\n",
    "    # Open both trees and merge them into one file\n",
    "    f_sig = ROOT.TFile(\"temp_sig.root\")\n",
    "    f_bkg = ROOT.TFile(\"temp_bkg.root\")\n",
    "\n",
    "    t_sig = f_sig.Get(\"sig\")\n",
    "    t_bkg = f_bkg.Get(\"bkg\")\n",
    "\n",
    "    fout = ROOT.TFile(filename, \"RECREATE\")\n",
    "    t_sig_clone = t_sig.CloneTree()\n",
    "    t_bkg_clone = t_bkg.CloneTree()\n",
    "    fout.Write()\n",
    "    fout.Close()\n",
    "\n",
    "    f_sig.Close()\n",
    "    f_bkg.Close()\n",
    "\n",
    "# Save merged files\n",
    "merge_and_save(dfs_train, dfb_train, \"trainData.root\")\n",
    "merge_and_save(dfs_valid, dfb_valid, \"validData.root\")\n",
    "merge_and_save(dfs_test,  dfb_test,  \"testData.root\")"
   ]
  },
  {
   "cell_type": "code",
   "execution_count": null,
   "id": "f087abb6",
   "metadata": {},
   "outputs": [],
   "source": []
  }
 ],
 "metadata": {
  "kernelspec": {
   "display_name": "Python 3",
   "language": "python",
   "name": "python3"
  },
  "language_info": {
   "codemirror_mode": {
    "name": "ipython",
    "version": 3
   },
   "file_extension": ".py",
   "mimetype": "text/x-python",
   "name": "python",
   "nbconvert_exporter": "python",
   "pygments_lexer": "ipython3",
   "version": "3.10.12"
  }
 },
 "nbformat": 4,
 "nbformat_minor": 5
}
