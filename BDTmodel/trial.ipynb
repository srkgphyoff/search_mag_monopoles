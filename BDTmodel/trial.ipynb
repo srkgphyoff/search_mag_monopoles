{
 "cells": [
  {
   "cell_type": "code",
   "execution_count": 2,
   "id": "1663086e",
   "metadata": {},
   "outputs": [],
   "source": [
    "import ROOT\n",
    "from ROOT import TMVA"
   ]
  },
  {
   "cell_type": "code",
   "execution_count": 4,
   "id": "683af452",
   "metadata": {},
   "outputs": [
    {
     "name": "stdout",
     "output_type": "stream",
     "text": [
      "False\n"
     ]
    }
   ],
   "source": [
    "TMVA.Tools.Instance()\n",
    "\n",
    "f = ROOT.TFile(\"test.root\", \"RECREATE\")\n",
    "factory = TMVA.Factory(\"test\", f, \"\")\n",
    "print(hasattr(factory, \"HyperParameterOptimization\"))  # should print True"
   ]
  },
  {
   "cell_type": "code",
   "execution_count": null,
   "id": "89a0476a",
   "metadata": {},
   "outputs": [],
   "source": []
  }
 ],
 "metadata": {
  "kernelspec": {
   "display_name": "Python 3",
   "language": "python",
   "name": "python3"
  },
  "language_info": {
   "codemirror_mode": {
    "name": "ipython",
    "version": 3
   },
   "file_extension": ".py",
   "mimetype": "text/x-python",
   "name": "python",
   "nbconvert_exporter": "python",
   "pygments_lexer": "ipython3",
   "version": "3.10.12"
  }
 },
 "nbformat": 4,
 "nbformat_minor": 5
}
