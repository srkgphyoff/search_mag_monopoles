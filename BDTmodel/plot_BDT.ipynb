{
 "cells": [
  {
   "cell_type": "code",
   "execution_count": null,
   "id": "bf879905",
   "metadata": {},
   "outputs": [],
   "source": [
    "import ROOT"
   ]
  },
  {
   "cell_type": "code",
   "execution_count": null,
   "id": "c1028cbf",
   "metadata": {},
   "outputs": [],
   "source": [
    "file = ROOT.TFile.Open(\"analysisfinal.root\")\n",
    "if not file or file.IsZombie():\n",
    "    raise RuntimeError(\"Could not open file or file is corrupted.\")\n",
    "\n",
    "#Retrieving histograms\n",
    "hSig = file.Get(\"hSig\")\n",
    "hBkg = file.Get(\"hBkg\")\n",
    "if not file or not hBkg:\n",
    "    raise RuntimeError(\"Could not find histograms in file.\")\n",
    "\n",
    "#Setting Styles\n",
    "hSig.SetLineColor(ROOT.kRed)\n",
    "hSig.SetLineWidth(2)\n",
    "hSig.SetTitle(\"Signal vs Background; BDT output; Entries\")\n",
    "\n",
    "hBkg.SetLineColor(ROOT.kBlue)s\n",
    "hBkg.SetLineWidth(2)\n",
    "\n",
    "#Setting Axis Limits\n",
    "#hSig.GetXaxis().SetLimits(0.0, 1.0)\n",
    "#hSig.SetMinimum(0)\n",
    "#hSig.SetMaximum(max(hSig.GetMaximum(), hBkg.GetMaximum()) * 1.2)\n",
    "\n",
    "#Normalizing\n",
    "for h in [hSig, hBkg]:\n",
    "    if h.Integral()>0:\n",
    "        h.Scale(1.0/h.Integral())\n",
    "\n",
    "#Creating Canvas and Drawing\n",
    "%jsroot on\n",
    "c = ROOT.TCanvas(\"c\", \"Comparison\", 800, 600)\n",
    "hSig.Draw(\"HIST\")\n",
    "hBkg.Draw(\"HIST SAME\")\n",
    "\n",
    "#Add legend\n",
    "legend = ROOT.TLegend(0.7, 0.75, 0.9, 0.9)\n",
    "legend.AddEntry(hSig, \"Signal\", \"l\")\n",
    "legend.AddEntry(hBkg, \"Background\", \"l\")\n",
    "legend.Draw()\n",
    "\n",
    "\n",
    "#Drawing and saving plot\n",
    "c.Draw()\n",
    "c.SaveAs(\"BDTfinal.png\")"
   ]
  }
 ],
 "metadata": {
  "kernelspec": {
   "display_name": "Python 3",
   "language": "python",
   "name": "python3"
  },
  "language_info": {
   "codemirror_mode": {
    "name": "ipython",
    "version": 3
   },
   "file_extension": ".py",
   "mimetype": "text/x-python",
   "name": "python",
   "nbconvert_exporter": "python",
   "pygments_lexer": "ipython3",
   "version": "3.10.12"
  }
 },
 "nbformat": 4,
 "nbformat_minor": 5
}
