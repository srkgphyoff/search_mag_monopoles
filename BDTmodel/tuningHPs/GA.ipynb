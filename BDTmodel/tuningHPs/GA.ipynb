{
 "cells": [
  {
   "cell_type": "markdown",
   "id": "90522ad6",
   "metadata": {},
   "source": [
    "# GA for tuning Hyperparameters"
   ]
  },
  {
   "cell_type": "code",
   "execution_count": 1,
   "id": "7af86d63",
   "metadata": {},
   "outputs": [],
   "source": [
    "import ROOT \n",
    "from ROOT import TMVA\n",
    "from genetic_algo_helpers import *\n",
    "import random\n",
    "import copy"
   ]
  },
  {
   "cell_type": "code",
   "execution_count": 2,
   "id": "d81da475",
   "metadata": {},
   "outputs": [
    {
     "data": {
      "text/plain": [
       "<cppyy.gbl.TMVA.Tools object at 0x6038f2926d20>"
      ]
     },
     "execution_count": 2,
     "metadata": {},
     "output_type": "execute_result"
    }
   ],
   "source": [
    "TMVA.Tools.Instance()"
   ]
  },
  {
   "cell_type": "code",
   "execution_count": 3,
   "id": "d72bfb77",
   "metadata": {},
   "outputs": [],
   "source": [
    "#First we import the training data\n",
    "#Note we will use CrossValidation data file for hypertuning and tuning data for training\n",
    "trainingFile = ROOT.TFile(\"tuningData.root\")\n",
    "testFile = ROOT.TFile(\"../../modelInputData/validData.root\")\n",
    "\n",
    "#Getting the TTree objects from input files\n",
    "sigTrain = trainingFile.Get(\"sig\")\n",
    "bkgTrain = trainingFile.Get(\"bkg\")\n",
    "nSigTrain = sigTrain.GetEntries()\n",
    "nBkgTrain = bkgTrain.GetEntries()\n",
    "\n",
    "sigTest = testFile.Get(\"sig\")\n",
    "bkgTest = testFile.Get(\"bkg\")\n",
    "nSigTest = sigTest.GetEntries()\n",
    "nBkgTest = bkgTest.GetEntries()\n",
    "\n",
    "#GlobalEventWeights\n",
    "sigWeight = 1.0\n",
    "bkgWeight = float(nSigTrain)/float(nBkgTrain)"
   ]
  },
  {
   "cell_type": "code",
   "execution_count": 4,
   "id": "6ab3d2de",
   "metadata": {},
   "outputs": [],
   "source": [
    "#Now we define function which evalues the AUC of a model\n",
    "def evaluate(individual):\n",
    "    option_string = indTMVAOpt(individual, float_prec=2)\n",
    "\n",
    "    #Output discarded to avoid file creation\n",
    "    outputFile = ROOT.TFile.Open(\"/dev/null\", \"RECREATE\")\n",
    "    factory = ROOT.TMVA.Factory(\"TMVAHypertuning\", outputFile, \"!V:!Silent\")\n",
    "    dataLoader = ROOT.TMVA.DataLoader(\"datasetTuning\")\n",
    "\n",
    "    #add trees and variables\n",
    "    dataLoader.AddSignalTree(sigTrain, sigWeight, TMVA.Types.kTraining)\n",
    "    dataLoader.AddBackgroundTree(bkgTrain, bkgWeight, TMVA.Types.kTraining)\n",
    "    dataLoader.AddSignalTree(sigTest, sigWeight, TMVA.Types.kTesting)\n",
    "    dataLoader.AddBackgroundTree(bkgTest, bkgWeight, TMVA.Types.kTesting)\n",
    "    dataLoader.AddVariable(\"ADC_mean\", 'F')\n",
    "    dataLoader.AddVariable(\"nhits_min\", 'F')\n",
    "    dataLoader.AddVariable(\"entry_dist\", 'F')\n",
    "    dataLoader.AddVariable(\"exit_dist\", 'F')\n",
    "    dataLoader.AddVariable(\"docasqrx_max\", 'F')\n",
    "    dataLoader.AddVariable(\"docasqry_max\", 'F')\n",
    "\n",
    "    #TrainBDT\n",
    "    factory.BookMethod(dataLoader, TMVA.Types.kBDT, \"BDT\", option_string)\n",
    "    factory.TrainAllMethods()\n",
    "    factory.TestAllMethods()\n",
    "    factory.EvaluateAllMethods()\n",
    "\n",
    "    #Returning AUC output\n",
    "    auc = factory.GetROCIntegral(\"datasetTuning\",\"BDT\")\n",
    "\n",
    "    outputFile.Close()\n",
    "\n",
    "    return auc"
   ]
  },
  {
   "cell_type": "code",
   "execution_count": 5,
   "id": "afde69b2",
   "metadata": {},
   "outputs": [],
   "source": [
    "#The ranges of hyperparameters\n",
    "parameter_ranges = {\n",
    "    \"NTrees\": (100, 800),\n",
    "    \"MaxDepth\": (2, 5),\n",
    "    \"MinNodeSize\": (1.0, 5.0),\n",
    "    \"Shrinkage\": (0.01, 0.1),\n",
    "    \"nCuts\" : (20, 100),\n",
    "    \"BaggedSampleFraction\" : (0.5, 1.0)\n",
    "}"
   ]
  },
  {
   "cell_type": "code",
   "execution_count": 6,
   "id": "40824991",
   "metadata": {},
   "outputs": [],
   "source": [
    "#FInal Helper function\n",
    "def tournament_selection(population, scores, k):\n",
    "    selected = random.sample(list(zip(population, scores)), k)\n",
    "    selected.sort(key = lambda x:x[1], reverse=True)    #HIgher AUC scores first\n",
    "    return selected[0][0]"
   ]
  },
  {
   "cell_type": "code",
   "execution_count": 7,
   "id": "05ba1f9f",
   "metadata": {},
   "outputs": [],
   "source": [
    "#GA\n",
    "def genetic_algorithm(parameter_ranges, pop_size, generations, crossover_rate, mutation_rate, float_prec, tournament_size):\n",
    "    \"\"\"\n",
    "    Genetic Algorithm to optimize TMVA BDT for hyperparametes\n",
    "\n",
    "    Parameters:\n",
    "    - parameter_ranges : dict of parameter ranges\n",
    "    - pop_size : int, number of individuals per generation\n",
    "    - generations : int, number of generations\n",
    "    - crossover_rate : float\n",
    "    - mutation_rate : float\n",
    "    - float_prec : int\n",
    "    - tournament_size : int\n",
    "\n",
    "    Returns:\n",
    "    - best_individual : dict of best hyperparameters\n",
    "    - best_auc : float, corresponding AUC\n",
    "    \"\"\"\n",
    "\n",
    "    #Initialize populations\n",
    "    population = [createIndividual(parameter_ranges) for _ in range(pop_size)]\n",
    "    scores = []\n",
    "\n",
    "    best_individual = None\n",
    "    best_auc = -1.0\n",
    "\n",
    "    for gen in range(generations):\n",
    "        print(f\"\\n Generation {gen + 1}/{generations}\")\n",
    "\n",
    "        #Evaluate individuals\n",
    "        scores = []\n",
    "        for i,ind in enumerate(population):\n",
    "            print(f\" -> Evaluating individual {i+1}/{pop_size}...\", end=\"\")\n",
    "            auc = evaluate(ind)\n",
    "            print(f\" AUC = {auc:.5f}\")\n",
    "            scores.append(auc)\n",
    "\n",
    "            if auc > best_auc:\n",
    "                best_auc = auc\n",
    "                best_individual = copy.deepcopy(ind)\n",
    "\n",
    "        \n",
    "        #Logging best individual of current generation\n",
    "        print(f\"Best AUc this generation : {max(scores):.5f}\")\n",
    "\n",
    "    \n",
    "        #Create new generation \n",
    "        new_population = []\n",
    "        while len(new_population) < pop_size:\n",
    "            parent1 = tournament_selection(population, scores, tournament_size)\n",
    "            parent2 = tournament_selection(population, scores, tournament_size)\n",
    "            child = crossOver(parent1, parent2, crossover_rate)\n",
    "            child = mutate(child, mutation_rate, parameter_ranges)\n",
    "            new_population.append(child)\n",
    "\n",
    "        population = new_population\n",
    "\n",
    "\n",
    "    print(\"\\n GENETIC ALGORITHM COMPLETED.\")\n",
    "    print(f\"Best AUC : {best_auc:.5f}\")\n",
    "    print(f\"Best Hyperparameters: {best_individual}\")\n",
    "\n",
    "    return best_individual, best_auc"
   ]
  },
  {
   "cell_type": "code",
   "execution_count": 8,
   "id": "3b0a1424",
   "metadata": {},
   "outputs": [
    {
     "name": "stdout",
     "output_type": "stream",
     "text": [
      "\n",
      " Generation 1/2\n",
      " -> Evaluating individual 1/10... AUC = 0.99952\n",
      " -> Evaluating individual 2/10... AUC = 0.99951\n",
      " -> Evaluating individual 3/10... AUC = 0.99957\n",
      " -> Evaluating individual 4/10... AUC = 0.99951\n",
      " -> Evaluating individual 5/10... AUC = 0.99956\n",
      " -> Evaluating individual 6/10... AUC = 0.99955\n",
      " -> Evaluating individual 7/10... AUC = 0.99927\n",
      " -> Evaluating individual 8/10... AUC = 0.99954\n",
      " -> Evaluating individual 9/10... AUC = 0.99941\n",
      " -> Evaluating individual 10/10... AUC = 0.99952\n",
      "Best AUc this generation : 0.99957\n",
      "\n",
      " Generation 2/2\n",
      " -> Evaluating individual 1/10..."
     ]
    },
    {
     "ename": "",
     "evalue": "",
     "output_type": "error",
     "traceback": [
      "\u001b[1;31mThe Kernel crashed while executing code in the current cell or a previous cell. \n",
      "\u001b[1;31mPlease review the code in the cell(s) to identify a possible cause of the failure. \n",
      "\u001b[1;31mClick <a href='https://aka.ms/vscodeJupyterKernelCrash'>here</a> for more info. \n",
      "\u001b[1;31mView Jupyter <a href='command:jupyter.viewOutput'>log</a> for further details."
     ]
    }
   ],
   "source": [
    "best_params, best_auc = genetic_algorithm(parameter_ranges, pop_size= 10, generations= 2, crossover_rate=0.7, mutation_rate=0.2, float_prec=2, tournament_size=3)"
   ]
  },
  {
   "cell_type": "code",
   "execution_count": null,
   "id": "098cae78",
   "metadata": {},
   "outputs": [],
   "source": []
  }
 ],
 "metadata": {
  "kernelspec": {
   "display_name": "Python 3",
   "language": "python",
   "name": "python3"
  },
  "language_info": {
   "codemirror_mode": {
    "name": "ipython",
    "version": 3
   },
   "file_extension": ".py",
   "mimetype": "text/x-python",
   "name": "python",
   "nbconvert_exporter": "python",
   "pygments_lexer": "ipython3",
   "version": "3.10.12"
  }
 },
 "nbformat": 4,
 "nbformat_minor": 5
}
