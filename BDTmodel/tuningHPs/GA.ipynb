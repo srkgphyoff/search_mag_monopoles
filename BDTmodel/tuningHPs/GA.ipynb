{
 "cells": [
  {
   "cell_type": "markdown",
   "id": "90522ad6",
   "metadata": {},
   "source": [
    "# GA for tuning Hyperparameters"
   ]
  },
  {
   "cell_type": "code",
   "execution_count": null,
   "id": "7af86d63",
   "metadata": {},
   "outputs": [],
   "source": [
    "import ROOT \n",
    "from ROOT import TMVA\n",
    "from genetic_algo_helpers import *\n",
    "import random\n",
    "import copy"
   ]
  },
  {
   "cell_type": "code",
   "execution_count": null,
   "id": "d81da475",
   "metadata": {},
   "outputs": [],
   "source": [
    "TMVA.Tools.Instance()"
   ]
  },
  {
   "cell_type": "code",
   "execution_count": null,
   "id": "d72bfb77",
   "metadata": {},
   "outputs": [],
   "source": [
    "#First we import the training data\n",
    "#Note we will use CrossValidation data file for hypertuning and tuning data for training\n",
    "trainingFile = ROOT.TFile(\"tuningData.root\")\n",
    "testFile = ROOT.TFile(\"../../modelInputData/validData.root\")\n",
    "\n",
    "#Getting the TTree objects from input files\n",
    "sigTrain = trainingFile.Get(\"sig\")\n",
    "bkgTrain = trainingFile.Get(\"bkg\")\n",
    "nSigTrain = sigTrain.GetEntries()\n",
    "nBkgTrain = bkgTrain.GetEntries()\n",
    "\n",
    "sigTest = testFile.Get(\"sig\")\n",
    "bkgTest = testFile.Get(\"bkg\")\n",
    "nSigTest = sigTest.GetEntries()\n",
    "nBkgTest = bkgTest.GetEntries()\n",
    "\n",
    "#GlobalEventWeights\n",
    "sigWeight = 1.0\n",
    "bkgWeight = float(nSigTrain)/float(nBkgTrain)"
   ]
  },
  {
   "cell_type": "code",
   "execution_count": null,
   "id": "6ab3d2de",
   "metadata": {},
   "outputs": [],
   "source": [
    "#Now we define function which evalues the AUC of a model\n",
    "def evaluate(individual):\n",
    "    option_string = indTMVAOpt(individual, float_prec=2)\n",
    "\n",
    "    #Output discarded to avoid file creation\n",
    "    outputFile = ROOT.TFile.Open(\"/dev/null\", \"RECREATE\")\n",
    "    factory = ROOT.TMVA.Factory(\"TMVAHypertuning\", outputFile, \"!V:!Silent\")\n",
    "    dataLoader = ROOT.TMVA.DataLoader(\"datasetTuning\")\n",
    "\n",
    "    #add trees and variables\n",
    "    dataLoader.AddSignalTree(sigTrain, sigWeight, TMVA.Types.kTraining)\n",
    "    dataLoader.AddBackgroundTree(bkgTrain, bkgWeight, TMVA.Types.kTraining)\n",
    "    dataLoader.AddSignalTree(sigTest, sigWeight, TMVA.Types.kTesting)\n",
    "    dataLoader.AddBackgroundTree(bkgTest, bkgWeight, TMVA.Types.kTesting)\n",
    "    dataLoader.AddVariable(\"ADC_mean\", 'F')\n",
    "    dataLoader.AddVariable(\"nhits_min\", 'F')\n",
    "    dataLoader.AddVariable(\"entry_dist\", 'F')\n",
    "    dataLoader.AddVariable(\"exit_dist\", 'F')\n",
    "    dataLoader.AddVariable(\"docasqrx_max\", 'F')\n",
    "    dataLoader.AddVariable(\"docasqry_max\", 'F')\n",
    "\n",
    "    #TrainBDT\n",
    "    factory.BookMethod(dataLoader, TMVA.Types.kBDT, \"BDT\", option_string)\n",
    "    factory.TrainAllMethods()\n",
    "    factory.TestAllMethods()\n",
    "    factory.EvaluateAllMethods()\n",
    "\n",
    "    #Returning AUC output\n",
    "    auc = factory.GetROCIntegral(\"datasetTuning\",\"BDT\")\n",
    "\n",
    "    outputFile.Close()\n",
    "\n",
    "    return auc"
   ]
  },
  {
   "cell_type": "code",
   "execution_count": null,
   "id": "afde69b2",
   "metadata": {},
   "outputs": [],
   "source": [
    "#The ranges of hyperparameters\n",
    "parameter_ranges = {\n",
    "    \"NTrees\": (100, 800),\n",
    "    \"MaxDepth\": (2, 5),\n",
    "    \"MinNodeSize\": (1.0, 5.0),\n",
    "    \"Shrinkage\": (0.01, 0.1),\n",
    "    \"nCuts\" : (20, 100),\n",
    "    \"BaggedSampleFraction\" : (0.5, 1.0)\n",
    "}"
   ]
  },
  {
   "cell_type": "code",
   "execution_count": null,
   "id": "40824991",
   "metadata": {},
   "outputs": [],
   "source": [
    "#FInal Helper function\n",
    "def tournament_selection(population, scores, k):\n",
    "    selected = random.sample(list(zip(population, scores)), k)\n",
    "    selected.sort(key = lambda x:x[1], reverse=True)    #HIgher AUC scores first\n",
    "    return selected[0][0]"
   ]
  },
  {
   "cell_type": "code",
   "execution_count": null,
   "id": "05ba1f9f",
   "metadata": {},
   "outputs": [],
   "source": [
    "#GA\n",
    "def genetic_algorithm(parameter_ranges, pop_size, generations, crossover_rate, mutation_rate, float_prec, tournament_size):\n",
    "    \"\"\"\n",
    "    Genetic Algorithm to optimize TMVA BDT for hyperparametes\n",
    "\n",
    "    Parameters:\n",
    "    - parameter_ranges : dict of parameter ranges\n",
    "    - pop_size : int, number of individuals per generation\n",
    "    - generations : int, number of generations\n",
    "    - crossover_rate : float\n",
    "    - mutation_rate : float\n",
    "    - float_prec : int\n",
    "    - tournament_size : int\n",
    "\n",
    "    Returns:\n",
    "    - best_individual : dict of best hyperparameters\n",
    "    - best_auc : float, corresponding AUC\n",
    "    \"\"\"\n",
    "\n",
    "    #Initialize populations\n",
    "    population = [createIndividual(parameter_ranges) for _ in range(pop_size)]\n",
    "    scores = []\n",
    "\n",
    "    best_individual = None\n",
    "    best_auc = -1.0\n",
    "\n",
    "    for gen in range(generations):\n",
    "        print(f\"\\n Generation {gen + 1}/{generations}\")\n",
    "\n",
    "        #Evaluate individuals\n",
    "        scores = []\n",
    "        for i,ind in enumerate(population):\n",
    "            print(f\" -> Evaluating individual {i+1}/{pop_size}...\", end=\"\")\n",
    "            auc = evaluate(ind)\n",
    "            print(f\" AUC = {auc:.5f}\")\n",
    "            scores.append(auc)\n",
    "\n",
    "            if auc > best_auc:\n",
    "                best_auc = auc\n",
    "                best_individual = copy.deepcopy(ind)\n",
    "\n",
    "        \n",
    "        #Logging best individual of current generation\n",
    "        print(f\"Best AUc this generation : {max(scores):.5f}\")\n",
    "\n",
    "    \n",
    "        #Create new generation \n",
    "        new_population = []\n",
    "        while len(new_population) < pop_size:\n",
    "            parent1 = tournament_selection(population, scores, tournament_size)\n",
    "            parent2 = tournament_selection(population, scores, tournament_size)\n",
    "            child = crossOver(parent1, parent2, crossover_rate)\n",
    "            child = mutate(child, mutation_rate, parameter_ranges)\n",
    "            new_population.append(child)\n",
    "\n",
    "        population = new_population\n",
    "\n",
    "\n",
    "    print(\"\\n GENETIC ALGORITHM COMPLETED.\")\n",
    "    print(f\"Best AUC : {best_auc:.5f}\")\n",
    "    print(f\"Best Hyperparameters: {best_individual}\")\n",
    "\n",
    "    return best_individual, best_auc"
   ]
  },
  {
   "cell_type": "code",
   "execution_count": null,
   "id": "3b0a1424",
   "metadata": {},
   "outputs": [],
   "source": [
    "best_params, best_auc = genetic_algorithm(parameter_ranges, pop_size= 10, generations= 2, crossover_rate=0.7, mutation_rate=0.2, float_prec=2, tournament_size=3)"
   ]
  },
  {
   "cell_type": "code",
   "execution_count": null,
   "id": "098cae78",
   "metadata": {},
   "outputs": [],
   "source": []
  }
 ],
 "metadata": {
  "kernelspec": {
   "display_name": "Python 3",
   "language": "python",
   "name": "python3"
  },
  "language_info": {
   "codemirror_mode": {
    "name": "ipython",
    "version": 3
   },
   "file_extension": ".py",
   "mimetype": "text/x-python",
   "name": "python",
   "nbconvert_exporter": "python",
   "pygments_lexer": "ipython3",
   "version": "3.10.12"
  }
 },
 "nbformat": 4,
 "nbformat_minor": 5
}
