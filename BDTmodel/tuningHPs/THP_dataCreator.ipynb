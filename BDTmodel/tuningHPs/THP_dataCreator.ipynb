{
 "cells": [
  {
   "cell_type": "code",
   "execution_count": 1,
   "id": "38e0a17a",
   "metadata": {},
   "outputs": [],
   "source": [
    "import ROOT"
   ]
  },
  {
   "cell_type": "code",
   "execution_count": 2,
   "id": "a4867626",
   "metadata": {},
   "outputs": [],
   "source": [
    "dfs = ROOT.RDataFrame(\"sig\",\"../../modelInputData/trainData.root\")\n",
    "dfb = ROOT.RDataFrame(\"bkg\",\"../../modelInputData/trainData.root\")\n"
   ]
  },
  {
   "cell_type": "code",
   "execution_count": 3,
   "id": "7300534f",
   "metadata": {},
   "outputs": [
    {
     "name": "stdout",
     "output_type": "stream",
     "text": [
      "+-----+----------+\n",
      "| Row | rand     | \n",
      "+-----+----------+\n",
      "| 93  | 0.027795 | \n",
      "+-----+----------+\n",
      "| 110 | 0.000249 | \n",
      "+-----+----------+\n",
      "| 111 | 0.003753 | \n",
      "+-----+----------+\n",
      "| 113 | 0.011821 | \n",
      "+-----+----------+\n",
      "| 118 | 0.023655 | \n",
      "+-----+----------+\n",
      "+-----+----------+\n",
      "| Row | rand     | \n",
      "+-----+----------+\n",
      "| 60  | 0.010636 | \n",
      "+-----+----------+\n",
      "| 147 | 0.025610 | \n",
      "+-----+----------+\n",
      "| 162 | 0.001180 | \n",
      "+-----+----------+\n",
      "| 212 | 0.007361 | \n",
      "+-----+----------+\n",
      "| 227 | 0.020979 | \n",
      "+-----+----------+\n"
     ]
    }
   ],
   "source": [
    "dfs = dfs.Filter(\"rand < 0.03\")\n",
    "dfb = dfb.Filter(\"rand < 0.03\")\n",
    "\n",
    "dfs.Display(\"rand\").Print()\n",
    "dfb.Display(\"rand\").Print()"
   ]
  },
  {
   "cell_type": "code",
   "execution_count": 4,
   "id": "d83f5870",
   "metadata": {},
   "outputs": [
    {
     "name": "stdout",
     "output_type": "stream",
     "text": [
      "63095\n",
      "721386\n"
     ]
    }
   ],
   "source": [
    "print(dfs.Count().GetValue())\n",
    "print(dfb.Count().GetValue())"
   ]
  },
  {
   "cell_type": "code",
   "execution_count": 5,
   "id": "a2b8dd77",
   "metadata": {},
   "outputs": [
    {
     "data": {
      "text/plain": [
       "<cppyy.gbl.ROOT.RDF.RResultPtr<ROOT::RDF::RInterface<ROOT::Detail::RDF::RLoopManager,void> > object at 0x617ec7572c50>"
      ]
     },
     "execution_count": 5,
     "metadata": {},
     "output_type": "execute_result"
    }
   ],
   "source": [
    "dfs.Snapshot(\"sig\", \"temp_sig.root\")\n",
    "dfb.Snapshot(\"bkg\", \"temp_bkg.root\")"
   ]
  },
  {
   "cell_type": "code",
   "execution_count": 6,
   "id": "a5dbefe0",
   "metadata": {},
   "outputs": [],
   "source": [
    "f_sig = ROOT.TFile(\"temp_sig.root\")\n",
    "f_bkg = ROOT.TFile(\"temp_bkg.root\")\n",
    "\n",
    "t_sig = f_sig.Get(\"sig\")\n",
    "t_bkg = f_bkg.Get(\"bkg\")\n",
    "\n",
    "fout = ROOT.TFile(\"tuningData.root\", \"RECREATE\")\n",
    "t_sig_clone = t_sig.CloneTree()\n",
    "t_bkg_clone = t_bkg.CloneTree()\n",
    "fout.Write()\n",
    "fout.Close()\n",
    "\n",
    "f_sig.Close()\n",
    "f_bkg.Close()"
   ]
  },
  {
   "cell_type": "code",
   "execution_count": null,
   "id": "19a507f7",
   "metadata": {},
   "outputs": [],
   "source": []
  }
 ],
 "metadata": {
  "kernelspec": {
   "display_name": "Python 3",
   "language": "python",
   "name": "python3"
  },
  "language_info": {
   "codemirror_mode": {
    "name": "ipython",
    "version": 3
   },
   "file_extension": ".py",
   "mimetype": "text/x-python",
   "name": "python",
   "nbconvert_exporter": "python",
   "pygments_lexer": "ipython3",
   "version": "3.10.12"
  }
 },
 "nbformat": 4,
 "nbformat_minor": 5
}
