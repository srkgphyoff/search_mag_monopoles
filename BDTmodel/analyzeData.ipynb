{
 "cells": [
  {
   "cell_type": "code",
   "execution_count": 1,
   "id": "aa37d010",
   "metadata": {},
   "outputs": [],
   "source": [
    "import ROOT\n",
    "from OutFunc import OutFunc"
   ]
  },
  {
   "cell_type": "code",
   "execution_count": 2,
   "id": "f2d028b5",
   "metadata": {},
   "outputs": [
    {
     "data": {
      "text/plain": [
       "<cppyy.gbl.TMVA.Tools object at 0x5e7a3c3f7160>"
      ]
     },
     "execution_count": 2,
     "metadata": {},
     "output_type": "execute_result"
    }
   ],
   "source": [
    "ROOT.TMVA.Tools.Instance()"
   ]
  },
  {
   "cell_type": "code",
   "execution_count": 3,
   "id": "2506a7c0",
   "metadata": {},
   "outputs": [],
   "source": [
    "#Set up an output file and book some histograms\n",
    "#histFile = ROOT.TFile(\"analysis.root\", \"RECREATE\")\n",
    "hSig = ROOT.TH1D(\"hSig\", \"BDT, signal\", 100, -1.0, 1.0)\n",
    "hBkg = ROOT.TH1D(\"hBkg\", \"BDT, background\", 100, -1.0, 1.0)\n",
    "\n",
    "#TList is collection object \n",
    "# hList = ROOT.TList()\n",
    "# hList.Add(hSig)\n",
    "# hList.Add(hBkg)"
   ]
  },
  {
   "cell_type": "code",
   "execution_count": 4,
   "id": "1847c287",
   "metadata": {},
   "outputs": [
    {
     "name": "stdout",
     "output_type": "stream",
     "text": [
      "                         : Booking \"BDTfinal\" of type \"BDT\" from dataset/weights//tmvaTest_BDTfinal.weights.xml.\n",
      "                         : Reading weight file: dataset/weights//tmvaTest_BDTfinal.weights.xml\n",
      "<HEADER> DataSetInfo              : [Default] : Added class \"Signal\"\n",
      "<HEADER> DataSetInfo              : [Default] : Added class \"Background\"\n",
      "                         : Booked classifier \"BDTfinal\" of type: \"BDT\"\n"
     ]
    }
   ],
   "source": [
    "# Set up the OutFunc object.  First argument must be one of the classifiers.\n",
    "# 4th argument is offset for contour.\n",
    "# 5th argument is bool array indicating which variables were used in training\n",
    "dir = \"dataset/weights/\"\n",
    "prefix = \"tmvaTest\"\n",
    "name = \"BDTfinal\"\n",
    "tCut = 0.0\n",
    "useVar = [False, True, True, True, True, True, True]\n",
    "\n",
    "testStat = OutFunc(name, dir, prefix, tCut, useVar)"
   ]
  },
  {
   "cell_type": "code",
   "execution_count": 5,
   "id": "b1ca1e02",
   "metadata": {},
   "outputs": [
    {
     "name": "stdout",
     "output_type": "stream",
     "text": [
      "TFile**\t\t../modelInputData/testData.root\t\n",
      " TFile*\t\t../modelInputData/testData.root\t\n",
      "  KEY: TTree\tbkg;7\tbkg [current cycle]\n",
      "  KEY: TTree\tbkg;6\tbkg [backup cycle]\n",
      "  KEY: TTree\tsig;1\tsig\n"
     ]
    }
   ],
   "source": [
    "#Open Input File and get trees\n",
    "inputFile = ROOT.TFile(\"../modelInputData/testData.root\")\n",
    "inputFile.ls()\n",
    "sig = inputFile.Get(\"sig\")\n",
    "bkg = inputFile.Get(\"bkg\")\n",
    "\n",
    "treeVec = [sig, bkg]"
   ]
  },
  {
   "cell_type": "code",
   "execution_count": 6,
   "id": "7ef8f494",
   "metadata": {},
   "outputs": [
    {
     "name": "stdout",
     "output_type": "stream",
     "text": [
      "Tree: sig, Entries: 419649\n",
      "Tree: bkg, Entries: 6261950\n",
      "                         : Rebuilding Dataset Default\n"
     ]
    }
   ],
   "source": [
    "nSig = 0\n",
    "nBkg = 0\n",
    "nSigAcc = 0\n",
    "nBkgAcc = 0\n",
    "tc = 0.0\n",
    "\n",
    "#Loop over signal(i = 0) and background(i = 1)\n",
    "for i, tree in enumerate(treeVec):\n",
    "    numEntries = tree.GetEntries()\n",
    "    if i == 0:\n",
    "        nSig = numEntries\n",
    "    else:\n",
    "        nBkg = numEntries\n",
    "    \n",
    "    print(f\"Tree: {'sig' if i==0 else 'bkg'}, Entries: {numEntries}\")\n",
    "\n",
    "    for j in range(numEntries):\n",
    "        tree.GetEntry(j)\n",
    "        #Apply our Test statistic\n",
    "        t = testStat.val(tree)\n",
    "\n",
    "        if i == 0:  #Signal\n",
    "            hSig.Fill(t)\n",
    "            if t > tc:\n",
    "                nSigAcc += 1\n",
    "        else:       #Background\n",
    "            hBkg.Fill(t)\n",
    "            if t > tc:\n",
    "                nBkgAcc += 1"
   ]
  },
  {
   "cell_type": "code",
   "execution_count": 7,
   "id": "323c9200",
   "metadata": {},
   "outputs": [
    {
     "name": "stdout",
     "output_type": "stream",
     "text": [
      "nSigAcc, nSig = 395156, 419649\n",
      "Signal efficiency (power of test) = 0.941634556498407\n"
     ]
    }
   ],
   "source": [
    "#Computing Efficiencies\n",
    "#Power of test (true positive rate)\n",
    "epsSig = float(nSigAcc) / nSig if nSig else 0\n",
    "print(f\"nSigAcc, nSig = {nSigAcc}, {nSig}\")\n",
    "print(f\"Signal efficiency (power of test) = {epsSig}\")"
   ]
  },
  {
   "cell_type": "markdown",
   "id": "f3e536f4",
   "metadata": {},
   "source": [
    "### Question 1(a)"
   ]
  },
  {
   "cell_type": "code",
   "execution_count": 8,
   "id": "866f5d54",
   "metadata": {},
   "outputs": [
    {
     "name": "stdout",
     "output_type": "stream",
     "text": [
      "nBkgAcc, nBkg = 185036, 6261950\n",
      "Background rejection (size of test) = 0.029549261811416573\n"
     ]
    }
   ],
   "source": [
    "#Size of the test (false positive rate)\n",
    "epsBkg = float(nBkgAcc) / nBkg if nBkg else 0\n",
    "print(f\"nBkgAcc, nBkg = {nBkgAcc}, {nBkg}\")\n",
    "print(f\"Background rejection (size of test) = {epsBkg}\")"
   ]
  },
  {
   "cell_type": "markdown",
   "id": "9b6bbb04",
   "metadata": {},
   "source": [
    "### Question 1(b)"
   ]
  },
  {
   "cell_type": "markdown",
   "id": "0b07c307",
   "metadata": {},
   "source": [
    "Signal purity of the sample\n",
    "$$\n",
    "P(s | t > t_c) = \\frac{P(t > t_c | s) P(s)}{P(t > t_c | s) P(s) + P(t > t_c | b) P(b)}\n",
    "$$\n",
    "Also, it is mentioned to assume prior probabilities to be equal, i.e., $P(s) = P(b) = 0.5$"
   ]
  },
  {
   "cell_type": "code",
   "execution_count": 9,
   "id": "1e750a09",
   "metadata": {},
   "outputs": [
    {
     "name": "stdout",
     "output_type": "stream",
     "text": [
      "The signal purity is equal to = 0.9695739763633604\n"
     ]
    }
   ],
   "source": [
    "print(f\"The signal purity is equal to = {(epsSig * 0.5)/(epsSig*0.5 + epsBkg*0.5)}\")"
   ]
  },
  {
   "cell_type": "code",
   "execution_count": 10,
   "id": "aedc8fd7",
   "metadata": {},
   "outputs": [],
   "source": [
    "#Save Histograms \n",
    "histFile = ROOT.TFile(\"analysisfinal.root\", \"RECREATE\")\n",
    "hSig.Write()\n",
    "hBkg.Write()\n",
    "histFile.Close()\n",
    "\n",
    "\n",
    "inputFile.Close()"
   ]
  },
  {
   "cell_type": "code",
   "execution_count": null,
   "id": "c544aa17",
   "metadata": {},
   "outputs": [],
   "source": [
    "#ROC curves can be generated"
   ]
  },
  {
   "cell_type": "code",
   "execution_count": null,
   "id": "be3cc3e7",
   "metadata": {},
   "outputs": [],
   "source": []
  }
 ],
 "metadata": {
  "kernelspec": {
   "display_name": "Python 3",
   "language": "python",
   "name": "python3"
  },
  "language_info": {
   "codemirror_mode": {
    "name": "ipython",
    "version": 3
   },
   "file_extension": ".py",
   "mimetype": "text/x-python",
   "name": "python",
   "nbconvert_exporter": "python",
   "pygments_lexer": "ipython3",
   "version": "3.10.12"
  }
 },
 "nbformat": 4,
 "nbformat_minor": 5
}
