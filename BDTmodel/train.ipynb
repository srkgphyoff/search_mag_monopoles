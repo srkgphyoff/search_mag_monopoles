{
 "cells": [
  {
   "cell_type": "code",
   "execution_count": 1,
   "id": "69150704",
   "metadata": {},
   "outputs": [],
   "source": [
    "import ROOT\n",
    "from ROOT import TMVA"
   ]
  },
  {
   "cell_type": "code",
   "execution_count": 4,
   "id": "f4469cc2",
   "metadata": {},
   "outputs": [],
   "source": [
    "#Creating output file, factory object and opening input files\n",
    "outputFile = ROOT.TFile(\"TMVA.root\", \"RECREATE\")\n",
    "factory = TMVA.Factory(\"tmvaTest\", outputFile, \"\")\n",
    "dataLoader = TMVA.DataLoader(\"dataset\")\n",
    "\n",
    "trainFile = ROOT.TFile(\"../modelInputData/trainData.root\")\n",
    "validFile = ROOT.TFile(\"../modelInputData/validData.root\")"
   ]
  },
  {
   "cell_type": "code",
   "execution_count": null,
   "id": "baeba61a",
   "metadata": {},
   "outputs": [],
   "source": [
    "#Getting the TTree objects from input files\n",
    "sigTrain = trainFile.Get(\"sig\")\n",
    "bkgTrain = trainFile.Get(\"bkg\")\n",
    "nSigTrain = sigTrain.GetEntries()\n",
    "nBkgTrain = bkgTrain.GetEntries()\n",
    "\n",
    "sigTest = validFile.Get(\"sig\")\n",
    "bkgTest = validFile.Get(\"bkg\")\n",
    "nSigTest = sigTest.GetEntries()\n",
    "nBkgTest = bkgTest.GetEntries()"
   ]
  },
  {
   "cell_type": "code",
   "execution_count": null,
   "id": "f9732535",
   "metadata": {},
   "outputs": [
    {
     "name": "stdout",
     "output_type": "stream",
     "text": [
      "1259600, 14411455\n",
      "420370, 4804556\n",
      "1.0, 0.08740269459260012\n"
     ]
    }
   ],
   "source": [
    "#Print num events\n",
    "print(f\"{nSigTrain}, {nBkgTrain}\")\n",
    "print(f\"{nSigTest}, {nBkgTest}\")\n",
    "\n",
    "#GlobalEventWeights\n",
    "#Thus for equivalent weights\n",
    "sigWeight = 1.0\n",
    "bkgWeight = float(nSigTrain)/float(nBkgTrain)\n",
    "print(f\"{sigWeight}, {bkgWeight}\")"
   ]
  },
  {
   "cell_type": "code",
   "execution_count": 8,
   "id": "8a6235c6",
   "metadata": {},
   "outputs": [
    {
     "name": "stdout",
     "output_type": "stream",
     "text": [
      "<HEADER> DataSetInfo              : [dataset] : Added class \"Signal\"\n",
      "                         : Add Tree sig of type Signal with 1259600 events\n",
      "<HEADER> DataSetInfo              : [dataset] : Added class \"Background\"\n",
      "                         : Add Tree bkg of type Background with 14411455 events\n",
      "                         : Add Tree sig of type Signal with 420370 events\n",
      "                         : Add Tree bkg of type Background with 4804556 events\n"
     ]
    }
   ],
   "source": [
    "dataLoader.AddSignalTree(sigTrain, sigWeight, TMVA.Types.kTraining)\n",
    "dataLoader.AddBackgroundTree(bkgTrain, bkgWeight, TMVA.Types.kTraining)\n",
    "dataLoader.AddSignalTree(sigTest, sigWeight, TMVA.Types.kTesting)\n",
    "dataLoader.AddBackgroundTree(bkgTest, bkgWeight, TMVA.Types.kTesting)"
   ]
  },
  {
   "cell_type": "code",
   "execution_count": 9,
   "id": "31c2b417",
   "metadata": {},
   "outputs": [],
   "source": [
    "#Define the input variables that shall be used for the MVA training\n",
    "#(the variables used in the expression must exist in the original TTree).\n",
    "dataLoader.AddVariable(\"ADC_mean\", 'F')\n",
    "dataLoader.AddVariable(\"nhits_min\", 'F')\n",
    "dataLoader.AddVariable(\"entry_dist\", 'F')\n",
    "dataLoader.AddVariable(\"exit_dist\", 'F')\n",
    "dataLoader.AddVariable(\"docasqrx_max\", 'F')\n",
    "dataLoader.AddVariable(\"docasqry_max\", 'F')"
   ]
  },
  {
   "cell_type": "code",
   "execution_count": 10,
   "id": "9024ca77",
   "metadata": {},
   "outputs": [
    {
     "data": {
      "text/plain": [
       "<cppyy.gbl.TMVA.MethodBDT object at 0x60094a588af0>"
      ]
     },
     "execution_count": 10,
     "metadata": {},
     "output_type": "execute_result"
    },
    {
     "name": "stdout",
     "output_type": "stream",
     "text": [
      "<HEADER> Factory                  : Booking method: BDT200\n",
      "                         : \n",
      "                         : Rebuilding Dataset dataset\n",
      "                         : Building event vectors for type 0 Signal\n",
      "                         : Dataset[dataset] :  create input formulas for tree sig\n",
      "                         : Building event vectors for type 1 Signal\n",
      "                         : Dataset[dataset] :  create input formulas for tree sig\n",
      "                         : Building event vectors for type 0 Background\n",
      "                         : Dataset[dataset] :  create input formulas for tree bkg\n",
      "                         : Building event vectors for type 1 Background\n",
      "                         : Dataset[dataset] :  create input formulas for tree bkg\n",
      "<HEADER> DataSetFactory           : [dataset] : Number of events in input trees\n",
      "                         : \n",
      "                         : \n",
      "                         : Dataset[dataset] : Weight renormalisation mode: \"EqualNumEvents\": renormalises all event classes ...\n",
      "                         : Dataset[dataset] :  such that the effective (weighted) number of events in each class is the same \n",
      "                         : Dataset[dataset] :  (and equals the number of events (entries) given for class=0 )\n",
      "                         : Dataset[dataset] : ... i.e. such that Sum[i=1..N_j]{w_i} = N_classA, j=classA, classB, ...\n",
      "                         : Dataset[dataset] : ... (note that N_j is the sum of TRAINING events\n",
      "                         : Dataset[dataset] :  ..... Testing events are not renormalised nor included in the renormalisation factor!)\n",
      "                         : Number of training and testing events\n",
      "                         : ---------------------------------------------------------------------------\n",
      "                         : Signal     -- training events            : 1259600\n",
      "                         : Signal     -- testing events             : 420370\n",
      "                         : Signal     -- training and testing events: 1679970\n",
      "                         : Background -- training events            : 14411455\n",
      "                         : Background -- testing events             : 4804556\n",
      "                         : Background -- training and testing events: 19216011\n",
      "                         : \n",
      "<HEADER> DataSetInfo              : Correlation matrix (Signal):\n",
      "                         : -------------------------------------------------------------------------------\n",
      "                         :               ADC_mean nhits_min entry_dist exit_dist docasqrx_max docasqry_max\n",
      "                         :     ADC_mean:   +1.000    +0.166     -0.117    -0.112       -0.106       -0.099\n",
      "                         :    nhits_min:   +0.166    +1.000     -0.143    -0.135       -0.058       -0.081\n",
      "                         :   entry_dist:   -0.117    -0.143     +1.000    +0.320       +0.241       +0.301\n",
      "                         :    exit_dist:   -0.112    -0.135     +0.320    +1.000       +0.237       +0.292\n",
      "                         : docasqrx_max:   -0.106    -0.058     +0.241    +0.237       +1.000       +0.226\n",
      "                         : docasqry_max:   -0.099    -0.081     +0.301    +0.292       +0.226       +1.000\n",
      "                         : -------------------------------------------------------------------------------\n",
      "<HEADER> DataSetInfo              : Correlation matrix (Background):\n",
      "                         : -------------------------------------------------------------------------------\n",
      "                         :               ADC_mean nhits_min entry_dist exit_dist docasqrx_max docasqry_max\n",
      "                         :     ADC_mean:   +1.000    +0.246     -0.064    -0.206       +0.006       +0.036\n",
      "                         :    nhits_min:   +0.246    +1.000     -0.157    -0.072       -0.007       +0.025\n",
      "                         :   entry_dist:   -0.064    -0.157     +1.000    +0.068       -0.000       +0.005\n",
      "                         :    exit_dist:   -0.206    -0.072     +0.068    +1.000       -0.006       -0.005\n",
      "                         : docasqrx_max:   +0.006    -0.007     -0.000    -0.006       +1.000       +0.001\n",
      "                         : docasqry_max:   +0.036    +0.025     +0.005    -0.005       +0.001       +1.000\n",
      "                         : -------------------------------------------------------------------------------\n",
      "<HEADER> DataSetFactory           : [dataset] :  \n",
      "                         : \n"
     ]
    }
   ],
   "source": [
    "#Booking Method\n",
    "factory.BookMethod(dataLoader, TMVA.Types.kBDT,\n",
    "                   \"BDT200\", \"NTrees=200:BoostType=AdaBoost\")"
   ]
  },
  {
   "cell_type": "code",
   "execution_count": 11,
   "id": "784292be",
   "metadata": {},
   "outputs": [
    {
     "name": "stdout",
     "output_type": "stream",
     "text": [
      "<HEADER> Factory                  : Train all methods\n",
      "<HEADER> Factory                  : [dataset] : Create Transformation \"I\" with events from all classes.\n",
      "                         : \n",
      "<HEADER>                          : Transformation, Variable selection : \n",
      "                         : Input : variable 'ADC_mean' <---> Output : variable 'ADC_mean'\n",
      "                         : Input : variable 'nhits_min' <---> Output : variable 'nhits_min'\n",
      "                         : Input : variable 'entry_dist' <---> Output : variable 'entry_dist'\n",
      "                         : Input : variable 'exit_dist' <---> Output : variable 'exit_dist'\n",
      "                         : Input : variable 'docasqrx_max' <---> Output : variable 'docasqrx_max'\n",
      "                         : Input : variable 'docasqry_max' <---> Output : variable 'docasqry_max'\n",
      "<HEADER> TFHandler_Factory        :     Variable            Mean            RMS    [        Min            Max ]\n",
      "                         : -------------------------------------------------------------------------------\n",
      "                         :     ADC_mean:        1781.7        1300.1   [        201.00        3722.9 ]\n",
      "                         :    nhits_min:        58.312        48.398   [        0.0000        1868.0 ]\n",
      "                         :   entry_dist:        24.712        77.262   [    1.4146e-06        761.62 ]\n",
      "                         :    exit_dist:        86.845        158.14   [    6.1127e-06        761.10 ]\n",
      "                         : docasqrx_max:        221.14        7932.0   [        0.0000    2.1505e+06 ]\n",
      "                         : docasqry_max:        75.150        890.23   [        0.0000    1.7123e+06 ]\n",
      "                         : -------------------------------------------------------------------------------\n",
      "                         : Ranking input variables (method unspecific)...\n",
      "<HEADER> IdTransformation         : Ranking result (top variable is best ranked)\n",
      "                         : -------------------------------------\n",
      "                         : Rank : Variable     : Separation\n",
      "                         : -------------------------------------\n",
      "                         :    1 : ADC_mean     : 9.037e-01\n",
      "                         :    2 : exit_dist    : 2.824e-01\n",
      "                         :    3 : nhits_min    : 2.820e-01\n",
      "                         :    4 : docasqry_max : 1.098e-01\n",
      "                         :    5 : entry_dist   : 6.222e-02\n",
      "                         :    6 : docasqrx_max : 1.590e-04\n",
      "                         : -------------------------------------\n",
      "<HEADER> Factory                  : Train method: BDT200 for Classification\n",
      "                         : \n",
      "<HEADER> BDT200                   : #events: (reweighted) sig: 7.83553e+06 bkg: 7.83553e+06\n",
      "                         : #events: (unweighted) sig: 1259600 bkg: 14411455\n",
      "                         : Training 200 Decision Trees ... patience please\n",
      "                         : Elapsed time for training with 15671055 events: 1.94e+03 sec         \n",
      "<HEADER> BDT200                   : [dataset] : Evaluation of BDT200 on training sample (15671055 events)\n",
      "                         : Elapsed time for evaluation of 15671055 events: 134 sec       \n",
      "                         : Creating xml weight file: dataset/weights/tmvaTest_BDT200.weights.xml\n",
      "                         : Creating standalone class: dataset/weights/tmvaTest_BDT200.class.C\n",
      "                         : TMVA.root:/dataset/Method_BDT/BDT200\n",
      "<HEADER> Factory                  : Training finished\n",
      "                         : \n",
      "                         : Ranking input variables (method specific)...\n",
      "<HEADER> BDT200                   : Ranking result (top variable is best ranked)\n",
      "                         : ----------------------------------------------\n",
      "                         : Rank : Variable     : Variable Importance\n",
      "                         : ----------------------------------------------\n",
      "                         :    1 : ADC_mean     : 5.444e-01\n",
      "                         :    2 : exit_dist    : 1.970e-01\n",
      "                         :    3 : entry_dist   : 1.717e-01\n",
      "                         :    4 : nhits_min    : 8.689e-02\n",
      "                         :    5 : docasqrx_max : 0.000e+00\n",
      "                         :    6 : docasqry_max : 0.000e+00\n",
      "                         : ----------------------------------------------\n",
      "<HEADER> Factory                  : === Destroy and recreate all methods via weight files for testing ===\n",
      "                         : \n",
      "                         : Reading weight file: dataset/weights/tmvaTest_BDT200.weights.xml\n",
      "<HEADER> Factory                  : Test all methods\n",
      "<HEADER> Factory                  : Test method: BDT200 for Classification performance\n",
      "                         : \n",
      "<HEADER> BDT200                   : [dataset] : Evaluation of BDT200 on testing sample (5224926 events)\n",
      "                         : Elapsed time for evaluation of 5224926 events: 54 sec       \n",
      "<HEADER> Factory                  : Evaluate all methods\n",
      "<HEADER> Factory                  : Evaluate classifier: BDT200\n",
      "                         : \n",
      "<HEADER> BDT200                   : [dataset] : Loop over test events and fill histograms with classifier response...\n",
      "                         : \n",
      "<HEADER> TFHandler_BDT200         :     Variable            Mean            RMS    [        Min            Max ]\n",
      "                         : -------------------------------------------------------------------------------\n",
      "                         :     ADC_mean:        1782.5        1300.3   [        205.67        3721.9 ]\n",
      "                         :    nhits_min:        58.314        48.449   [        0.0000        1475.0 ]\n",
      "                         :   entry_dist:        24.723        77.266   [    1.1319e-06        760.91 ]\n",
      "                         :    exit_dist:        86.805        158.13   [    8.2739e-06        761.03 ]\n",
      "                         : docasqrx_max:        221.17        7931.0   [        0.0000    1.9926e+06 ]\n",
      "                         : docasqry_max:        75.184        802.05   [        0.0000    9.8154e+05 ]\n",
      "                         : -------------------------------------------------------------------------------\n",
      "                         : \n",
      "                         : Evaluation results ranked by best signal efficiency and purity (area)\n",
      "                         : -------------------------------------------------------------------------------------------------------------------\n",
      "                         : DataSet       MVA                       \n",
      "                         : Name:         Method:          ROC-integ\n",
      "                         : dataset       BDT200         : 0.997\n",
      "                         : -------------------------------------------------------------------------------------------------------------------\n",
      "                         : \n",
      "                         : Testing efficiency compared to training efficiency (overtraining check)\n",
      "                         : -------------------------------------------------------------------------------------------------------------------\n",
      "                         : DataSet              MVA              Signal efficiency: from test sample (from training sample) \n",
      "                         : Name:                Method:          @B=0.01             @B=0.10            @B=0.30   \n",
      "                         : -------------------------------------------------------------------------------------------------------------------\n",
      "                         : dataset              BDT200         : 0.932 (0.932)       0.992 (0.992)      1.000 (1.000)\n",
      "                         : -------------------------------------------------------------------------------------------------------------------\n",
      "                         : \n",
      "<HEADER> Dataset:dataset          : Created tree 'TestTree' with 5224926 events\n",
      "                         : \n",
      "<HEADER> Dataset:dataset          : Created tree 'TrainTree' with 15671055 events\n",
      "                         : \n",
      "<HEADER> Factory                  : Thank you for using TMVA!\n",
      "                         : For citation information, please visit: http://tmva.sf.net/citeTMVA.html\n"
     ]
    },
    {
     "name": "stderr",
     "output_type": "stream",
     "text": [
      "0%, time left: unknown\n",
      "7%, time left: 21 mins\n",
      "13%, time left: 17 mins\n",
      "19%, time left: 17 mins\n",
      "25%, time left: 16 mins\n",
      "32%, time left: 14 mins\n",
      "38%, time left: 13 mins\n",
      "44%, time left: 11 mins\n",
      "50%, time left: 11 mins\n",
      "57%, time left: 10 mins\n",
      "63%, time left: 8 mins\n",
      "69%, time left: 6 mins\n",
      "75%, time left: 5 mins\n",
      "82%, time left: 243 sec\n",
      "88%, time left: 165 sec\n",
      "94%, time left: 79 sec\n",
      "0%, time left: unknown\n",
      "6%, time left: 6 mins\n",
      "12%, time left: 5 mins\n",
      "18%, time left: 240 sec\n",
      "25%, time left: 183 sec\n",
      "31%, time left: 148 sec\n",
      "37%, time left: 123 sec\n",
      "43%, time left: 102 sec\n",
      "50%, time left: 83 sec\n",
      "56%, time left: 69 sec\n",
      "62%, time left: 58 sec\n",
      "68%, time left: 47 sec\n",
      "75%, time left: 35 sec\n",
      "81%, time left: 25 sec\n",
      "87%, time left: 16 sec\n",
      "93%, time left: 8 sec\n",
      "0%, time left: unknown\n",
      "6%, time left: 5 mins\n",
      "12%, time left: 207 sec\n",
      "18%, time left: 152 sec\n",
      "25%, time left: 106 sec\n",
      "31%, time left: 82 sec\n",
      "37%, time left: 65 sec\n",
      "43%, time left: 52 sec\n",
      "50%, time left: 41 sec\n",
      "56%, time left: 33 sec\n",
      "62%, time left: 26 sec\n",
      "68%, time left: 21 sec\n",
      "75%, time left: 15 sec\n",
      "81%, time left: 10 sec\n",
      "87%, time left: 6 sec\n",
      "93%, time left: 3 sec\n"
     ]
    }
   ],
   "source": [
    "#Train, Test and Evaluate all methods\n",
    "factory.TrainAllMethods()\n",
    "factory.TestAllMethods()\n",
    "factory.EvaluateAllMethods()"
   ]
  },
  {
   "cell_type": "code",
   "execution_count": 12,
   "id": "a3c3318d",
   "metadata": {},
   "outputs": [
    {
     "name": "stdout",
     "output_type": "stream",
     "text": [
      "wrote root file TMVA.root\n",
      "TMVA analysis is done\n"
     ]
    }
   ],
   "source": [
    "#Save output and finish up\n",
    "outputFile.Close()\n",
    "print(\"wrote root file TMVA.root\")\n",
    "print(\"TMVA analysis is done\")"
   ]
  },
  {
   "cell_type": "code",
   "execution_count": null,
   "id": "54547fe8",
   "metadata": {},
   "outputs": [],
   "source": []
  }
 ],
 "metadata": {
  "kernelspec": {
   "display_name": "Python 3",
   "language": "python",
   "name": "python3"
  },
  "language_info": {
   "codemirror_mode": {
    "name": "ipython",
    "version": 3
   },
   "file_extension": ".py",
   "mimetype": "text/x-python",
   "name": "python",
   "nbconvert_exporter": "python",
   "pygments_lexer": "ipython3",
   "version": "3.10.12"
  }
 },
 "nbformat": 4,
 "nbformat_minor": 5
}
