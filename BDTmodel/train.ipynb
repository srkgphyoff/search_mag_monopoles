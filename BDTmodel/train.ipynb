{
 "cells": [
  {
   "cell_type": "code",
   "execution_count": 1,
   "id": "69150704",
   "metadata": {},
   "outputs": [],
   "source": [
    "import ROOT\n",
    "from ROOT import TMVA"
   ]
  },
  {
   "cell_type": "code",
   "execution_count": 2,
   "id": "f4469cc2",
   "metadata": {},
   "outputs": [],
   "source": [
    "#Creating output file, factory object and opening input files\n",
    "outputFile = ROOT.TFile(\"TMVAfinal.root\", \"RECREATE\")\n",
    "factory = TMVA.Factory(\"tmvaTest\", outputFile, \"\")\n",
    "dataLoader = TMVA.DataLoader(\"dataset\")\n",
    "\n",
    "trainFile = ROOT.TFile(\"../modelInputData/trainData.root\")\n",
    "validFile = ROOT.TFile(\"../modelInputData/validData.root\")"
   ]
  },
  {
   "cell_type": "code",
   "execution_count": 3,
   "id": "baeba61a",
   "metadata": {},
   "outputs": [],
   "source": [
    "#Getting the TTree objects from input files\n",
    "sigTrain = trainFile.Get(\"sig\")\n",
    "bkgTrain = trainFile.Get(\"bkg\")\n",
    "nSigTrain = sigTrain.GetEntries()\n",
    "nBkgTrain = bkgTrain.GetEntries()\n",
    "\n",
    "sigTest = validFile.Get(\"sig\")\n",
    "bkgTest = validFile.Get(\"bkg\")\n",
    "nSigTest = sigTest.GetEntries()\n",
    "nBkgTest = bkgTest.GetEntries()"
   ]
  },
  {
   "cell_type": "code",
   "execution_count": 4,
   "id": "f9732535",
   "metadata": {},
   "outputs": [
    {
     "name": "stdout",
     "output_type": "stream",
     "text": [
      "1259600, 18779082\n",
      "419388, 6262587\n",
      "1.0, 0.0670746312306427\n"
     ]
    }
   ],
   "source": [
    "#Print num events\n",
    "print(f\"{nSigTrain}, {nBkgTrain}\")\n",
    "print(f\"{nSigTest}, {nBkgTest}\")\n",
    "\n",
    "#GlobalEventWeights\n",
    "#Thus for equivalent weights\n",
    "sigWeight = 1.0\n",
    "bkgWeight = float(nSigTrain)/float(nBkgTrain)\n",
    "print(f\"{sigWeight}, {bkgWeight}\")"
   ]
  },
  {
   "cell_type": "code",
   "execution_count": 5,
   "id": "8a6235c6",
   "metadata": {},
   "outputs": [
    {
     "name": "stdout",
     "output_type": "stream",
     "text": [
      "<HEADER> DataSetInfo              : [dataset] : Added class \"Signal\"\n",
      "                         : Add Tree sig of type Signal with 1259600 events\n",
      "<HEADER> DataSetInfo              : [dataset] : Added class \"Background\"\n",
      "                         : Add Tree bkg of type Background with 18779082 events\n",
      "                         : Add Tree sig of type Signal with 419388 events\n",
      "                         : Add Tree bkg of type Background with 6262587 events\n"
     ]
    }
   ],
   "source": [
    "dataLoader.AddSignalTree(sigTrain, sigWeight, TMVA.Types.kTraining)\n",
    "dataLoader.AddBackgroundTree(bkgTrain, bkgWeight, TMVA.Types.kTraining)\n",
    "dataLoader.AddSignalTree(sigTest, sigWeight, TMVA.Types.kTesting)\n",
    "dataLoader.AddBackgroundTree(bkgTest, bkgWeight, TMVA.Types.kTesting)"
   ]
  },
  {
   "cell_type": "code",
   "execution_count": 6,
   "id": "31c2b417",
   "metadata": {},
   "outputs": [],
   "source": [
    "#Define the input variables that shall be used for the MVA training\n",
    "#(the variables used in the expression must exist in the original TTree).\n",
    "dataLoader.AddVariable(\"ADC_mean\", 'F')\n",
    "dataLoader.AddVariable(\"nhits_min\", 'F')\n",
    "dataLoader.AddVariable(\"entry_dist\", 'F')\n",
    "dataLoader.AddVariable(\"exit_dist\", 'F')\n",
    "dataLoader.AddVariable(\"docasqrx_max\", 'F')\n",
    "dataLoader.AddVariable(\"docasqry_max\", 'F')"
   ]
  },
  {
   "cell_type": "code",
   "execution_count": 7,
   "id": "9024ca77",
   "metadata": {},
   "outputs": [
    {
     "data": {
      "text/plain": [
       "<cppyy.gbl.TMVA.MethodBDT object at 0x63694fd522e0>"
      ]
     },
     "execution_count": 7,
     "metadata": {},
     "output_type": "execute_result"
    },
    {
     "name": "stdout",
     "output_type": "stream",
     "text": [
      "<HEADER> Factory                  : Booking method: BDTfinal\n",
      "                         : \n",
      "                         : Rebuilding Dataset dataset\n",
      "                         : Building event vectors for type 0 Signal\n",
      "                         : Dataset[dataset] :  create input formulas for tree sig\n",
      "                         : Building event vectors for type 1 Signal\n",
      "                         : Dataset[dataset] :  create input formulas for tree sig\n",
      "                         : Building event vectors for type 0 Background\n",
      "                         : Dataset[dataset] :  create input formulas for tree bkg\n",
      "                         : Building event vectors for type 1 Background\n",
      "                         : Dataset[dataset] :  create input formulas for tree bkg\n",
      "<HEADER> DataSetFactory           : [dataset] : Number of events in input trees\n",
      "                         : \n",
      "                         : \n",
      "                         : Dataset[dataset] : Weight renormalisation mode: \"EqualNumEvents\": renormalises all event classes ...\n",
      "                         : Dataset[dataset] :  such that the effective (weighted) number of events in each class is the same \n",
      "                         : Dataset[dataset] :  (and equals the number of events (entries) given for class=0 )\n",
      "                         : Dataset[dataset] : ... i.e. such that Sum[i=1..N_j]{w_i} = N_classA, j=classA, classB, ...\n",
      "                         : Dataset[dataset] : ... (note that N_j is the sum of TRAINING events\n",
      "                         : Dataset[dataset] :  ..... Testing events are not renormalised nor included in the renormalisation factor!)\n",
      "                         : Number of training and testing events\n",
      "                         : ---------------------------------------------------------------------------\n",
      "                         : Signal     -- training events            : 1259600\n",
      "                         : Signal     -- testing events             : 419388\n",
      "                         : Signal     -- training and testing events: 1678988\n",
      "                         : Background -- training events            : 18779082\n",
      "                         : Background -- testing events             : 6262587\n",
      "                         : Background -- training and testing events: 25041669\n",
      "                         : \n",
      "<HEADER> DataSetInfo              : Correlation matrix (Signal):\n",
      "                         : -------------------------------------------------------------------------------\n",
      "                         :               ADC_mean nhits_min entry_dist exit_dist docasqrx_max docasqry_max\n",
      "                         :     ADC_mean:   +1.000    +0.166     -0.117    -0.112       -0.106       -0.099\n",
      "                         :    nhits_min:   +0.166    +1.000     -0.143    -0.135       -0.058       -0.081\n",
      "                         :   entry_dist:   -0.117    -0.143     +1.000    +0.320       +0.241       +0.301\n",
      "                         :    exit_dist:   -0.112    -0.135     +0.320    +1.000       +0.237       +0.292\n",
      "                         : docasqrx_max:   -0.106    -0.058     +0.241    +0.237       +1.000       +0.226\n",
      "                         : docasqry_max:   -0.099    -0.081     +0.301    +0.292       +0.226       +1.000\n",
      "                         : -------------------------------------------------------------------------------\n",
      "<HEADER> DataSetInfo              : Correlation matrix (Background):\n",
      "                         : -------------------------------------------------------------------------------\n",
      "                         :               ADC_mean nhits_min entry_dist exit_dist docasqrx_max docasqry_max\n",
      "                         :     ADC_mean:   +1.000    +0.602     -0.126    -0.347       +0.047       +0.091\n",
      "                         :    nhits_min:   +0.602    +1.000     -0.159    -0.309       +0.038       +0.083\n",
      "                         :   entry_dist:   -0.126    -0.159     +1.000    +0.077       +0.004       +0.005\n",
      "                         :    exit_dist:   -0.347    -0.309     +0.077    +1.000       -0.014       -0.034\n",
      "                         : docasqrx_max:   +0.047    +0.038     +0.004    -0.014       +1.000       +0.014\n",
      "                         : docasqry_max:   +0.091    +0.083     +0.005    -0.034       +0.014       +1.000\n",
      "                         : -------------------------------------------------------------------------------\n",
      "<HEADER> DataSetFactory           : [dataset] :  \n",
      "                         : \n"
     ]
    }
   ],
   "source": [
    "#Booking Method\n",
    "factory.BookMethod(dataLoader, TMVA.Types.kBDT,\n",
    "                   \"BDTfinal\", \"NTrees=300:BoostType=AdaBoost:MaxDepth=3:MinNodeSize=2.5:Shrinkage=0.1:nCuts=20:UseBaggedBoost=True:BaggedSampleFraction=0.5\")"
   ]
  },
  {
   "cell_type": "code",
   "execution_count": 8,
   "id": "784292be",
   "metadata": {},
   "outputs": [
    {
     "name": "stdout",
     "output_type": "stream",
     "text": [
      "<HEADER> Factory                  : Train all methods\n",
      "<HEADER> Factory                  : [dataset] : Create Transformation \"I\" with events from all classes.\n",
      "                         : \n",
      "<HEADER>                          : Transformation, Variable selection : \n",
      "                         : Input : variable 'ADC_mean' <---> Output : variable 'ADC_mean'\n",
      "                         : Input : variable 'nhits_min' <---> Output : variable 'nhits_min'\n",
      "                         : Input : variable 'entry_dist' <---> Output : variable 'entry_dist'\n",
      "                         : Input : variable 'exit_dist' <---> Output : variable 'exit_dist'\n",
      "                         : Input : variable 'docasqrx_max' <---> Output : variable 'docasqrx_max'\n",
      "                         : Input : variable 'docasqry_max' <---> Output : variable 'docasqry_max'\n",
      "<HEADER> TFHandler_Factory        :     Variable            Mean            RMS    [        Min            Max ]\n",
      "                         : -------------------------------------------------------------------------------\n",
      "                         :     ADC_mean:        1848.5        1264.9   [        180.35        3722.9 ]\n",
      "                         :    nhits_min:        62.371        48.957   [        0.0000        1746.0 ]\n",
      "                         :   entry_dist:        21.818        68.827   [    3.5948e-07        762.29 ]\n",
      "                         :    exit_dist:        73.442        144.38   [    4.1541e-06        762.28 ]\n",
      "                         : docasqrx_max:        92.358        974.40   [        0.0000    1.6197e+06 ]\n",
      "                         : docasqry_max:        84.534        469.12   [        0.0000    1.8506e+06 ]\n",
      "                         : -------------------------------------------------------------------------------\n",
      "                         : Ranking input variables (method unspecific)...\n",
      "<HEADER> IdTransformation         : Ranking result (top variable is best ranked)\n",
      "                         : -------------------------------------\n",
      "                         : Rank : Variable     : Separation\n",
      "                         : -------------------------------------\n",
      "                         :    1 : ADC_mean     : 8.261e-01\n",
      "                         :    2 : docasqry_max : 2.839e-01\n",
      "                         :    3 : exit_dist    : 2.429e-01\n",
      "                         :    4 : nhits_min    : 1.751e-01\n",
      "                         :    5 : docasqrx_max : 1.236e-01\n",
      "                         :    6 : entry_dist   : 5.614e-02\n",
      "                         : -------------------------------------\n",
      "<HEADER> Factory                  : Train method: BDTfinal for Classification\n",
      "                         : \n",
      "<HEADER> BDTfinal                 : #events: (reweighted) sig: 1.00193e+07 bkg: 1.00193e+07\n",
      "                         : #events: (unweighted) sig: 1259600 bkg: 18779082\n",
      "                         : Training 300 Decision Trees ... patience please\n",
      "                         : Elapsed time for training with 20038682 events: 3.74e+03 sec         \n",
      "<HEADER> BDTfinal                 : [dataset] : Evaluation of BDTfinal on training sample (20038682 events)\n",
      "                         : Elapsed time for evaluation of 20038682 events: 344 sec       \n",
      "                         : Creating xml weight file: dataset/weights/tmvaTest_BDTfinal.weights.xml\n",
      "                         : Creating standalone class: dataset/weights/tmvaTest_BDTfinal.class.C\n",
      "                         : TMVAfinal.root:/dataset/Method_BDT/BDTfinal\n",
      "<HEADER> Factory                  : Training finished\n",
      "                         : \n",
      "                         : Ranking input variables (method specific)...\n",
      "<HEADER> BDTfinal                 : Ranking result (top variable is best ranked)\n",
      "                         : ----------------------------------------------\n",
      "                         : Rank : Variable     : Variable Importance\n",
      "                         : ----------------------------------------------\n",
      "                         :    1 : ADC_mean     : 4.625e-01\n",
      "                         :    2 : exit_dist    : 1.497e-01\n",
      "                         :    3 : nhits_min    : 1.442e-01\n",
      "                         :    4 : entry_dist   : 1.379e-01\n",
      "                         :    5 : docasqry_max : 1.057e-01\n",
      "                         :    6 : docasqrx_max : 0.000e+00\n",
      "                         : ----------------------------------------------\n",
      "<HEADER> Factory                  : === Destroy and recreate all methods via weight files for testing ===\n",
      "                         : \n",
      "                         : Reading weight file: dataset/weights/tmvaTest_BDTfinal.weights.xml\n",
      "<HEADER> Factory                  : Test all methods\n",
      "<HEADER> Factory                  : Test method: BDTfinal for Classification performance\n",
      "                         : \n",
      "<HEADER> BDTfinal                 : [dataset] : Evaluation of BDTfinal on testing sample (6681975 events)\n",
      "                         : Elapsed time for evaluation of 6681975 events: 81.8 sec       \n",
      "<HEADER> Factory                  : Evaluate all methods\n",
      "<HEADER> Factory                  : Evaluate classifier: BDTfinal\n",
      "                         : \n",
      "<HEADER> BDTfinal                 : [dataset] : Loop over test events and fill histograms with classifier response...\n",
      "                         : \n",
      "<HEADER> TFHandler_BDTfinal       :     Variable            Mean            RMS    [        Min            Max ]\n",
      "                         : -------------------------------------------------------------------------------\n",
      "                         :     ADC_mean:        1848.6        1265.1   [        208.06        3722.9 ]\n",
      "                         :    nhits_min:        62.361        48.953   [        0.0000        974.00 ]\n",
      "                         :   entry_dist:        21.783        68.679   [    3.2980e-06        762.00 ]\n",
      "                         :    exit_dist:        73.451        144.39   [    3.2760e-06        761.80 ]\n",
      "                         : docasqrx_max:        92.139        888.63   [        0.0000    1.2062e+06 ]\n",
      "                         : docasqry_max:        84.316        226.75   [        0.0000    3.0104e+05 ]\n",
      "                         : -------------------------------------------------------------------------------\n",
      "                         : \n",
      "                         : Evaluation results ranked by best signal efficiency and purity (area)\n",
      "                         : -------------------------------------------------------------------------------------------------------------------\n",
      "                         : DataSet       MVA                       \n",
      "                         : Name:         Method:          ROC-integ\n",
      "                         : dataset       BDTfinal       : 0.993\n",
      "                         : -------------------------------------------------------------------------------------------------------------------\n",
      "                         : \n",
      "                         : Testing efficiency compared to training efficiency (overtraining check)\n",
      "                         : -------------------------------------------------------------------------------------------------------------------\n",
      "                         : DataSet              MVA              Signal efficiency: from test sample (from training sample) \n",
      "                         : Name:                Method:          @B=0.01             @B=0.10            @B=0.30   \n",
      "                         : -------------------------------------------------------------------------------------------------------------------\n",
      "                         : dataset              BDTfinal       : 0.906 (0.906)       0.976 (0.976)      1.000 (1.000)\n",
      "                         : -------------------------------------------------------------------------------------------------------------------\n",
      "                         : \n",
      "<HEADER> Dataset:dataset          : Created tree 'TestTree' with 6681975 events\n",
      "                         : \n",
      "<HEADER> Dataset:dataset          : Created tree 'TrainTree' with 20038682 events\n",
      "                         : \n",
      "<HEADER> Factory                  : Thank you for using TMVA!\n",
      "                         : For citation information, please visit: http://tmva.sf.net/citeTMVA.html\n"
     ]
    },
    {
     "name": "stderr",
     "output_type": "stream",
     "text": [
      "0%, time left: unknown\n",
      "6%, time left: 48 mins\n",
      "13%, time left: 40 mins\n",
      "19%, time left: 35 mins\n",
      "25%, time left: 33 mins\n",
      "31%, time left: 30 mins\n",
      "38%, time left: 27 mins\n",
      "44%, time left: 26 mins\n",
      "50%, time left: 24 mins\n",
      "56%, time left: 22 mins\n",
      "63%, time left: 19 mins\n",
      "69%, time left: 15 mins\n",
      "75%, time left: 12 mins\n",
      "81%, time left: 9 mins\n",
      "88%, time left: 6 mins\n",
      "94%, time left: 179 sec\n",
      "0%, time left: unknown\n",
      "6%, time left: 27 mins\n",
      "12%, time left: 18 mins\n",
      "18%, time left: 13 mins\n",
      "25%, time left: 9 mins\n",
      "31%, time left: 7 mins\n",
      "37%, time left: 6 mins\n",
      "43%, time left: 5 mins\n",
      "50%, time left: 242 sec\n",
      "56%, time left: 198 sec\n",
      "62%, time left: 160 sec\n",
      "68%, time left: 127 sec\n",
      "75%, time left: 93 sec\n",
      "81%, time left: 67 sec\n",
      "87%, time left: 43 sec\n",
      "93%, time left: 21 sec\n",
      "0%, time left: unknown\n",
      "6%, time left: 8 mins\n",
      "12%, time left: 279 sec\n",
      "18%, time left: 192 sec\n",
      "25%, time left: 137 sec\n",
      "31%, time left: 108 sec\n",
      "37%, time left: 87 sec\n",
      "43%, time left: 71 sec\n",
      "50%, time left: 57 sec\n",
      "56%, time left: 46 sec\n",
      "62%, time left: 38 sec\n",
      "68%, time left: 30 sec\n",
      "75%, time left: 22 sec\n",
      "81%, time left: 16 sec\n",
      "87%, time left: 10 sec\n",
      "93%, time left: 5 sec\n"
     ]
    }
   ],
   "source": [
    "#Train, Test and Evaluate all methods\n",
    "factory.TrainAllMethods()\n",
    "factory.TestAllMethods()\n",
    "factory.EvaluateAllMethods()"
   ]
  },
  {
   "cell_type": "code",
   "execution_count": 9,
   "id": "a3c3318d",
   "metadata": {},
   "outputs": [
    {
     "name": "stdout",
     "output_type": "stream",
     "text": [
      "wrote root file TMVA.root\n",
      "TMVA analysis is done\n"
     ]
    }
   ],
   "source": [
    "#Save output and finish up\n",
    "outputFile.Close()\n",
    "print(\"wrote root file TMVA.root\")\n",
    "print(\"TMVA analysis is done\")"
   ]
  },
  {
   "cell_type": "code",
   "execution_count": null,
   "id": "54547fe8",
   "metadata": {},
   "outputs": [],
   "source": []
  }
 ],
 "metadata": {
  "kernelspec": {
   "display_name": "Python 3",
   "language": "python",
   "name": "python3"
  },
  "language_info": {
   "codemirror_mode": {
    "name": "ipython",
    "version": 3
   },
   "file_extension": ".py",
   "mimetype": "text/x-python",
   "name": "python",
   "nbconvert_exporter": "python",
   "pygments_lexer": "ipython3",
   "version": "3.10.12"
  }
 },
 "nbformat": 4,
 "nbformat_minor": 5
}
