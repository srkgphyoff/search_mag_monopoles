{
 "cells": [
  {
   "cell_type": "code",
   "execution_count": 1,
   "id": "69150704",
   "metadata": {},
   "outputs": [],
   "source": [
    "import ROOT\n",
    "from ROOT import TMVA"
   ]
  },
  {
   "cell_type": "code",
   "execution_count": 2,
   "id": "f4469cc2",
   "metadata": {},
   "outputs": [],
   "source": [
    "#Creating output file, factory object and opening input files\n",
    "outputFile = ROOT.TFile(\"TMVAV1.root\", \"RECREATE\")\n",
    "factory = TMVA.Factory(\"tmvaTest\", outputFile, \"\")\n",
    "dataLoader = TMVA.DataLoader(\"dataset\")\n",
    "\n",
    "trainFile = ROOT.TFile(\"../modelInputData/trainData.root\")\n",
    "validFile = ROOT.TFile(\"../modelInputData/validData.root\")"
   ]
  },
  {
   "cell_type": "code",
   "execution_count": 3,
   "id": "baeba61a",
   "metadata": {},
   "outputs": [],
   "source": [
    "#Getting the TTree objects from input files\n",
    "sigTrain = trainFile.Get(\"sig\")\n",
    "bkgTrain = trainFile.Get(\"bkg\")\n",
    "nSigTrain = sigTrain.GetEntries()\n",
    "nBkgTrain = bkgTrain.GetEntries()\n",
    "\n",
    "sigTest = validFile.Get(\"sig\")\n",
    "bkgTest = validFile.Get(\"bkg\")\n",
    "nSigTest = sigTest.GetEntries()\n",
    "nBkgTest = bkgTest.GetEntries()"
   ]
  },
  {
   "cell_type": "code",
   "execution_count": 4,
   "id": "f9732535",
   "metadata": {},
   "outputs": [
    {
     "name": "stdout",
     "output_type": "stream",
     "text": [
      "1259600, 14411455\n",
      "420370, 4804556\n",
      "1.0, 0.08740269459260012\n"
     ]
    }
   ],
   "source": [
    "#Print num events\n",
    "print(f\"{nSigTrain}, {nBkgTrain}\")\n",
    "print(f\"{nSigTest}, {nBkgTest}\")\n",
    "\n",
    "#GlobalEventWeights\n",
    "#Thus for equivalent weights\n",
    "sigWeight = 1.0\n",
    "bkgWeight = float(nSigTrain)/float(nBkgTrain)\n",
    "print(f\"{sigWeight}, {bkgWeight}\")"
   ]
  },
  {
   "cell_type": "code",
   "execution_count": 5,
   "id": "8a6235c6",
   "metadata": {},
   "outputs": [
    {
     "name": "stdout",
     "output_type": "stream",
     "text": [
      "<HEADER> DataSetInfo              : [dataset] : Added class \"Signal\"\n",
      "                         : Add Tree sig of type Signal with 1259600 events\n",
      "<HEADER> DataSetInfo              : [dataset] : Added class \"Background\"\n",
      "                         : Add Tree bkg of type Background with 14411455 events\n",
      "                         : Add Tree sig of type Signal with 420370 events\n",
      "                         : Add Tree bkg of type Background with 4804556 events\n"
     ]
    }
   ],
   "source": [
    "dataLoader.AddSignalTree(sigTrain, sigWeight, TMVA.Types.kTraining)\n",
    "dataLoader.AddBackgroundTree(bkgTrain, bkgWeight, TMVA.Types.kTraining)\n",
    "dataLoader.AddSignalTree(sigTest, sigWeight, TMVA.Types.kTesting)\n",
    "dataLoader.AddBackgroundTree(bkgTest, bkgWeight, TMVA.Types.kTesting)"
   ]
  },
  {
   "cell_type": "code",
   "execution_count": 6,
   "id": "31c2b417",
   "metadata": {},
   "outputs": [],
   "source": [
    "#Define the input variables that shall be used for the MVA training\n",
    "#(the variables used in the expression must exist in the original TTree).\n",
    "dataLoader.AddVariable(\"ADC_mean\", 'F')\n",
    "dataLoader.AddVariable(\"nhits_min\", 'F')\n",
    "dataLoader.AddVariable(\"entry_dist\", 'F')\n",
    "dataLoader.AddVariable(\"exit_dist\", 'F')\n",
    "dataLoader.AddVariable(\"docasqrx_max\", 'F')\n",
    "dataLoader.AddVariable(\"docasqry_max\", 'F')"
   ]
  },
  {
   "cell_type": "code",
   "execution_count": 7,
   "id": "9024ca77",
   "metadata": {},
   "outputs": [
    {
     "data": {
      "text/plain": [
       "<cppyy.gbl.TMVA.MethodBDT object at 0x5da4bd4d5f40>"
      ]
     },
     "execution_count": 7,
     "metadata": {},
     "output_type": "execute_result"
    },
    {
     "name": "stdout",
     "output_type": "stream",
     "text": [
      "<HEADER> Factory                  : Booking method: BDTV1\n",
      "                         : \n",
      "                         : Rebuilding Dataset dataset\n",
      "                         : Building event vectors for type 0 Signal\n",
      "                         : Dataset[dataset] :  create input formulas for tree sig\n",
      "                         : Building event vectors for type 1 Signal\n",
      "                         : Dataset[dataset] :  create input formulas for tree sig\n",
      "                         : Building event vectors for type 0 Background\n",
      "                         : Dataset[dataset] :  create input formulas for tree bkg\n",
      "                         : Building event vectors for type 1 Background\n",
      "                         : Dataset[dataset] :  create input formulas for tree bkg\n",
      "<HEADER> DataSetFactory           : [dataset] : Number of events in input trees\n",
      "                         : \n",
      "                         : \n",
      "                         : Dataset[dataset] : Weight renormalisation mode: \"EqualNumEvents\": renormalises all event classes ...\n",
      "                         : Dataset[dataset] :  such that the effective (weighted) number of events in each class is the same \n",
      "                         : Dataset[dataset] :  (and equals the number of events (entries) given for class=0 )\n",
      "                         : Dataset[dataset] : ... i.e. such that Sum[i=1..N_j]{w_i} = N_classA, j=classA, classB, ...\n",
      "                         : Dataset[dataset] : ... (note that N_j is the sum of TRAINING events\n",
      "                         : Dataset[dataset] :  ..... Testing events are not renormalised nor included in the renormalisation factor!)\n",
      "                         : Number of training and testing events\n",
      "                         : ---------------------------------------------------------------------------\n",
      "                         : Signal     -- training events            : 1259600\n",
      "                         : Signal     -- testing events             : 420370\n",
      "                         : Signal     -- training and testing events: 1679970\n",
      "                         : Background -- training events            : 14411455\n",
      "                         : Background -- testing events             : 4804556\n",
      "                         : Background -- training and testing events: 19216011\n",
      "                         : \n",
      "<HEADER> DataSetInfo              : Correlation matrix (Signal):\n",
      "                         : -------------------------------------------------------------------------------\n",
      "                         :               ADC_mean nhits_min entry_dist exit_dist docasqrx_max docasqry_max\n",
      "                         :     ADC_mean:   +1.000    +0.166     -0.117    -0.112       -0.106       -0.099\n",
      "                         :    nhits_min:   +0.166    +1.000     -0.143    -0.135       -0.058       -0.081\n",
      "                         :   entry_dist:   -0.117    -0.143     +1.000    +0.320       +0.241       +0.301\n",
      "                         :    exit_dist:   -0.112    -0.135     +0.320    +1.000       +0.237       +0.292\n",
      "                         : docasqrx_max:   -0.106    -0.058     +0.241    +0.237       +1.000       +0.226\n",
      "                         : docasqry_max:   -0.099    -0.081     +0.301    +0.292       +0.226       +1.000\n",
      "                         : -------------------------------------------------------------------------------\n",
      "<HEADER> DataSetInfo              : Correlation matrix (Background):\n",
      "                         : -------------------------------------------------------------------------------\n",
      "                         :               ADC_mean nhits_min entry_dist exit_dist docasqrx_max docasqry_max\n",
      "                         :     ADC_mean:   +1.000    +0.246     -0.064    -0.206       +0.006       +0.036\n",
      "                         :    nhits_min:   +0.246    +1.000     -0.157    -0.072       -0.007       +0.025\n",
      "                         :   entry_dist:   -0.064    -0.157     +1.000    +0.068       -0.000       +0.005\n",
      "                         :    exit_dist:   -0.206    -0.072     +0.068    +1.000       -0.006       -0.005\n",
      "                         : docasqrx_max:   +0.006    -0.007     -0.000    -0.006       +1.000       +0.001\n",
      "                         : docasqry_max:   +0.036    +0.025     +0.005    -0.005       +0.001       +1.000\n",
      "                         : -------------------------------------------------------------------------------\n",
      "<HEADER> DataSetFactory           : [dataset] :  \n",
      "                         : \n"
     ]
    }
   ],
   "source": [
    "#Booking Method\n",
    "factory.BookMethod(dataLoader, TMVA.Types.kBDT,\n",
    "                   \"BDTV1\", \"NTrees=300:BoostType=AdaBoost:MaxDepth=3:MinNodeSize=2.5:Shrinkage=0.1:nCuts=20:UseBaggedBoost=True:BaggedSampleFraction=0.5\")"
   ]
  },
  {
   "cell_type": "code",
   "execution_count": 8,
   "id": "784292be",
   "metadata": {},
   "outputs": [
    {
     "name": "stdout",
     "output_type": "stream",
     "text": [
      "<HEADER> Factory                  : Train all methods\n",
      "<HEADER> Factory                  : [dataset] : Create Transformation \"I\" with events from all classes.\n",
      "                         : \n",
      "<HEADER>                          : Transformation, Variable selection : \n",
      "                         : Input : variable 'ADC_mean' <---> Output : variable 'ADC_mean'\n",
      "                         : Input : variable 'nhits_min' <---> Output : variable 'nhits_min'\n",
      "                         : Input : variable 'entry_dist' <---> Output : variable 'entry_dist'\n",
      "                         : Input : variable 'exit_dist' <---> Output : variable 'exit_dist'\n",
      "                         : Input : variable 'docasqrx_max' <---> Output : variable 'docasqrx_max'\n",
      "                         : Input : variable 'docasqry_max' <---> Output : variable 'docasqry_max'\n",
      "<HEADER> TFHandler_Factory        :     Variable            Mean            RMS    [        Min            Max ]\n",
      "                         : -------------------------------------------------------------------------------\n",
      "                         :     ADC_mean:        1781.7        1300.1   [        201.00        3722.9 ]\n",
      "                         :    nhits_min:        58.312        48.398   [        0.0000        1868.0 ]\n",
      "                         :   entry_dist:        24.712        77.262   [    1.4146e-06        761.62 ]\n",
      "                         :    exit_dist:        86.845        158.14   [    6.1127e-06        761.10 ]\n",
      "                         : docasqrx_max:        221.14        7932.0   [        0.0000    2.1505e+06 ]\n",
      "                         : docasqry_max:        75.150        890.23   [        0.0000    1.7123e+06 ]\n",
      "                         : -------------------------------------------------------------------------------\n",
      "                         : Ranking input variables (method unspecific)...\n",
      "<HEADER> IdTransformation         : Ranking result (top variable is best ranked)\n",
      "                         : -------------------------------------\n",
      "                         : Rank : Variable     : Separation\n",
      "                         : -------------------------------------\n",
      "                         :    1 : ADC_mean     : 9.037e-01\n",
      "                         :    2 : exit_dist    : 2.824e-01\n",
      "                         :    3 : nhits_min    : 2.820e-01\n",
      "                         :    4 : docasqry_max : 1.098e-01\n",
      "                         :    5 : entry_dist   : 6.222e-02\n",
      "                         :    6 : docasqrx_max : 1.590e-04\n",
      "                         : -------------------------------------\n",
      "<HEADER> Factory                  : Train method: BDTV1 for Classification\n",
      "                         : \n",
      "<HEADER> BDTV1                    : #events: (reweighted) sig: 7.83553e+06 bkg: 7.83553e+06\n",
      "                         : #events: (unweighted) sig: 1259600 bkg: 14411455\n",
      "                         : Training 300 Decision Trees ... patience please\n",
      "                         : Elapsed time for training with 15671055 events: 2.79e+03 sec         \n",
      "<HEADER> BDTV1                    : [dataset] : Evaluation of BDTV1 on training sample (15671055 events)\n",
      "                         : Elapsed time for evaluation of 15671055 events: 388 sec       \n",
      "                         : Creating xml weight file: dataset/weights/tmvaTest_BDTV1.weights.xml\n",
      "                         : Creating standalone class: dataset/weights/tmvaTest_BDTV1.class.C\n",
      "                         : TMVAV1.root:/dataset/Method_BDT/BDTV1\n",
      "<HEADER> Factory                  : Training finished\n",
      "                         : \n",
      "                         : Ranking input variables (method specific)...\n",
      "<HEADER> BDTV1                    : Ranking result (top variable is best ranked)\n",
      "                         : ----------------------------------------------\n",
      "                         : Rank : Variable     : Variable Importance\n",
      "                         : ----------------------------------------------\n",
      "                         :    1 : ADC_mean     : 4.753e-01\n",
      "                         :    2 : exit_dist    : 1.644e-01\n",
      "                         :    3 : entry_dist   : 1.641e-01\n",
      "                         :    4 : nhits_min    : 1.099e-01\n",
      "                         :    5 : docasqry_max : 8.627e-02\n",
      "                         :    6 : docasqrx_max : 0.000e+00\n",
      "                         : ----------------------------------------------\n",
      "<HEADER> Factory                  : === Destroy and recreate all methods via weight files for testing ===\n",
      "                         : \n",
      "                         : Reading weight file: dataset/weights/tmvaTest_BDTV1.weights.xml\n",
      "<HEADER> Factory                  : Test all methods\n",
      "<HEADER> Factory                  : Test method: BDTV1 for Classification performance\n",
      "                         : \n",
      "<HEADER> BDTV1                    : [dataset] : Evaluation of BDTV1 on testing sample (5224926 events)\n",
      "                         : Elapsed time for evaluation of 5224926 events: 148 sec       \n",
      "<HEADER> Factory                  : Evaluate all methods\n",
      "<HEADER> Factory                  : Evaluate classifier: BDTV1\n",
      "                         : \n",
      "<HEADER> BDTV1                    : [dataset] : Loop over test events and fill histograms with classifier response...\n",
      "                         : \n",
      "<HEADER> TFHandler_BDTV1          :     Variable            Mean            RMS    [        Min            Max ]\n",
      "                         : -------------------------------------------------------------------------------\n",
      "                         :     ADC_mean:        1782.5        1300.3   [        205.67        3721.9 ]\n",
      "                         :    nhits_min:        58.314        48.449   [        0.0000        1475.0 ]\n",
      "                         :   entry_dist:        24.723        77.266   [    1.1319e-06        760.91 ]\n",
      "                         :    exit_dist:        86.805        158.13   [    8.2739e-06        761.03 ]\n",
      "                         : docasqrx_max:        221.17        7931.0   [        0.0000    1.9926e+06 ]\n",
      "                         : docasqry_max:        75.184        802.05   [        0.0000    9.8154e+05 ]\n",
      "                         : -------------------------------------------------------------------------------\n",
      "                         : \n",
      "                         : Evaluation results ranked by best signal efficiency and purity (area)\n",
      "                         : -------------------------------------------------------------------------------------------------------------------\n",
      "                         : DataSet       MVA                       \n",
      "                         : Name:         Method:          ROC-integ\n",
      "                         : dataset       BDTV1          : 0.997\n",
      "                         : -------------------------------------------------------------------------------------------------------------------\n",
      "                         : \n",
      "                         : Testing efficiency compared to training efficiency (overtraining check)\n",
      "                         : -------------------------------------------------------------------------------------------------------------------\n",
      "                         : DataSet              MVA              Signal efficiency: from test sample (from training sample) \n",
      "                         : Name:                Method:          @B=0.01             @B=0.10            @B=0.30   \n",
      "                         : -------------------------------------------------------------------------------------------------------------------\n",
      "                         : dataset              BDTV1          : 0.940 (0.940)       0.993 (0.993)      1.000 (1.000)\n",
      "                         : -------------------------------------------------------------------------------------------------------------------\n",
      "                         : \n",
      "<HEADER> Dataset:dataset          : Created tree 'TestTree' with 5224926 events\n",
      "                         : \n",
      "<HEADER> Dataset:dataset          : Created tree 'TrainTree' with 15671055 events\n",
      "                         : \n",
      "<HEADER> Factory                  : Thank you for using TMVA!\n",
      "                         : For citation information, please visit: http://tmva.sf.net/citeTMVA.html\n"
     ]
    },
    {
     "name": "stderr",
     "output_type": "stream",
     "text": [
      "0%, time left: unknown\n",
      "6%, time left: 27 mins\n",
      "13%, time left: 25 mins\n",
      "19%, time left: 22 mins\n",
      "25%, time left: 20 mins\n",
      "31%, time left: 18 mins\n",
      "38%, time left: 19 mins\n",
      "44%, time left: 19 mins\n",
      "50%, time left: 17 mins\n",
      "56%, time left: 15 mins\n",
      "63%, time left: 13 mins\n",
      "69%, time left: 11 mins\n",
      "75%, time left: 9 mins\n",
      "81%, time left: 7 mins\n",
      "88%, time left: 284 sec\n",
      "94%, time left: 137 sec\n",
      "0%, time left: unknown\n",
      "6%, time left: 15 mins\n",
      "12%, time left: 13 mins\n",
      "18%, time left: 10 mins\n",
      "25%, time left: 7 mins\n",
      "31%, time left: 6 mins\n",
      "37%, time left: 5 mins\n",
      "43%, time left: 259 sec\n",
      "50%, time left: 224 sec\n",
      "56%, time left: 189 sec\n",
      "62%, time left: 156 sec\n",
      "68%, time left: 130 sec\n",
      "75%, time left: 98 sec\n",
      "81%, time left: 73 sec\n",
      "87%, time left: 48 sec\n",
      "93%, time left: 23 sec\n",
      "0%, time left: unknown\n",
      "6%, time left: 13 mins\n",
      "12%, time left: 8 mins\n",
      "18%, time left: 5 mins\n",
      "25%, time left: 249 sec\n",
      "31%, time left: 196 sec\n",
      "37%, time left: 158 sec\n",
      "43%, time left: 128 sec\n",
      "50%, time left: 102 sec\n",
      "56%, time left: 87 sec\n",
      "62%, time left: 71 sec\n",
      "68%, time left: 56 sec\n",
      "75%, time left: 40 sec\n",
      "81%, time left: 29 sec\n",
      "87%, time left: 18 sec\n",
      "93%, time left: 9 sec\n"
     ]
    }
   ],
   "source": [
    "#Train, Test and Evaluate all methods\n",
    "factory.TrainAllMethods()\n",
    "factory.TestAllMethods()\n",
    "factory.EvaluateAllMethods()"
   ]
  },
  {
   "cell_type": "code",
   "execution_count": 9,
   "id": "a3c3318d",
   "metadata": {},
   "outputs": [
    {
     "name": "stdout",
     "output_type": "stream",
     "text": [
      "wrote root file TMVA.root\n",
      "TMVA analysis is done\n"
     ]
    }
   ],
   "source": [
    "#Save output and finish up\n",
    "outputFile.Close()\n",
    "print(\"wrote root file TMVA.root\")\n",
    "print(\"TMVA analysis is done\")"
   ]
  },
  {
   "cell_type": "code",
   "execution_count": null,
   "id": "54547fe8",
   "metadata": {},
   "outputs": [],
   "source": []
  }
 ],
 "metadata": {
  "kernelspec": {
   "display_name": "Python 3",
   "language": "python",
   "name": "python3"
  },
  "language_info": {
   "codemirror_mode": {
    "name": "ipython",
    "version": 3
   },
   "file_extension": ".py",
   "mimetype": "text/x-python",
   "name": "python",
   "nbconvert_exporter": "python",
   "pygments_lexer": "ipython3",
   "version": "3.10.12"
  }
 },
 "nbformat": 4,
 "nbformat_minor": 5
}
