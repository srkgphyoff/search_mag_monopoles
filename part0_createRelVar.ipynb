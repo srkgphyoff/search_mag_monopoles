{
 "cells": [
  {
   "cell_type": "markdown",
   "id": "ce458235",
   "metadata": {},
   "source": [
    "## Creating Relevant Input Variables"
   ]
  },
  {
   "cell_type": "code",
   "execution_count": 1,
   "id": "3eef5b69",
   "metadata": {},
   "outputs": [],
   "source": [
    "import ROOT"
   ]
  },
  {
   "cell_type": "code",
   "execution_count": 2,
   "id": "2860fb46",
   "metadata": {},
   "outputs": [],
   "source": [
    "df = ROOT.RDataFrame(\"InputTreeBg\", \"inputBg.root\")"
   ]
  },
  {
   "cell_type": "code",
   "execution_count": 4,
   "id": "007ef8b2",
   "metadata": {},
   "outputs": [
    {
     "data": {
      "text/plain": [
       "31304396"
      ]
     },
     "execution_count": 4,
     "metadata": {},
     "output_type": "execute_result"
    }
   ],
   "source": [
    "df.GetColumnNames()\n",
    "df.Count().GetValue()"
   ]
  },
  {
   "cell_type": "markdown",
   "id": "a273a3fd",
   "metadata": {},
   "source": [
    "First we remove NULL events"
   ]
  },
  {
   "cell_type": "code",
   "execution_count": 5,
   "id": "1fbf2024",
   "metadata": {},
   "outputs": [],
   "source": [
    "df = df.Filter(\"nxhits+nyhits > 0\")"
   ]
  },
  {
   "cell_type": "markdown",
   "id": "77760828",
   "metadata": {},
   "source": [
    "### 0) nhits_min"
   ]
  },
  {
   "cell_type": "markdown",
   "id": "d71fe89e",
   "metadata": {},
   "source": [
    "Here, we define the variable nhits_min = min{nxhits, nyhits}"
   ]
  },
  {
   "cell_type": "code",
   "execution_count": 6,
   "id": "734e576f",
   "metadata": {},
   "outputs": [
    {
     "data": {
      "text/plain": [
       "True"
      ]
     },
     "execution_count": 6,
     "metadata": {},
     "output_type": "execute_result"
    }
   ],
   "source": [
    "ROOT.gInterpreter.Declare(\"\"\"\n",
    "int findMinhits(int nxhits, int nyhits){\n",
    "        if (nxhits < nyhits)                  \n",
    "            return nxhits;\n",
    "        else \n",
    "            return nyhits;\n",
    "}\n",
    "\"\"\")"
   ]
  },
  {
   "cell_type": "code",
   "execution_count": 7,
   "id": "afbad30d",
   "metadata": {},
   "outputs": [],
   "source": [
    "df = df.Define(\"nhits_min\", \"findMinhits(nxhits, nyhits)\")"
   ]
  },
  {
   "cell_type": "markdown",
   "id": "5d7a7c6b",
   "metadata": {},
   "source": [
    "### 1) Track Length"
   ]
  },
  {
   "cell_type": "markdown",
   "id": "9c95b17e",
   "metadata": {},
   "source": [
    "First we have a look at TVector3 class in ROOT"
   ]
  },
  {
   "cell_type": "code",
   "execution_count": 8,
   "id": "896937e4",
   "metadata": {},
   "outputs": [
    {
     "data": {
      "text/plain": [
       "5.196152422706632"
      ]
     },
     "execution_count": 8,
     "metadata": {},
     "output_type": "execute_result"
    }
   ],
   "source": [
    "v1 = ROOT.TVector3(1.0, 2.0, 3.0)\n",
    "v2 = ROOT.TVector3(4.0, 5.0, 6.0)\n",
    "\n",
    "(v1-v2).Mag()"
   ]
  },
  {
   "cell_type": "markdown",
   "id": "b413fd5f",
   "metadata": {},
   "source": [
    "Here, we define a function in C++ which takes in Input (Xi, Yi, Zi, Xf, Yf, Zf) and returns the distance between these points. This will give us the Track Length."
   ]
  },
  {
   "cell_type": "code",
   "execution_count": 9,
   "id": "e510ef2e",
   "metadata": {},
   "outputs": [
    {
     "data": {
      "text/plain": [
       "True"
      ]
     },
     "execution_count": 9,
     "metadata": {},
     "output_type": "execute_result"
    }
   ],
   "source": [
    "ROOT.gInterpreter.Declare('''\n",
    "double FindDistance(double Xi, double Yi, double Zi, double Xf, double Yf, double Zf){\n",
    "        TVector3 Pi(Xi, Yi, Zi);\n",
    "        TVector3 Pf(Xf, Yf, Zf);\n",
    "        return (Pf-Pi).Mag();                \n",
    "}\n",
    "''')\n"
   ]
  },
  {
   "cell_type": "markdown",
   "id": "ea4dd952",
   "metadata": {},
   "source": [
    "Now, we can use this function to define a new column in dataframe for Track Length"
   ]
  },
  {
   "cell_type": "code",
   "execution_count": 10,
   "id": "c36560d2",
   "metadata": {},
   "outputs": [],
   "source": [
    "df = df.Define(\"Track_len\", \"FindDistance(Xi, Yi, Zi, Xf, Yf, Zf)\")"
   ]
  },
  {
   "cell_type": "markdown",
   "id": "3a0f6838",
   "metadata": {},
   "source": [
    "### 2) Time of Flight"
   ]
  },
  {
   "cell_type": "markdown",
   "id": "e3423331",
   "metadata": {},
   "source": [
    "This can be defined as \n",
    "$$\n",
    "Time\\:of\\:flight = T_f - T_i\n",
    "$$"
   ]
  },
  {
   "cell_type": "code",
   "execution_count": 11,
   "id": "4b425c4f",
   "metadata": {},
   "outputs": [],
   "source": [
    "df = df.Define(\"Tof\", \"Tf - Ti\")"
   ]
  },
  {
   "cell_type": "markdown",
   "id": "cb45e53f",
   "metadata": {},
   "source": [
    "### 3) Mean ADC"
   ]
  },
  {
   "cell_type": "markdown",
   "id": "7a8f7ebb",
   "metadata": {},
   "source": [
    "This is defined as,\n",
    "$$\n",
    "mean\\:ADC = \\frac{ADC_{tot}}{nxhits + nyhits}\n",
    "$$"
   ]
  },
  {
   "cell_type": "code",
   "execution_count": 12,
   "id": "048edc19",
   "metadata": {},
   "outputs": [],
   "source": [
    "df = df.Define(\"ADC_mean\", \"ADC_tot/(nxhits + nyhits)\")"
   ]
  },
  {
   "cell_type": "markdown",
   "id": "90fff7e2",
   "metadata": {},
   "source": [
    "### 4) EntryD"
   ]
  },
  {
   "cell_type": "markdown",
   "id": "66868a83",
   "metadata": {},
   "source": [
    "This variable is the ID of the surface through which particle entered. We do this by finding the closest surface to the initial position.\n",
    "The ID assigned is as follows,\\\n",
    "1, 6 - XY surface planes (smallest ones)\n",
    "2, 5 - XZ surface planes \n",
    "3, 4 - YZ surface planes of the detector"
   ]
  },
  {
   "cell_type": "markdown",
   "id": "f3825f3f",
   "metadata": {},
   "source": [
    "Thus, IDs with surfaces \\\n",
    "ID 1 -> zmin = 2.4 \\\n",
    "ID 2 -> xmin = -761.8 \\\n",
    "ID 3 -> ymin = -761.8 \\\n",
    "ID 4 -> ymax = 762.8 \\\n",
    "ID 5 -> xmax = 763.0 \\\n",
    "ID 6 -> zmax = 5960.0 \\"
   ]
  },
  {
   "cell_type": "code",
   "execution_count": 13,
   "id": "1b51785f",
   "metadata": {},
   "outputs": [],
   "source": [
    "# ROOT.gInterpreter.Declare(\"\"\"\n",
    "# #include<tuple>\n",
    "# std::tuple<double,double,double,double,double,double>\n",
    "# ReassignPos(double Xi, double Yi, double Zi, double Xf, double Yf, double Zf, double vrc_fit){\n",
    "#     if(vrc_fit < 0){\n",
    "#         return std::make_tuple(Xf, Yf, Zf, Xi, Yi, Zi);    \n",
    "#     }\n",
    "#     else{\n",
    "#         return std::make_tuple(Xi, Yi, Zi, Xf, Yf, Zf);                      \n",
    "#     }\n",
    "\n",
    "# }\n",
    "\n",
    "# \"\"\")"
   ]
  },
  {
   "cell_type": "code",
   "execution_count": 14,
   "id": "f47d2827",
   "metadata": {},
   "outputs": [],
   "source": [
    "# df = df.Define(\"corrected_pos\", \"ReassignPos(Xi, Yi, Zi, Xf, Yf, Zf, vrc_fit)\")"
   ]
  },
  {
   "cell_type": "code",
   "execution_count": 15,
   "id": "cda767ad",
   "metadata": {},
   "outputs": [],
   "source": [
    "# df = df.Define(\"newXi\", \"std::get<0>(corrected_pos)\")"
   ]
  },
  {
   "cell_type": "code",
   "execution_count": 16,
   "id": "42fa1fe9",
   "metadata": {},
   "outputs": [],
   "source": [
    "# df = df.Define(\"newYi\", \"std::get<1>(corrected_pos)\")\n",
    "# df = df.Define(\"newZi\", \"std::get<2>(corrected_pos)\")\n",
    "# df = df.Define(\"newXf\", \"std::get<3>(corrected_pos)\")\n",
    "# df = df.Define(\"newYf\", \"std::get<4>(corrected_pos)\")\n",
    "# df = df.Define(\"newZf\", \"std::get<5>(corrected_pos)\")"
   ]
  },
  {
   "cell_type": "code",
   "execution_count": 17,
   "id": "b3b1ebef",
   "metadata": {},
   "outputs": [
    {
     "data": {
      "text/plain": [
       "True"
      ]
     },
     "execution_count": 17,
     "metadata": {},
     "output_type": "execute_result"
    }
   ],
   "source": [
    "ROOT.gInterpreter.Declare(\"\"\"\n",
    "#include <array>\n",
    "\n",
    "std::array<double, 6> ReassignPos(double Xi, double Yi, double Zi,\n",
    "                                  double Xf, double Yf, double Zf,\n",
    "                                  double vrc_fit) {\n",
    "    if (vrc_fit < 0) {\n",
    "        return {Xf, Yf, Zf, Xi, Yi, Zi};\n",
    "    } else {\n",
    "        return {Xi, Yi, Zi, Xf, Yf, Zf};\n",
    "    }\n",
    "}\n",
    "\"\"\")"
   ]
  },
  {
   "cell_type": "code",
   "execution_count": 18,
   "id": "b5513667",
   "metadata": {},
   "outputs": [],
   "source": [
    "df = df.Define(\"reassigned\", \"ReassignPos(Xi, Yi, Zi, Xf, Yf, Zf, vrc_fit)\")\n",
    "df = df.Define(\"newXi\", \"reassigned[0]\")\\\n",
    "       .Define(\"newYi\", \"reassigned[1]\")\\\n",
    "       .Define(\"newZi\", \"reassigned[2]\")\\\n",
    "       .Define(\"newXf\", \"reassigned[3]\")\\\n",
    "       .Define(\"newYf\", \"reassigned[4]\")\\\n",
    "       .Define(\"newZf\", \"reassigned[5]\")"
   ]
  },
  {
   "cell_type": "code",
   "execution_count": 19,
   "id": "c7a0e647",
   "metadata": {},
   "outputs": [
    {
     "data": {
      "text/plain": [
       "vector<string>{ \"ADC_mean\", \"ADC_tot\", \"GeV_tot\", \"Tf\", \"Ti\", \"Tof\", \"Track_len\", \"Xf\", \"Xi\", \"Yf\", \"Yi\", \"Zf\", \"Zi\", \"docasqrx\", \"docasqrx_max\", \"docasqrx_min\", \"docasqry\", \"docasqry_max\", \"docasqry_min\", \"newXf\", \"newXi\", \"newYf\", \"newYi\", \"newZf\", \"newZi\", \"nhits_min\", \"nxhits\", \"nyhits\", \"p_cross\", \"reassigned\", \"vrc_fit\" }"
      ]
     },
     "execution_count": 19,
     "metadata": {},
     "output_type": "execute_result"
    }
   ],
   "source": [
    "df.GetColumnNames()"
   ]
  },
  {
   "cell_type": "code",
   "execution_count": 20,
   "id": "bb4b334f",
   "metadata": {},
   "outputs": [
    {
     "name": "stdout",
     "output_type": "stream",
     "text": [
      "+-----+-------------+-------------+\n",
      "| Row | Xi          | newXi       | \n",
      "+-----+-------------+-------------+\n",
      "| 0   | -436.913209 | -436.913209 | \n",
      "+-----+-------------+-------------+\n",
      "| 1   | 503.057994  | 577.615628  | \n",
      "+-----+-------------+-------------+\n",
      "| 2   | 774.411261  | 201.894478  | \n",
      "+-----+-------------+-------------+\n",
      "| 3   | 137.884575  | 137.884575  | \n",
      "+-----+-------------+-------------+\n",
      "| 4   | 384.486581  | 384.486581  | \n",
      "+-----+-------------+-------------+\n"
     ]
    }
   ],
   "source": [
    "df.Display([\"Xi\", \"newXi\"]).Print()"
   ]
  },
  {
   "cell_type": "markdown",
   "id": "712e5e50",
   "metadata": {},
   "source": [
    "Now, here we define a function in C++, which takes in position coordinates and returns the ID of closest surface as a an integer. This function could then be used for both entryD and exitD."
   ]
  },
  {
   "cell_type": "code",
   "execution_count": 21,
   "id": "8471c833",
   "metadata": {},
   "outputs": [
    {
     "data": {
      "text/plain": [
       "True"
      ]
     },
     "execution_count": 21,
     "metadata": {},
     "output_type": "execute_result"
    }
   ],
   "source": [
    "ROOT.gInterpreter.Declare('''\n",
    "#include<cmath>\n",
    "int ClosestSurface(double x, double y, double z){\n",
    "    double xmin = -761.8;\n",
    "    double xmax =  763.0;\n",
    "    double ymin = -761.8;\n",
    "    double ymax =  762.8;\n",
    "    double zmin =  2.4;\n",
    "    double zmax =  5960.0;\n",
    "\n",
    "    double arr[6] = {std::abs(z - zmin), std::abs(x - xmin), std::abs(y - ymin), std::abs(y - ymax), std::abs(x - xmax), std::abs(z - zmax)};\n",
    "\n",
    "    //We will return the index of minimum value\n",
    "    int min_index = 0;\n",
    "    double min_value = arr[0];\n",
    "\n",
    "    for (int i = 1; i < 6; ++i){\n",
    "        if (arr[i] < min_value){\n",
    "            min_value = arr[i];\n",
    "            min_index = i;                  \n",
    "        }\n",
    "    }\n",
    "\n",
    "    return min_index+1;                                       \n",
    "}\n",
    "''')"
   ]
  },
  {
   "cell_type": "markdown",
   "id": "562523b7",
   "metadata": {},
   "source": [
    "Now we use this to define an entryD column,"
   ]
  },
  {
   "cell_type": "code",
   "execution_count": 22,
   "id": "329a52da",
   "metadata": {},
   "outputs": [],
   "source": [
    "df = df.Define(\"entryD\", \"ClosestSurface(newXi, newYi, newZi)\")"
   ]
  },
  {
   "cell_type": "code",
   "execution_count": 23,
   "id": "e45ff09d",
   "metadata": {},
   "outputs": [
    {
     "name": "stdout",
     "output_type": "stream",
     "text": [
      "+-----+--------+\n",
      "| Row | entryD | \n",
      "+-----+--------+\n",
      "| 0   | 4      | \n",
      "+-----+--------+\n",
      "| 1   | 4      | \n",
      "+-----+--------+\n",
      "| 2   | 4      | \n",
      "+-----+--------+\n",
      "| 3   | 4      | \n",
      "+-----+--------+\n",
      "| 4   | 4      | \n",
      "+-----+--------+\n"
     ]
    }
   ],
   "source": [
    "df.Display(\"entryD\").Print()"
   ]
  },
  {
   "cell_type": "markdown",
   "id": "b4ce2a44",
   "metadata": {},
   "source": [
    "### 5) ExitD"
   ]
  },
  {
   "cell_type": "markdown",
   "id": "d76db3c4",
   "metadata": {},
   "source": [
    "Using the same function we can also create the column for exit surface exitD, by inputing the final position variables"
   ]
  },
  {
   "cell_type": "code",
   "execution_count": 24,
   "id": "d729dad7",
   "metadata": {},
   "outputs": [],
   "source": [
    "df = df.Define(\"exitD\", \"ClosestSurface(newXf, newYf, newZf)\")"
   ]
  },
  {
   "cell_type": "code",
   "execution_count": 25,
   "id": "bf445b02",
   "metadata": {},
   "outputs": [
    {
     "data": {
      "image/png": "[encoded data removed]",
      "text/plain": [
       "<IPython.core.display.Image object>"
      ]
     },
     "metadata": {},
     "output_type": "display_data"
    }
   ],
   "source": [
    "inHisto = df.Histo1D((\"inHisto\",\"entryD\", 6, 1, 7),\"entryD\")\n",
    "\n",
    "cin = ROOT.TCanvas()\n",
    "inHisto.Draw()\n",
    "\n",
    "cin.Draw()"
   ]
  },
  {
   "cell_type": "code",
   "execution_count": 26,
   "id": "93ca730b",
   "metadata": {},
   "outputs": [
    {
     "data": {
      "image/png": "[encoded data removed]",
      "text/plain": [
       "<IPython.core.display.Image object>"
      ]
     },
     "metadata": {},
     "output_type": "display_data"
    }
   ],
   "source": [
    "outHisto = df.Histo1D((\"outHisto\", \"exitD\", 6, 1, 7), \"exitD\")\n",
    "\n",
    "cout = ROOT.TCanvas()\n",
    "outHisto.Draw()\n",
    "cout.Draw()"
   ]
  },
  {
   "cell_type": "markdown",
   "id": "d6ee0a7a",
   "metadata": {},
   "source": [
    "### 6) entry_dist"
   ]
  },
  {
   "cell_type": "markdown",
   "id": "56b66674",
   "metadata": {},
   "source": [
    "This variable here, finds the penetration distance of particle before 1st recorded hit, i.e., distance between entry surface and (newXi, newYi, newZi)"
   ]
  },
  {
   "cell_type": "code",
   "execution_count": 27,
   "id": "5cfd3866",
   "metadata": {},
   "outputs": [
    {
     "data": {
      "text/plain": [
       "True"
      ]
     },
     "execution_count": 27,
     "metadata": {},
     "output_type": "execute_result"
    }
   ],
   "source": [
    "ROOT.gInterpreter.Declare('''\n",
    "double PenDistance(double Xi, double Yi, double Zi, int entryD){\n",
    "        double zmin =  2.4;          //ID 1\n",
    "        double xmin = -761.8;        //ID 2\n",
    "        double ymin = -761.8;        //ID 3\n",
    "        double ymax =  762.8;        //ID 4\n",
    "        double xmax =  763.0;        //ID 5\n",
    "        double zmax =  5960.0;       //ID 6\n",
    "                          \n",
    "        if (entryD == 1)\n",
    "                return std::abs(std::abs(Zi) - std::abs(zmin));\n",
    "        else if (entryD == 2)\n",
    "                return std::abs(std::abs(Xi) - std::abs(xmin));\n",
    "        else if (entryD == 3)\n",
    "                return std::abs(std::abs(Yi) - std::abs(ymin));                 \n",
    "        else if (entryD == 4)\n",
    "                return std::abs(std::abs(Yi) - std::abs(ymax));\n",
    "        else if (entryD == 5)\n",
    "                return std::abs(std::abs(Xi) - std::abs(xmax));\n",
    "        else \n",
    "                return std::abs(std::abs(Zi) - std::abs(zmax));\n",
    "}\n",
    "''')"
   ]
  },
  {
   "cell_type": "markdown",
   "id": "7d38920e",
   "metadata": {},
   "source": [
    "So, now we can find the initial penetration distance entry_dist"
   ]
  },
  {
   "cell_type": "code",
   "execution_count": 28,
   "id": "931cebbb",
   "metadata": {},
   "outputs": [],
   "source": [
    "df = df.Define(\"entry_dist\", \"PenDistance(newXi, newYi, newZi, entryD)\")"
   ]
  },
  {
   "cell_type": "code",
   "execution_count": 29,
   "id": "00112af2",
   "metadata": {},
   "outputs": [
    {
     "data": {
      "text/plain": [
       "vector<string>{ \"ADC_mean\", \"ADC_tot\", \"GeV_tot\", \"Tf\", \"Ti\", \"Tof\", \"Track_len\", \"Xf\", \"Xi\", \"Yf\", \"Yi\", \"Zf\", \"Zi\", \"docasqrx\", \"docasqrx_max\", \"docasqrx_min\", \"docasqry\", \"docasqry_max\", \"docasqry_min\", \"entryD\", \"entry_dist\", \"exitD\", \"newXf\", \"newXi\", \"newYf\", \"newYi\", \"newZf\", \"newZi\", \"nhits_min\", \"nxhits\", \"nyhits\", \"p_cross\", \"reassigned\", \"vrc_fit\" }"
      ]
     },
     "execution_count": 29,
     "metadata": {},
     "output_type": "execute_result"
    }
   ],
   "source": [
    "df.GetColumnNames()"
   ]
  },
  {
   "cell_type": "code",
   "execution_count": 30,
   "id": "d8de10df",
   "metadata": {},
   "outputs": [
    {
     "name": "stdout",
     "output_type": "stream",
     "text": [
      "+-----+------------+\n",
      "| Row | entry_dist | \n",
      "+-----+------------+\n",
      "| 0   | 5.226443   | \n",
      "+-----+------------+\n",
      "| 1   | 15.143847  | \n",
      "+-----+------------+\n",
      "| 2   | 11.414572  | \n",
      "+-----+------------+\n",
      "| 3   | 7.162200   | \n",
      "+-----+------------+\n",
      "| 4   | 3.293549   | \n",
      "+-----+------------+\n"
     ]
    }
   ],
   "source": [
    "df.Display(\"entry_dist\").Print()"
   ]
  },
  {
   "cell_type": "markdown",
   "id": "8aaa24d9",
   "metadata": {},
   "source": [
    "### 7)exit_dist"
   ]
  },
  {
   "cell_type": "markdown",
   "id": "228562d6",
   "metadata": {},
   "source": [
    "This variable is the distance between final recorded position of the particle and the exit surface(closest surface)"
   ]
  },
  {
   "cell_type": "code",
   "execution_count": 31,
   "id": "aeba0b58",
   "metadata": {},
   "outputs": [],
   "source": [
    "df = df.Define(\"exit_dist\", \"PenDistance(newXf, newYf, newZf, exitD)\")"
   ]
  },
  {
   "cell_type": "code",
   "execution_count": 32,
   "id": "09f3e8fa",
   "metadata": {},
   "outputs": [
    {
     "name": "stdout",
     "output_type": "stream",
     "text": [
      "+-----+------------+-----------+\n",
      "| Row | entry_dist | exit_dist | \n",
      "+-----+------------+-----------+\n",
      "| 0   | 5.226443   | 27.174354 | \n",
      "+-----+------------+-----------+\n",
      "| 1   | 15.143847  | 88.889212 | \n",
      "+-----+------------+-----------+\n",
      "| 2   | 11.414572  | 11.411261 | \n",
      "+-----+------------+-----------+\n",
      "| 3   | 7.162200   | 70.784760 | \n",
      "+-----+------------+-----------+\n",
      "| 4   | 3.293549   | 5.541131  | \n",
      "+-----+------------+-----------+\n"
     ]
    }
   ],
   "source": [
    "df.Display([\"entry_dist\", \"exit_dist\"]).Print()"
   ]
  },
  {
   "cell_type": "markdown",
   "id": "825e8e32",
   "metadata": {},
   "source": [
    "### 8) $\\beta$"
   ]
  },
  {
   "cell_type": "markdown",
   "id": "bc2a4cc1",
   "metadata": {},
   "source": [
    "This can be calculated (in units of cm/ns),\n",
    "$$\n",
    "beta = \\frac{vrc_{fit}}{30}\n",
    "$$"
   ]
  },
  {
   "cell_type": "code",
   "execution_count": 33,
   "id": "1469b748",
   "metadata": {},
   "outputs": [],
   "source": [
    "df = df.Define(\"beta\", \"std::abs(vrc_fit)/30\")"
   ]
  },
  {
   "cell_type": "code",
   "execution_count": 34,
   "id": "2506c1a3",
   "metadata": {},
   "outputs": [
    {
     "name": "stdout",
     "output_type": "stream",
     "text": [
      "+-----+----------+\n",
      "| Row | beta     | \n",
      "+-----+----------+\n",
      "| 0   | 0.366618 | \n",
      "+-----+----------+\n",
      "| 1   | 0.996705 | \n",
      "+-----+----------+\n",
      "| 2   | 0.844285 | \n",
      "+-----+----------+\n",
      "| 3   | 0.815834 | \n",
      "+-----+----------+\n",
      "| 4   | 0.890390 | \n",
      "+-----+----------+\n"
     ]
    }
   ],
   "source": [
    "df.Display([\"beta\"]).Print()"
   ]
  },
  {
   "cell_type": "markdown",
   "id": "3003ed9c",
   "metadata": {},
   "source": [
    "### 9) $\\log(\\frac{dE}{dx})$"
   ]
  },
  {
   "cell_type": "markdown",
   "id": "5065c781",
   "metadata": {},
   "source": [
    "This can be calculated as follows,\n",
    "$$\n",
    "\\log(\\frac{dE}{dx}) = \\frac{GeV_{tot}}{Track\\:length}\n",
    "$$"
   ]
  },
  {
   "cell_type": "code",
   "execution_count": 35,
   "id": "3bba7b8d",
   "metadata": {},
   "outputs": [],
   "source": [
    "df = df.Define(\"dEdx\", \"GeV_tot/Track_len\")"
   ]
  },
  {
   "cell_type": "code",
   "execution_count": 36,
   "id": "bfbf6439",
   "metadata": {},
   "outputs": [],
   "source": [
    "df = df.Filter(\"dEdx > 0\")"
   ]
  },
  {
   "cell_type": "code",
   "execution_count": 37,
   "id": "0107a7c2",
   "metadata": {},
   "outputs": [],
   "source": [
    "df = df.Define(\"logdEdx\", \"std::log(dEdx)\")"
   ]
  },
  {
   "cell_type": "code",
   "execution_count": 38,
   "id": "35917d09",
   "metadata": {},
   "outputs": [
    {
     "name": "stdout",
     "output_type": "stream",
     "text": [
      "+-----+-----------+\n",
      "| Row | logdEdx   | \n",
      "+-----+-----------+\n",
      "| 0   | -5.088977 | \n",
      "+-----+-----------+\n",
      "| 1   | -6.647790 | \n",
      "+-----+-----------+\n",
      "| 2   | -6.709608 | \n",
      "+-----+-----------+\n",
      "| 3   | -6.829440 | \n",
      "+-----+-----------+\n",
      "| 4   | -5.471849 | \n",
      "+-----+-----------+\n"
     ]
    }
   ],
   "source": [
    "df.Display(\"logdEdx\").Print()"
   ]
  },
  {
   "cell_type": "code",
   "execution_count": 39,
   "id": "1442c564",
   "metadata": {},
   "outputs": [
    {
     "data": {
      "text/plain": [
       "vector<string>{ \"ADC_mean\", \"ADC_tot\", \"GeV_tot\", \"Tf\", \"Ti\", \"Tof\", \"Track_len\", \"Xf\", \"Xi\", \"Yf\", \"Yi\", \"Zf\", \"Zi\", \"beta\", \"dEdx\", \"docasqrx\", \"docasqrx_max\", \"docasqrx_min\", \"docasqry\", \"docasqry_max\", \"docasqry_min\", \"entryD\", \"entry_dist\", \"exitD\", \"exit_dist\", \"logdEdx\", \"newXf\", \"newXi\", \"newYf\", \"newYi\", \"newZf\", \"newZi\", \"nhits_min\", \"nxhits\", \"nyhits\", \"p_cross\", \"reassigned\", \"vrc_fit\" }"
      ]
     },
     "execution_count": 39,
     "metadata": {},
     "output_type": "execute_result"
    }
   ],
   "source": [
    "df.GetColumnNames()"
   ]
  },
  {
   "cell_type": "markdown",
   "id": "6ac93336",
   "metadata": {},
   "source": [
    "### 10) docasqrx_mean and docasqry_mean"
   ]
  },
  {
   "cell_type": "code",
   "execution_count": 40,
   "id": "a67079d3",
   "metadata": {},
   "outputs": [],
   "source": [
    "df = df.Define(\"docasqrx_mean\", \"docasqrx/nxhits\")\n",
    "df = df.Define(\"docasqry_mean\", \"docasqry/nyhits\")"
   ]
  },
  {
   "cell_type": "code",
   "execution_count": 41,
   "id": "e6daa7c4",
   "metadata": {},
   "outputs": [
    {
     "data": {
      "text/plain": [
       "vector<string>{ \"ADC_mean\", \"ADC_tot\", \"GeV_tot\", \"Tf\", \"Ti\", \"Tof\", \"Track_len\", \"Xf\", \"Xi\", \"Yf\", \"Yi\", \"Zf\", \"Zi\", \"beta\", \"dEdx\", \"docasqrx\", \"docasqrx_max\", \"docasqrx_mean\", \"docasqrx_min\", \"docasqry\", \"docasqry_max\", \"docasqry_mean\", \"docasqry_min\", \"entryD\", \"entry_dist\", \"exitD\", \"exit_dist\", \"logdEdx\", \"newXf\", \"newXi\", \"newYf\", \"newYi\", \"newZf\", \"newZi\", \"nhits_min\", \"nxhits\", \"nyhits\", \"p_cross\", \"reassigned\", \"vrc_fit\" }"
      ]
     },
     "execution_count": 41,
     "metadata": {},
     "output_type": "execute_result"
    }
   ],
   "source": [
    "df.GetColumnNames()"
   ]
  },
  {
   "cell_type": "code",
   "execution_count": 42,
   "id": "2a4680e1",
   "metadata": {},
   "outputs": [
    {
     "data": {
      "text/plain": [
       "<cppyy.gbl.ROOT.RDF.RResultPtr<ROOT::RDF::RInterface<ROOT::Detail::RDF::RLoopManager,void> > object at 0x568a5bed7a00>"
      ]
     },
     "execution_count": 42,
     "metadata": {},
     "output_type": "execute_result"
    }
   ],
   "source": [
    "df.Snapshot(\"OutputTreeBg\", \"outputBg.root\")"
   ]
  },
  {
   "cell_type": "code",
   "execution_count": null,
   "id": "d30d6cac",
   "metadata": {},
   "outputs": [],
   "source": []
  }
 ],
 "metadata": {
  "kernelspec": {
   "display_name": "Python 3",
   "language": "python",
   "name": "python3"
  },
  "language_info": {
   "codemirror_mode": {
    "name": "ipython",
    "version": 3
   },
   "file_extension": ".py",
   "mimetype": "text/x-python",
   "name": "python",
   "nbconvert_exporter": "python",
   "pygments_lexer": "ipython3",
   "version": "3.10.12"
  }
 },
 "nbformat": 4,
 "nbformat_minor": 5
}
