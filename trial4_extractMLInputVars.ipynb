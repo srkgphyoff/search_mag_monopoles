{
 "cells": [
  {
   "cell_type": "code",
   "execution_count": 2,
   "id": "ff63f136",
   "metadata": {},
   "outputs": [],
   "source": [
    "import ROOT"
   ]
  },
  {
   "cell_type": "code",
   "execution_count": 2,
   "id": "3de2aa31",
   "metadata": {},
   "outputs": [
    {
     "data": {
      "text/plain": [
       "<cppyy.gbl.ROOT.RDF.RResultPtr<ROOT::RDF::RInterface<ROOT::Detail::RDF::RLoopManager,void> > object at 0x5c2943c91390>"
      ]
     },
     "execution_count": 2,
     "metadata": {},
     "output_type": "execute_result"
    }
   ],
   "source": [
    "#Signal\n",
    "dfs = ROOT.RDataFrame(\"sig\", \"dataSig.root\")\n",
    "dfs.Snapshot(\"sig\", \"modelInputData/fulldataSig.root\", [\"ADC_mean\", \"nhits_min\", \"entry_dist\", \"exit_dist\", \"docasqrx_max\", \"docasqry_max\"])"
   ]
  },
  {
   "cell_type": "code",
   "execution_count": 3,
   "id": "f28f86a2",
   "metadata": {},
   "outputs": [
    {
     "data": {
      "text/plain": [
       "<cppyy.gbl.ROOT.RDF.RResultPtr<ROOT::RDF::RInterface<ROOT::Detail::RDF::RLoopManager,void> > object at 0x5c29493fa9f0>"
      ]
     },
     "execution_count": 3,
     "metadata": {},
     "output_type": "execute_result"
    }
   ],
   "source": [
    "#Background\n",
    "dfs = ROOT.RDataFrame(\"bkg\", \"dataBkg.root\")\n",
    "dfs.Snapshot(\"bkg\", \"modelInputData/fulldataBkg.root\", [\"ADC_mean\", \"nhits_min\", \"entry_dist\", \"exit_dist\", \"docasqrx_max\", \"docasqry_max\"])"
   ]
  },
  {
   "cell_type": "code",
   "execution_count": 3,
   "id": "2fbc8dc2",
   "metadata": {},
   "outputs": [
    {
     "data": {
      "text/plain": [
       "<cppyy.gbl.ROOT.RDF.RResultPtr<ROOT::RDF::RInterface<ROOT::Detail::RDF::RLoopManager,void> > object at 0x5971d4c00dd0>"
      ]
     },
     "execution_count": 3,
     "metadata": {},
     "output_type": "execute_result"
    }
   ],
   "source": [
    "#Monopole\n",
    "df = ROOT.RDataFrame(\"MonopoleTree\", \"monopoleData.root\")\n",
    "df.Snapshot(\"MonopoleTree\", \"monopoleData.root\", [\"ADC_mean\", \"nhits_min\", \"entry_dist\", \"exit_dist\", \"docasqrx_max\", \"docasqry_max\"])"
   ]
  },
  {
   "cell_type": "code",
   "execution_count": null,
   "id": "607a3fe8",
   "metadata": {},
   "outputs": [],
   "source": []
  }
 ],
 "metadata": {
  "kernelspec": {
   "display_name": "Python 3",
   "language": "python",
   "name": "python3"
  },
  "language_info": {
   "codemirror_mode": {
    "name": "ipython",
    "version": 3
   },
   "file_extension": ".py",
   "mimetype": "text/x-python",
   "name": "python",
   "nbconvert_exporter": "python",
   "pygments_lexer": "ipython3",
   "version": "3.10.12"
  }
 },
 "nbformat": 4,
 "nbformat_minor": 5
}
